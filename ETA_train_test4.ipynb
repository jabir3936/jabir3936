{
 "cells": [
  {
   "cell_type": "code",
   "execution_count": 27,
   "metadata": {
    "colab": {
     "base_uri": "https://localhost:8080/",
     "height": 51
    },
    "gather": {
     "logged": 1603896031483
    },
    "id": "56QVndj0O2B2",
    "outputId": "68bcf57e-5217-474c-d8f8-74c11c53f7c2"
   },
   "outputs": [
    {
     "name": "stdout",
     "output_type": "stream",
     "text": [
      "Requirement already satisfied: geopy in /anaconda/envs/azureml_py36/lib/python3.6/site-packages (2.0.0)\n",
      "Requirement already satisfied: geographiclib<2,>=1.49 in /anaconda/envs/azureml_py36/lib/python3.6/site-packages (from geopy) (1.50)\n",
      "Requirement already satisfied: hyperopt in /anaconda/envs/azureml_py36/lib/python3.6/site-packages (0.2.5)\n",
      "Requirement already satisfied: tqdm in /anaconda/envs/azureml_py36/lib/python3.6/site-packages (from hyperopt) (4.50.1)\n",
      "Requirement already satisfied: networkx>=2.2 in /anaconda/envs/azureml_py36/lib/python3.6/site-packages (from hyperopt) (2.5)\n",
      "Requirement already satisfied: scipy in /anaconda/envs/azureml_py36/lib/python3.6/site-packages (from hyperopt) (1.4.1)\n",
      "Requirement already satisfied: six in /anaconda/envs/azureml_py36/lib/python3.6/site-packages (from hyperopt) (1.15.0)\n",
      "Requirement already satisfied: numpy in /anaconda/envs/azureml_py36/lib/python3.6/site-packages (from hyperopt) (1.18.5)\n",
      "Requirement already satisfied: future in /anaconda/envs/azureml_py36/lib/python3.6/site-packages (from hyperopt) (0.18.2)\n",
      "Requirement already satisfied: cloudpickle in /anaconda/envs/azureml_py36/lib/python3.6/site-packages (from hyperopt) (1.6.0)\n",
      "Requirement already satisfied: decorator>=4.3.0 in /anaconda/envs/azureml_py36/lib/python3.6/site-packages (from networkx>=2.2->hyperopt) (4.4.2)\n",
      "Requirement already satisfied: tpot in /anaconda/envs/azureml_py36/lib/python3.6/site-packages (0.11.5)\n",
      "Requirement already satisfied: scikit-learn>=0.22.0 in /anaconda/envs/azureml_py36/lib/python3.6/site-packages (from tpot) (0.22.2.post1)\n",
      "Requirement already satisfied: joblib>=0.13.2 in /anaconda/envs/azureml_py36/lib/python3.6/site-packages (from tpot) (0.14.1)\n",
      "Requirement already satisfied: scipy>=1.3.1 in /anaconda/envs/azureml_py36/lib/python3.6/site-packages (from tpot) (1.4.1)\n",
      "Requirement already satisfied: tqdm>=4.36.1 in /anaconda/envs/azureml_py36/lib/python3.6/site-packages (from tpot) (4.50.1)\n",
      "Requirement already satisfied: stopit>=1.1.1 in /anaconda/envs/azureml_py36/lib/python3.6/site-packages (from tpot) (1.1.2)\n",
      "Requirement already satisfied: numpy>=1.16.3 in /anaconda/envs/azureml_py36/lib/python3.6/site-packages (from tpot) (1.18.5)\n",
      "Requirement already satisfied: pandas>=0.24.2 in /anaconda/envs/azureml_py36/lib/python3.6/site-packages (from tpot) (0.25.3)\n",
      "Requirement already satisfied: deap>=1.2 in /anaconda/envs/azureml_py36/lib/python3.6/site-packages (from tpot) (1.3.1)\n",
      "Requirement already satisfied: update-checker>=0.16 in /anaconda/envs/azureml_py36/lib/python3.6/site-packages (from tpot) (0.18.0)\n",
      "Requirement already satisfied: python-dateutil>=2.6.1 in /anaconda/envs/azureml_py36/lib/python3.6/site-packages (from pandas>=0.24.2->tpot) (2.8.1)\n",
      "Requirement already satisfied: pytz>=2017.2 in /anaconda/envs/azureml_py36/lib/python3.6/site-packages (from pandas>=0.24.2->tpot) (2020.1)\n",
      "Requirement already satisfied: requests>=2.3.0 in /anaconda/envs/azureml_py36/lib/python3.6/site-packages (from update-checker>=0.16->tpot) (2.24.0)\n",
      "Requirement already satisfied: six>=1.5 in /anaconda/envs/azureml_py36/lib/python3.6/site-packages (from python-dateutil>=2.6.1->pandas>=0.24.2->tpot) (1.15.0)\n",
      "Requirement already satisfied: urllib3!=1.25.0,!=1.25.1,<1.26,>=1.21.1 in /anaconda/envs/azureml_py36/lib/python3.6/site-packages (from requests>=2.3.0->update-checker>=0.16->tpot) (1.25.10)\n",
      "Requirement already satisfied: chardet<4,>=3.0.2 in /anaconda/envs/azureml_py36/lib/python3.6/site-packages (from requests>=2.3.0->update-checker>=0.16->tpot) (3.0.4)\n",
      "Requirement already satisfied: certifi>=2017.4.17 in /anaconda/envs/azureml_py36/lib/python3.6/site-packages (from requests>=2.3.0->update-checker>=0.16->tpot) (2020.6.20)\n",
      "Requirement already satisfied: idna<3,>=2.5 in /anaconda/envs/azureml_py36/lib/python3.6/site-packages (from requests>=2.3.0->update-checker>=0.16->tpot) (2.10)\n",
      "Requirement already satisfied: xgboost in /anaconda/envs/azureml_py36/lib/python3.6/site-packages (0.90)\n",
      "Requirement already satisfied: scipy in /anaconda/envs/azureml_py36/lib/python3.6/site-packages (from xgboost) (1.4.1)\n",
      "Requirement already satisfied: numpy in /anaconda/envs/azureml_py36/lib/python3.6/site-packages (from xgboost) (1.18.5)\n",
      "Requirement already up-to-date: jupyter_client in /anaconda/envs/azureml_py36/lib/python3.6/site-packages (6.1.7)\n",
      "Requirement already satisfied, skipping upgrade: traitlets in /anaconda/envs/azureml_py36/lib/python3.6/site-packages (from jupyter_client) (4.3.3)\n",
      "Requirement already satisfied, skipping upgrade: python-dateutil>=2.1 in /anaconda/envs/azureml_py36/lib/python3.6/site-packages (from jupyter_client) (2.8.1)\n",
      "Requirement already satisfied, skipping upgrade: tornado>=4.1 in /anaconda/envs/azureml_py36/lib/python3.6/site-packages (from jupyter_client) (6.0.4)\n",
      "Requirement already satisfied, skipping upgrade: pyzmq>=13 in /anaconda/envs/azureml_py36/lib/python3.6/site-packages (from jupyter_client) (19.0.2)\n",
      "Requirement already satisfied, skipping upgrade: jupyter-core>=4.6.0 in /anaconda/envs/azureml_py36/lib/python3.6/site-packages (from jupyter_client) (4.6.3)\n",
      "Requirement already satisfied, skipping upgrade: decorator in /anaconda/envs/azureml_py36/lib/python3.6/site-packages (from traitlets->jupyter_client) (4.4.2)\n",
      "Requirement already satisfied, skipping upgrade: ipython-genutils in /anaconda/envs/azureml_py36/lib/python3.6/site-packages (from traitlets->jupyter_client) (0.2.0)\n",
      "Requirement already satisfied, skipping upgrade: six in /anaconda/envs/azureml_py36/lib/python3.6/site-packages (from traitlets->jupyter_client) (1.15.0)\n",
      "Config option `kernel_spec_manager_class` not recognized by `EnableNBExtensionApp`.\n",
      "Enabling notebook extension jupyter-js-widgets/extension...\n",
      "      - Validating: \u001b[32mOK\u001b[0m\n"
     ]
    }
   ],
   "source": [
    "!pip install geopy\n",
    "from sklearn import preprocessing\n",
    "import numpy as np\n",
    "import pandas as pd\n",
    "import glob\n",
    "import geopy\n",
    "import geopy.distance\n",
    "import datetime\n",
    "import sys\n",
    "import time\n",
    "#Training part of the data\n",
    "\n",
    "from pandas.plotting import scatter_matrix\n",
    "from matplotlib import pyplot\n",
    "from sklearn.model_selection import train_test_split\n",
    "from sklearn.model_selection import cross_val_score\n",
    "from sklearn.model_selection import StratifiedKFold\n",
    "from sklearn.ensemble import RandomForestRegressor\n",
    "from sklearn.ensemble import RandomForestClassifier\n",
    "from sklearn.metrics import classification_report\n",
    "from sklearn.metrics import confusion_matrix\n",
    "from sklearn.metrics import accuracy_score\n",
    "from sklearn.linear_model import LogisticRegression\n",
    "from sklearn.tree import DecisionTreeClassifier\n",
    "from sklearn.neighbors import KNeighborsClassifier\n",
    "from sklearn.discriminant_analysis import LinearDiscriminantAnalysis\n",
    "from sklearn.naive_bayes import GaussianNB\n",
    "from sklearn.svm import SVC\n",
    "from sklearn.metrics import mean_squared_error\n",
    "from sklearn.model_selection import RandomizedSearchCV\n",
    "from sklearn.model_selection import GridSearchCV\n",
    "from sklearn.impute import SimpleImputer\n",
    "\n",
    "import matplotlib.pyplot as plt\n",
    "\n",
    "!pip install hyperopt\n",
    "from hyperopt import fmin, tpe, hp,STATUS_OK, Trials\n",
    "\n",
    "!pip install tpot\n",
    "!pip install xgboost\n",
    "#pip install IProgress\n",
    "#!pip install ipywidgets\n",
    "!pip install --upgrade jupyter_client\n",
    "!jupyter nbextension enable --py widgetsnbextension --sys-prefix\n",
    "#Tuning using genetic algorithim using TPOT library. install using ' pip install tpot ''\n",
    "\n",
    "from tpot import TPOTRegressor\n",
    "#from ipywidgets import IntProgres"
   ]
  },
  {
   "cell_type": "code",
   "execution_count": 37,
   "metadata": {
    "colab": {
     "base_uri": "https://localhost:8080/",
     "height": 51
    },
    "gather": {
     "logged": 1603549363996
    },
    "id": "wICY1d1HPLUg",
    "outputId": "b296bca6-2087-427b-ee5d-69f6dd3bf02b"
   },
   "outputs": [],
   "source": [
    "# #only works with google hosted runtime \n",
    "# from google.colab import drive\n",
    "# drive.flush_and_unmount()\n",
    "# drive.mount('/content/drive')"
   ]
  },
  {
   "cell_type": "markdown",
   "metadata": {
    "colab": {
     "base_uri": "https://localhost:8080/",
     "height": 419
    },
    "gather": {
     "logged": 1603896033850
    },
    "id": "VSbOpXeJPWTS",
    "outputId": "3e49367e-07ad-446b-ae68-5b10ace540e6"
   },
   "source": [
    "# Regression Training Experiment\n",
    "\n",
    "For the regression training , we will be using the 'final_ship_data' file which contains the preprocessed data of ships coming from both the Northern and Southern Routes."
   ]
  },
  {
   "cell_type": "code",
   "execution_count": 28,
   "metadata": {
    "colab": {
     "base_uri": "https://localhost:8080/",
     "height": 419
    },
    "gather": {
     "logged": 1603896033850
    },
    "id": "VSbOpXeJPWTS",
    "outputId": "3e49367e-07ad-446b-ae68-5b10ace540e6"
   },
   "outputs": [
    {
     "data": {
      "text/html": [
       "<div>\n",
       "<style scoped>\n",
       "    .dataframe tbody tr th:only-of-type {\n",
       "        vertical-align: middle;\n",
       "    }\n",
       "\n",
       "    .dataframe tbody tr th {\n",
       "        vertical-align: top;\n",
       "    }\n",
       "\n",
       "    .dataframe thead th {\n",
       "        text-align: right;\n",
       "    }\n",
       "</style>\n",
       "<table border=\"1\" class=\"dataframe\">\n",
       "  <thead>\n",
       "    <tr style=\"text-align: right;\">\n",
       "      <th></th>\n",
       "      <th>Length</th>\n",
       "      <th>Breadth</th>\n",
       "      <th>Draught</th>\n",
       "      <th>Longitude</th>\n",
       "      <th>Latitude</th>\n",
       "      <th>SOG</th>\n",
       "      <th>ETA</th>\n",
       "      <th>Distance remaining</th>\n",
       "      <th>speed</th>\n",
       "    </tr>\n",
       "  </thead>\n",
       "  <tbody>\n",
       "    <tr>\n",
       "      <th>0</th>\n",
       "      <td>152.0</td>\n",
       "      <td>24.0</td>\n",
       "      <td>6.8</td>\n",
       "      <td>5.838777</td>\n",
       "      <td>53.63944</td>\n",
       "      <td>14.3</td>\n",
       "      <td>12.685507</td>\n",
       "      <td>440.630956</td>\n",
       "      <td>34.734991</td>\n",
       "    </tr>\n",
       "    <tr>\n",
       "      <th>1</th>\n",
       "      <td>152.0</td>\n",
       "      <td>24.0</td>\n",
       "      <td>6.8</td>\n",
       "      <td>5.845800</td>\n",
       "      <td>53.64076</td>\n",
       "      <td>14.3</td>\n",
       "      <td>12.667177</td>\n",
       "      <td>439.857752</td>\n",
       "      <td>34.724213</td>\n",
       "    </tr>\n",
       "    <tr>\n",
       "      <th>2</th>\n",
       "      <td>152.0</td>\n",
       "      <td>24.0</td>\n",
       "      <td>6.8</td>\n",
       "      <td>5.852149</td>\n",
       "      <td>53.64198</td>\n",
       "      <td>14.3</td>\n",
       "      <td>12.650496</td>\n",
       "      <td>439.158871</td>\n",
       "      <td>34.714754</td>\n",
       "    </tr>\n",
       "    <tr>\n",
       "      <th>3</th>\n",
       "      <td>152.0</td>\n",
       "      <td>24.0</td>\n",
       "      <td>6.8</td>\n",
       "      <td>5.858515</td>\n",
       "      <td>53.64320</td>\n",
       "      <td>14.3</td>\n",
       "      <td>12.633836</td>\n",
       "      <td>438.458162</td>\n",
       "      <td>34.705070</td>\n",
       "    </tr>\n",
       "    <tr>\n",
       "      <th>4</th>\n",
       "      <td>152.0</td>\n",
       "      <td>24.0</td>\n",
       "      <td>6.8</td>\n",
       "      <td>5.864876</td>\n",
       "      <td>53.64441</td>\n",
       "      <td>14.3</td>\n",
       "      <td>12.617179</td>\n",
       "      <td>437.758031</td>\n",
       "      <td>34.695397</td>\n",
       "    </tr>\n",
       "    <tr>\n",
       "      <th>...</th>\n",
       "      <td>...</td>\n",
       "      <td>...</td>\n",
       "      <td>...</td>\n",
       "      <td>...</td>\n",
       "      <td>...</td>\n",
       "      <td>...</td>\n",
       "      <td>...</td>\n",
       "      <td>...</td>\n",
       "      <td>...</td>\n",
       "    </tr>\n",
       "    <tr>\n",
       "      <th>186520</th>\n",
       "      <td>229.0</td>\n",
       "      <td>38.0</td>\n",
       "      <td>13.3</td>\n",
       "      <td>9.806900</td>\n",
       "      <td>53.55355</td>\n",
       "      <td>7.4</td>\n",
       "      <td>0.083519</td>\n",
       "      <td>1.808408</td>\n",
       "      <td>21.652544</td>\n",
       "    </tr>\n",
       "    <tr>\n",
       "      <th>186521</th>\n",
       "      <td>229.0</td>\n",
       "      <td>38.0</td>\n",
       "      <td>13.3</td>\n",
       "      <td>9.810224</td>\n",
       "      <td>53.55293</td>\n",
       "      <td>7.3</td>\n",
       "      <td>0.066774</td>\n",
       "      <td>1.434516</td>\n",
       "      <td>21.483189</td>\n",
       "    </tr>\n",
       "    <tr>\n",
       "      <th>186522</th>\n",
       "      <td>229.0</td>\n",
       "      <td>38.0</td>\n",
       "      <td>13.3</td>\n",
       "      <td>9.813442</td>\n",
       "      <td>53.55230</td>\n",
       "      <td>7.2</td>\n",
       "      <td>0.049974</td>\n",
       "      <td>1.071975</td>\n",
       "      <td>21.450709</td>\n",
       "    </tr>\n",
       "    <tr>\n",
       "      <th>186523</th>\n",
       "      <td>229.0</td>\n",
       "      <td>38.0</td>\n",
       "      <td>13.3</td>\n",
       "      <td>9.816650</td>\n",
       "      <td>53.55172</td>\n",
       "      <td>7.1</td>\n",
       "      <td>0.033443</td>\n",
       "      <td>0.711492</td>\n",
       "      <td>21.275079</td>\n",
       "    </tr>\n",
       "    <tr>\n",
       "      <th>186524</th>\n",
       "      <td>229.0</td>\n",
       "      <td>38.0</td>\n",
       "      <td>13.3</td>\n",
       "      <td>9.819812</td>\n",
       "      <td>53.55116</td>\n",
       "      <td>7.1</td>\n",
       "      <td>0.016667</td>\n",
       "      <td>0.356400</td>\n",
       "      <td>21.383975</td>\n",
       "    </tr>\n",
       "  </tbody>\n",
       "</table>\n",
       "<p>186525 rows × 9 columns</p>\n",
       "</div>"
      ],
      "text/plain": [
       "        Length  Breadth  Draught  Longitude  Latitude   SOG        ETA  \\\n",
       "0        152.0     24.0      6.8   5.838777  53.63944  14.3  12.685507   \n",
       "1        152.0     24.0      6.8   5.845800  53.64076  14.3  12.667177   \n",
       "2        152.0     24.0      6.8   5.852149  53.64198  14.3  12.650496   \n",
       "3        152.0     24.0      6.8   5.858515  53.64320  14.3  12.633836   \n",
       "4        152.0     24.0      6.8   5.864876  53.64441  14.3  12.617179   \n",
       "...        ...      ...      ...        ...       ...   ...        ...   \n",
       "186520   229.0     38.0     13.3   9.806900  53.55355   7.4   0.083519   \n",
       "186521   229.0     38.0     13.3   9.810224  53.55293   7.3   0.066774   \n",
       "186522   229.0     38.0     13.3   9.813442  53.55230   7.2   0.049974   \n",
       "186523   229.0     38.0     13.3   9.816650  53.55172   7.1   0.033443   \n",
       "186524   229.0     38.0     13.3   9.819812  53.55116   7.1   0.016667   \n",
       "\n",
       "        Distance remaining      speed  \n",
       "0               440.630956  34.734991  \n",
       "1               439.857752  34.724213  \n",
       "2               439.158871  34.714754  \n",
       "3               438.458162  34.705070  \n",
       "4               437.758031  34.695397  \n",
       "...                    ...        ...  \n",
       "186520            1.808408  21.652544  \n",
       "186521            1.434516  21.483189  \n",
       "186522            1.071975  21.450709  \n",
       "186523            0.711492  21.275079  \n",
       "186524            0.356400  21.383975  \n",
       "\n",
       "[186525 rows x 9 columns]"
      ]
     },
     "execution_count": 28,
     "metadata": {},
     "output_type": "execute_result"
    }
   ],
   "source": [
    "#path = r\"/content/drive/My Drive/ship_data_files /final_ship_data.csv\"    # for hosted runtime use this path \n",
    "\n",
    "path = r\"final_ship_data.csv\" #for local runtime\n",
    "\n",
    "                #remove lat2 ,lon2 \n",
    "                \n",
    "df=pd.read_csv(path,sep=',',low_memory=False)\n",
    "test_data=df\n",
    "df"
   ]
  },
  {
   "cell_type": "markdown",
   "metadata": {
    "colab": {
     "base_uri": "https://localhost:8080/",
     "height": 34
    },
    "gather": {
     "logged": 1603896037847
    },
    "id": "5ofmiRpRSYBo",
    "outputId": "387737ec-ce5c-4fb0-e657-01dc683d4ea4"
   },
   "source": [
    "## Data preperation (Train-test split)\n",
    "The data set is now split into the training and test set. The training set will have 75% of the original data set,while the test data has 25% of the data set. The features of the data set are: \n",
    "<ol>\n",
    "<li>Length</li>\n",
    "<li>Breadth</li>\n",
    "<li>Draught</li>\n",
    "<li>Longitude</li>\n",
    "<li>Latitude</li>\n",
    "<li>SOG</li>\n",
    "<li>Distance remianing</li>\n",
    "<li>Speed</li>\n",
    "\n",
    "</ol>\n",
    "The labels is the estimated time of arrival(ETA)\n",
    "For the missing values of the features,the imputer function is used to infer missing values of the data the strategy used here is the 'mean"
   ]
  },
  {
   "cell_type": "code",
   "execution_count": 29,
   "metadata": {
    "colab": {
     "base_uri": "https://localhost:8080/",
     "height": 34
    },
    "gather": {
     "logged": 1603896037847
    },
    "id": "5ofmiRpRSYBo",
    "outputId": "387737ec-ce5c-4fb0-e657-01dc683d4ea4"
   },
   "outputs": [
    {
     "data": {
      "text/plain": [
       "186525"
      ]
     },
     "execution_count": 29,
     "metadata": {},
     "output_type": "execute_result"
    }
   ],
   "source": [
    "train=test_data\n",
    "\n",
    "#Features\n",
    "X_Train = train.drop('ETA', axis=1)\n",
    "\n",
    "# Create our imputer to replace missing values with the mean e.g.\n",
    "imp = SimpleImputer(missing_values=np.nan, strategy='mean')\n",
    "imp = imp.fit(X_Train)\n",
    "\n",
    "\n",
    "# Impute our data, then train\n",
    "X_train_imp = imp.transform(X_Train)\n",
    "X= np.array(X_train_imp)\n",
    "\n",
    "# Labels\n",
    "Y= np.array(train['ETA'])\n",
    "\n",
    "min_max_scaler = preprocessing.MinMaxScaler()\n",
    "X_train_minmax = min_max_scaler.fit_transform(X)\n",
    "X=X_train_minmax\n",
    "Y.size"
   ]
  },
  {
   "cell_type": "code",
   "execution_count": 30,
   "metadata": {
    "colab": {
     "base_uri": "https://localhost:8080/",
     "height": 238
    },
    "gather": {
     "logged": 1603896040231
    },
    "id": "JOTfRm0H6RBJ",
    "outputId": "37272c35-d564-4db4-f589-3baa7ae92911"
   },
   "outputs": [
    {
     "data": {
      "text/plain": [
       "array([[8.45771144e-02, 1.50684932e-01, 2.90598291e-01, ...,\n",
       "        5.89958159e-01, 8.85479736e-01, 2.87810730e-01],\n",
       "       [8.45771144e-02, 1.50684932e-01, 2.90598291e-01, ...,\n",
       "        5.89958159e-01, 8.83925305e-01, 2.87694706e-01],\n",
       "       [8.45771144e-02, 1.50684932e-01, 2.90598291e-01, ...,\n",
       "        5.89958159e-01, 8.82520293e-01, 2.87592876e-01],\n",
       "       ...,\n",
       "       [2.12271973e-01, 3.42465753e-01, 8.46153846e-01, ...,\n",
       "        2.92887029e-01, 1.80171753e-03, 1.44800810e-01],\n",
       "       [2.12271973e-01, 3.42465753e-01, 8.46153846e-01, ...,\n",
       "        2.88702929e-01, 1.07701073e-03, 1.42910086e-01],\n",
       "       [2.12271973e-01, 3.42465753e-01, 8.46153846e-01, ...,\n",
       "        2.88702929e-01, 3.63142472e-04, 1.44082390e-01]])"
      ]
     },
     "execution_count": 30,
     "metadata": {},
     "output_type": "execute_result"
    }
   ],
   "source": [
    "X"
   ]
  },
  {
   "cell_type": "code",
   "execution_count": 31,
   "metadata": {
    "colab": {
     "base_uri": "https://localhost:8080/",
     "height": 85
    },
    "gather": {
     "logged": 1603896043161
    },
    "id": "-158gLC4Sewp",
    "outputId": "d50d4e4b-8982-4ab1-e128-879a4acbe201"
   },
   "outputs": [
    {
     "name": "stdout",
     "output_type": "stream",
     "text": [
      "Training Features Shape: (139893, 8)\n",
      "Training Labels Shape: (139893,)\n",
      "Testing Features Shape: (46632, 8)\n",
      "Testing Labels Shape: (46632,)\n"
     ]
    }
   ],
   "source": [
    "#Split train and test\n",
    "train_features, test_features, train_labels, test_labels = train_test_split(X, Y, test_size = 0.25, random_state = 5)\n",
    "print('Training Features Shape:', train_features.shape)\n",
    "print('Training Labels Shape:', train_labels.shape)\n",
    "print('Testing Features Shape:', test_features.shape)\n",
    "print('Testing Labels Shape:', test_labels.shape)"
   ]
  },
  {
   "cell_type": "code",
   "execution_count": 32,
   "metadata": {
    "gather": {
     "logged": 1603896046160
    }
   },
   "outputs": [],
   "source": [
    "N_ESTIMATOR =10"
   ]
  },
  {
   "cell_type": "markdown",
   "metadata": {
    "colab": {
     "base_uri": "https://localhost:8080/",
     "height": 952
    },
    "gather": {
     "logged": 1603896050823
    },
    "id": "WXclI5IESjXH",
    "outputId": "396c3c59-164a-4313-b8bf-060aa559639a"
   },
   "source": [
    "# Random forest trainnig (No tuning)\n",
    "For the training, Random forest regression was selected for the experiment. In this section ,the regression is train with their default values(no tuning) is used to train and to predict with the test data.\n"
   ]
  },
  {
   "cell_type": "code",
   "execution_count": 33,
   "metadata": {
    "colab": {
     "base_uri": "https://localhost:8080/",
     "height": 952
    },
    "gather": {
     "logged": 1603896050823
    },
    "id": "WXclI5IESjXH",
    "outputId": "396c3c59-164a-4313-b8bf-060aa559639a"
   },
   "outputs": [
    {
     "name": "stderr",
     "output_type": "stream",
     "text": [
      "[Parallel(n_jobs=-1)]: Using backend ThreadingBackend with 4 concurrent workers.\n",
      "[Parallel(n_jobs=-1)]: Done   5 out of  10 | elapsed:    2.0s remaining:    2.0s\n",
      "[Parallel(n_jobs=-1)]: Done   7 out of  10 | elapsed:    2.1s remaining:    0.9s\n",
      "[Parallel(n_jobs=-1)]: Done  10 out of  10 | elapsed:    3.0s finished\n",
      "[Parallel(n_jobs=4)]: Using backend ThreadingBackend with 4 concurrent workers.\n",
      "[Parallel(n_jobs=4)]: Done   5 out of  10 | elapsed:    0.0s remaining:    0.0s\n",
      "[Parallel(n_jobs=4)]: Done   7 out of  10 | elapsed:    0.0s remaining:    0.0s\n",
      "[Parallel(n_jobs=4)]: Done  10 out of  10 | elapsed:    0.1s finished\n"
     ]
    },
    {
     "name": "stdout",
     "output_type": "stream",
     "text": [
      "building tree 1 of 10\n",
      "building tree 2 of 10\n",
      "building tree 3 of 10\n",
      "building tree 4 of 10\n",
      "building tree 5 of 10\n",
      "building tree 6 of 10\n",
      "building tree 7 of 10\n",
      "building tree 8 of 10\n",
      "building tree 9 of 10\n",
      "building tree 10 of 10\n"
     ]
    },
    {
     "data": {
      "text/plain": [
       "array([[0.17578773, 0.23287671, 0.2991453 , ..., 0.49790795, 0.02440506,\n",
       "        0.29220158],\n",
       "       [0.20563847, 0.24657534, 0.57264957, ..., 0.45188285, 0.12725067,\n",
       "        0.1717478 ],\n",
       "       [0.41293532, 0.45205479, 0.76068376, ..., 0.23849372, 0.43586908,\n",
       "        0.27044907],\n",
       "       ...,\n",
       "       [0.29187396, 0.36986301, 0.60683761, ..., 0.79497908, 0.63529254,\n",
       "        0.00296428],\n",
       "       [0.13598673, 0.26027397, 0.44444444, ..., 0.43096234, 0.08142411,\n",
       "        0.1362038 ],\n",
       "       [0.13598673, 0.26027397, 0.52991453, ..., 0.46861925, 0.59828468,\n",
       "        0.04423233]])"
      ]
     },
     "execution_count": 33,
     "metadata": {},
     "output_type": "execute_result"
    }
   ],
   "source": [
    "#Training of the model, for this example using Random forest regressor\n",
    "\n",
    "start_time = time.time()\n",
    "rf = RandomForestRegressor(verbose=10,n_estimators=N_ESTIMATOR,n_jobs=-1)\n",
    "\n",
    "start_time = time.time()\n",
    "\n",
    "rf.fit(train_features, train_labels)\n",
    "# Use the forest's predict method on the test data\n",
    "predictions = rf.predict(test_features)\n",
    "\n",
    "time_noHpo= time.time() - start_time\n",
    "test_features"
   ]
  },
  {
   "cell_type": "code",
   "execution_count": 34,
   "metadata": {
    "colab": {
     "base_uri": "https://localhost:8080/",
     "height": 51
    },
    "gather": {
     "logged": 1603896051016
    },
    "id": "IrRzvXKTZJg9",
    "outputId": "305cf95c-661b-464b-877f-3c36e4346124"
   },
   "outputs": [
    {
     "data": {
      "text/plain": [
       "array([ 0.35043611,  2.64979611,  6.55105444, ..., 38.20745083,\n",
       "        1.96966306, 24.59149167])"
      ]
     },
     "execution_count": 34,
     "metadata": {},
     "output_type": "execute_result"
    }
   ],
   "source": [
    "test_labels"
   ]
  },
  {
   "cell_type": "code",
   "execution_count": 35,
   "metadata": {
    "colab": {
     "base_uri": "https://localhost:8080/",
     "height": 34
    },
    "gather": {
     "logged": 1603896052726
    },
    "id": "v0ABwU-P6RBW",
    "outputId": "17bb7f44-bb3f-4a43-e20c-f648eeac22a2"
   },
   "outputs": [
    {
     "name": "stdout",
     "output_type": "stream",
     "text": [
      "3.125159502029419 seconds it took to train \n",
      "\n",
      "Root mean squared of Model without training 0.04898058969128082\n"
     ]
    }
   ],
   "source": [
    "mean1 = np.sqrt(mean_squared_error(predictions, test_labels))\n",
    "\n",
    "print(\"%s seconds it took to train \" % (time_noHpo))\n",
    "print('\\nRoot mean squared of Model without training', mean1)"
   ]
  },
  {
   "cell_type": "markdown",
   "metadata": {
    "colab": {
     "base_uri": "https://localhost:8080/",
     "height": 476
    },
    "gather": {
     "logged": 1603896054405
    },
    "id": "332GfR_OadBI",
    "outputId": "84cfaab5-3392-47bc-afbd-36666fd5eee0"
   },
   "source": [
    "# Tuning Section\n",
    "\n",
    "This section now deals with tuining the Logistic regression"
   ]
  },
  {
   "cell_type": "code",
   "execution_count": 36,
   "metadata": {
    "colab": {
     "base_uri": "https://localhost:8080/",
     "height": 476
    },
    "gather": {
     "logged": 1603896054405
    },
    "id": "332GfR_OadBI",
    "outputId": "84cfaab5-3392-47bc-afbd-36666fd5eee0"
   },
   "outputs": [
    {
     "data": {
      "text/plain": [
       "{'bootstrap': True,\n",
       " 'ccp_alpha': 0.0,\n",
       " 'criterion': 'mse',\n",
       " 'max_depth': None,\n",
       " 'max_features': 'auto',\n",
       " 'max_leaf_nodes': None,\n",
       " 'max_samples': None,\n",
       " 'min_impurity_decrease': 0.0,\n",
       " 'min_impurity_split': None,\n",
       " 'min_samples_leaf': 1,\n",
       " 'min_samples_split': 2,\n",
       " 'min_weight_fraction_leaf': 0.0,\n",
       " 'n_estimators': 100,\n",
       " 'n_jobs': None,\n",
       " 'oob_score': False,\n",
       " 'random_state': None,\n",
       " 'verbose': 0,\n",
       " 'warm_start': False}"
      ]
     },
     "execution_count": 36,
     "metadata": {},
     "output_type": "execute_result"
    }
   ],
   "source": [
    "# Use the random grid to search for best hyperparameters\n",
    "\n",
    "rfh = RandomForestRegressor()\n",
    "rfh.get_params()"
   ]
  },
  {
   "cell_type": "markdown",
   "metadata": {
    "colab": {
     "base_uri": "https://localhost:8080/",
     "height": 119
    },
    "gather": {
     "logged": 1603896058959
    },
    "id": "TyT5GgDAaQma",
    "outputId": "75004a4c-2705-4b1b-a5a6-880a14f43934"
   },
   "source": [
    "## Tuning Section\n",
    "The following HPO algorithims will be used for tuning\n",
    "1.Random search\n",
    "2.Bayesian Optimization\n",
    "3.Genetic Algorithims\n",
    "\n",
    "For the logistic regression algorithm. The following hyperparameters are used for tuning\n",
    "- Max_depth : Maximum depth of the trees.\n",
    "- Maximum features: The maximum number of features to consider when looking for best split.\n",
    "- Minimum Samples leaf :Minimum samples required for it to be a leaf node.\n",
    "- Minimum Samples split :The minimum number of samples for the regressor to split a node.\n",
    "\n",
    "\n",
    "\n",
    "## Random Search\n",
    "With the hyperparameters mentioned above , a 'search space' is used to sample from and find the best possible hyperparameters for logistic regresssion."
   ]
  },
  {
   "cell_type": "markdown",
   "metadata": {
    "colab": {
     "base_uri": "https://localhost:8080/",
     "height": 119
    },
    "gather": {
     "logged": 1603896058959
    },
    "id": "TyT5GgDAaQma",
    "outputId": "75004a4c-2705-4b1b-a5a6-880a14f43934"
   },
   "source": [
    "#Now to set the values needed for the parameters to do the random search, make combinations for the different parameters\n",
    "#important HPO max features leave as auto, sample size> Low no.  Node size> Low values\n",
    "max_depth=[1,32]\n",
    "max_features = ['auto']\n",
    "min_samples_leaf = [ 2,3]\n",
    "min_samples_split = [ 5]\n",
    "n_estimators = [int(x) for x in np.linspace(start = 1, stop =N_ESTIMATOR , num = 10)]\n",
    "bootstrap=[True, False]\n",
    "random_grid = {'n_estimators': n_estimators,\n",
    "               'max_features': max_features,\n",
    "               'max_depth': max_depth,\n",
    "               'min_samples_split': min_samples_split,\n",
    "               'min_samples_leaf': min_samples_leaf,\n",
    "               'bootstrap': bootstrap}\n",
    "random_grid"
   ]
  },
  {
   "cell_type": "code",
   "execution_count": 38,
   "metadata": {
    "colab": {
     "base_uri": "https://localhost:8080/",
     "height": 663
    },
    "gather": {
     "logged": 1603896212913
    },
    "id": "hBPQ9BWrfjST",
    "outputId": "f403848b-d386-42e6-c17e-a6cd3df7a689"
   },
   "outputs": [
    {
     "name": "stdout",
     "output_type": "stream",
     "text": [
      "Fitting 3 folds for each of 80 candidates, totalling 240 fits\n"
     ]
    },
    {
     "name": "stderr",
     "output_type": "stream",
     "text": [
      "/anaconda/envs/azureml_py36/lib/python3.6/site-packages/sklearn/model_selection/_search.py:281: UserWarning: The total space of parameters 80 is smaller than n_iter=100. Running 80 iterations. For exhaustive searches, use GridSearchCV.\n",
      "  % (grid_size, self.n_iter, grid_size), UserWarning)\n",
      "[Parallel(n_jobs=-1)]: Using backend LokyBackend with 4 concurrent workers.\n",
      "[Parallel(n_jobs=-1)]: Done   5 tasks      | elapsed:    0.9s\n",
      "[Parallel(n_jobs=-1)]: Done  10 tasks      | elapsed:    1.2s\n",
      "[Parallel(n_jobs=-1)]: Done  17 tasks      | elapsed:    1.8s\n",
      "[Parallel(n_jobs=-1)]: Done  24 tasks      | elapsed:    2.5s\n",
      "[Parallel(n_jobs=-1)]: Done  33 tasks      | elapsed:    3.3s\n",
      "[Parallel(n_jobs=-1)]: Done  42 tasks      | elapsed:    3.7s\n",
      "[Parallel(n_jobs=-1)]: Done  53 tasks      | elapsed:    4.8s\n",
      "[Parallel(n_jobs=-1)]: Done  64 tasks      | elapsed:    7.0s\n",
      "[Parallel(n_jobs=-1)]: Done  77 tasks      | elapsed:   15.4s\n",
      "[Parallel(n_jobs=-1)]: Done  90 tasks      | elapsed:   29.0s\n",
      "[Parallel(n_jobs=-1)]: Done 105 tasks      | elapsed:   37.3s\n",
      "[Parallel(n_jobs=-1)]: Done 120 tasks      | elapsed:   51.3s\n",
      "[Parallel(n_jobs=-1)]: Done 137 tasks      | elapsed:   54.4s\n",
      "[Parallel(n_jobs=-1)]: Done 154 tasks      | elapsed:   56.7s\n",
      "[Parallel(n_jobs=-1)]: Done 173 tasks      | elapsed:   58.8s\n",
      "[Parallel(n_jobs=-1)]: Done 192 tasks      | elapsed:  1.1min\n",
      "[Parallel(n_jobs=-1)]: Done 213 tasks      | elapsed:  1.7min\n",
      "[Parallel(n_jobs=-1)]: Done 240 out of 240 | elapsed:  2.3min finished\n"
     ]
    }
   ],
   "source": [
    "#Training of models with the tuning parameters made\n",
    "start_time = time.time()\n",
    "\n",
    "\n",
    "rf_random = RandomizedSearchCV(estimator = rfh, param_distributions = random_grid, n_iter = 100, cv = 3, verbose=10, random_state=5, n_jobs =-1)\n",
    "rf_random.fit(train_features, train_labels)\n",
    "\n",
    "time_HpoRandom= time.time() - start_time"
   ]
  },
  {
   "cell_type": "code",
   "execution_count": 39,
   "metadata": {
    "colab": {
     "base_uri": "https://localhost:8080/",
     "height": 119
    },
    "gather": {
     "logged": 1603896247106
    },
    "id": "GoGPgFv3zj9D",
    "outputId": "faa8eaef-2974-4ef8-cf5b-42d5a23b88eb"
   },
   "outputs": [
    {
     "data": {
      "text/plain": [
       "{'n_estimators': 10,\n",
       " 'min_samples_split': 5,\n",
       " 'min_samples_leaf': 2,\n",
       " 'max_features': 'auto',\n",
       " 'max_depth': 32,\n",
       " 'bootstrap': True}"
      ]
     },
     "execution_count": 39,
     "metadata": {},
     "output_type": "execute_result"
    }
   ],
   "source": [
    "rf_random.best_params_"
   ]
  },
  {
   "cell_type": "code",
   "execution_count": 40,
   "metadata": {
    "gather": {
     "logged": 1603896249930
    },
    "id": "l67P8XKJfD5J"
   },
   "outputs": [],
   "source": [
    "#Testing on the test features, predictions for random search\n",
    "predictions2=rf_random.predict(test_features)\n"
   ]
  },
  {
   "cell_type": "code",
   "execution_count": 41,
   "metadata": {
    "colab": {
     "base_uri": "https://localhost:8080/",
     "height": 51
    },
    "gather": {
     "logged": 1603896252172
    },
    "id": "iXEL7_wITcoN",
    "outputId": "1584731f-445d-4978-c636-c6420096110a"
   },
   "outputs": [
    {
     "data": {
      "text/plain": [
       "array([ 0.34888206,  2.64317915,  6.54849196, ..., 38.20134175,\n",
       "        1.9608904 , 24.61175018])"
      ]
     },
     "execution_count": 41,
     "metadata": {},
     "output_type": "execute_result"
    }
   ],
   "source": [
    "predictions2"
   ]
  },
  {
   "cell_type": "code",
   "execution_count": 42,
   "metadata": {
    "colab": {
     "base_uri": "https://localhost:8080/",
     "height": 34
    },
    "gather": {
     "logged": 1603896256419
    },
    "id": "WOB0t1ey6RBp",
    "outputId": "b073da12-64c9-4ea1-d8c3-39c23aa932eb"
   },
   "outputs": [
    {
     "name": "stdout",
     "output_type": "stream",
     "text": [
      "148.09545183181763 seconds it took to train \n",
      "\n",
      "Root mean squared of Model with Random search 0.05337023816473125\n"
     ]
    }
   ],
   "source": [
    "\n",
    "mean2 =np.sqrt(mean_squared_error(predictions2, test_labels))\n",
    "print(\"%s seconds it took to train \" % (time_HpoRandom))\n",
    "print('\\nRoot mean squared of Model with Random search', mean2)"
   ]
  },
  {
   "cell_type": "markdown",
   "metadata": {
    "colab": {
     "base_uri": "https://localhost:8080/",
     "height": 34
    },
    "gather": {
     "logged": 1603898231671
    },
    "id": "AUsQc63tTcoP",
    "outputId": "8f649da6-cc05-486f-a943-9f618cc65738"
   },
   "source": [
    "# Bayesian Optimizaition\n",
    "\n",
    "With the same search space defined in the random search, the Bayesian optimization is used to train the Random forest regressor. The number of trials for the bayesian optimization will be 100 trials."
   ]
  },
  {
   "cell_type": "code",
   "execution_count": 44,
   "metadata": {
    "colab": {
     "base_uri": "https://localhost:8080/",
     "height": 34
    },
    "gather": {
     "logged": 1603898231671
    },
    "id": "AUsQc63tTcoP",
    "outputId": "8f649da6-cc05-486f-a943-9f618cc65738"
   },
   "outputs": [
    {
     "name": "stdout",
     "output_type": "stream",
     "text": [
      "100%|██████████| 100/100 [28:51<00:00, 17.31s/trial, best loss: -0.9073947748151242]\n"
     ]
    }
   ],
   "source": [
    "#Tuning with Bayesian optimization\n",
    "\n",
    "#Define search space\n",
    "# min leaf> Low values , min split> low values  ,  n_estimators > Higher number of trees\n",
    "start_time = time.time()\n",
    "\n",
    "search_space= {'max_depth':hp.choice('max_depth',range(1,32)),\n",
    "        'max_features': hp.choice('max_features', ['auto', 'sqrt','log2', None]),\n",
    "        'min_samples_leaf': hp.uniform ('min_samples_leaf', 0, 0.5),\n",
    "        'min_samples_split' : hp.uniform ('min_samples_split', 0.1, 1.0),\n",
    "        'n_estimators' : hp.choice('n_estimators', (1,N_ESTIMATOR))\n",
    "    }\n",
    "\n",
    "def objective(search_space):\n",
    "    bayes = RandomForestRegressor(\n",
    "                                 max_depth=search_space['max_depth'],\n",
    "                                 max_features = search_space['max_features'],\n",
    "                                 min_samples_leaf = search_space['min_samples_leaf'],\n",
    "                                 min_samples_split = search_space['min_samples_split'],\n",
    "                                 n_estimators = search_space['n_estimators'], \n",
    "                               )\n",
    "    accuracy = cross_val_score(bayes, train_features, train_labels, cv =100, n_jobs= -1).mean()\n",
    "    return {'loss': -accuracy, 'status': STATUS_OK }\n",
    "\n",
    "trials = Trials()\n",
    "best = fmin(fn= objective,\n",
    "            space= search_space,\n",
    "            algo= tpe.suggest,\n",
    "            max_evals = 100,\n",
    "            trials= trials)\n",
    "best\n",
    "\n",
    "# Training from bayes tuning\n",
    "feat = {0: 'auto', 1: 'sqrt', 2: 'log2', 3: None}\n",
    "\n",
    "trainedforest = RandomForestRegressor( \n",
    "                                       max_features = feat[best['max_features']], \n",
    "                                       min_samples_leaf = best['min_samples_leaf'], \n",
    "                                       min_samples_split = best['min_samples_split'], \n",
    "                                       n_estimators = best['n_estimators']\n",
    "                                      ).fit(train_features, train_labels)\n",
    "time_HpoBaysian= time.time() - start_time\n",
    "predictions3= trainedforest.predict(test_features)"
   ]
  },
  {
   "cell_type": "code",
   "execution_count": 45,
   "metadata": {
    "gather": {
     "logged": 1603898245592
    },
    "id": "oX50612E6RBu"
   },
   "outputs": [
    {
     "data": {
      "text/plain": [
       "array([ 0.91861778,  2.72899828,  6.60458063, ..., 34.85679487,\n",
       "        0.91861778, 34.85679487])"
      ]
     },
     "execution_count": 45,
     "metadata": {},
     "output_type": "execute_result"
    }
   ],
   "source": [
    "predictions3"
   ]
  },
  {
   "cell_type": "code",
   "execution_count": 46,
   "metadata": {
    "gather": {
     "logged": 1603898251689
    },
    "id": "JGXXvmmo6RBy"
   },
   "outputs": [
    {
     "name": "stdout",
     "output_type": "stream",
     "text": [
      "1731.6784174442291 seconds it took to train \n",
      "\n",
      "Root mean squared of Model with Bayesian 3.3906692822837488\n"
     ]
    }
   ],
   "source": [
    "mean3 = np.sqrt(mean_squared_error(predictions3, test_labels))\n",
    "print(\"%s seconds it took to train \" % (time_HpoBaysian))\n",
    "print('\\nRoot mean squared of Model with Bayesian', mean3)"
   ]
  },
  {
   "cell_type": "code",
   "execution_count": 47,
   "metadata": {
    "gather": {
     "logged": 1603898254790
    },
    "id": "QHGIbfOV6RB1"
   },
   "outputs": [
    {
     "data": {
      "text/plain": [
       "{'max_depth': 15,\n",
       " 'max_features': 0,\n",
       " 'min_samples_leaf': 0.0018407207451178742,\n",
       " 'min_samples_split': 0.1038902953428581,\n",
       " 'n_estimators': 1}"
      ]
     },
     "execution_count": 47,
     "metadata": {},
     "output_type": "execute_result"
    }
   ],
   "source": [
    "best"
   ]
  },
  {
   "cell_type": "markdown",
   "metadata": {
    "gather": {
     "logged": 1603905861906
    },
    "id": "SAVpkpvqTcob"
   },
   "source": [
    "## Genetic Algrorithim\n",
    "\n",
    "For the Genetic Algorithim 15 Generations are used and evaluated based on the mean squared error. The maximum evaluation time is 5 minutes"
   ]
  },
  {
   "cell_type": "code",
   "execution_count": 48,
   "metadata": {
    "gather": {
     "logged": 1603905861906
    },
    "id": "SAVpkpvqTcob"
   },
   "outputs": [
    {
     "name": "stdout",
     "output_type": "stream",
     "text": [
      "30 operators have been imported by TPOT.\n"
     ]
    },
    {
     "name": "stderr",
     "output_type": "stream",
     "text": [
      "Version 0.11.5 of tpot is outdated. Version 0.11.6 was released 2 days ago.\n"
     ]
    },
    {
     "data": {
      "application/vnd.jupyter.widget-view+json": {
       "model_id": "42fb51a61e76470eb58df1bcab6548a6",
       "version_major": 2,
       "version_minor": 0
      },
      "text/plain": [
       "HBox(children=(HTML(value='Optimization Progress'), FloatProgress(value=0.0, max=210.0), HTML(value='')))"
      ]
     },
     "metadata": {},
     "output_type": "display_data"
    },
    {
     "name": "stdout",
     "output_type": "stream",
     "text": [
      "Skipped pipeline #18 due to time out. Continuing to the next pipeline.\n",
      "Skipped pipeline #33 due to time out. Continuing to the next pipeline.\n",
      "Skipped pipeline #43 due to time out. Continuing to the next pipeline.\n",
      "\n",
      "Generation 1 - Current Pareto front scores:\n",
      "_pre_test decorator: _random_mutation_operator: num_test=0 No feature in X meets the variance threshold 0.20000.stRegressor__max_features=0.5, RandomForestRegressor__min_samples_leaf=8, RandomForestRegressor__min_samples_split=2, RandomForestRegressor__n_estimators=100)\n",
      "\n",
      "Generation 2 - Current Pareto front scores:\n",
      "Skipped pipeline #58 due to time out. Continuing to the next pipeline.Regressor__n_neighbors=1, KNeighborsRegressor__p=1, KNeighborsRegressor__weights=uniform)\n",
      "\n",
      "Generation 3 - Current Pareto front scores:\n",
      "-1\t-0.0025021245515788864\tKNeighborsRegressor(input_matrix, KNeighborsRegressor__n_neighbors=1, KNeighborsRegressor__p=1, KNeighborsRegressor__weights=uniform)\n",
      "Generation 4 - Current Pareto front scores:\n",
      "_pre_test decorator: _random_mutation_operator: num_test=0 Unsupported set of arguments: The combination of penalty='l2' and loss='epsilon_insensitive' are not supported when dual=False, Parameters: penalty='l2', loss='epsilon_insensitive', dual=False.\n",
      "\n",
      "Generation 5 - Current Pareto front scores:\n",
      "Pipeline encountered that has previously been evaluated during the optimization process. Using the score from the previous evaluation.gressor__weights=uniform)\n",
      "\n",
      "Generation 6 - Current Pareto front scores:\n",
      "-1\t-0.0025021245515788864\tKNeighborsRegressor(input_matrix, KNeighborsRegressor__n_neighbors=1, KNeighborsRegressor__p=1, KNeighborsRegressor__weights=uniform)\n",
      "-2\t-0.0023256706888772406\tKNeighborsRegressor(MaxAbsScaler(input_matrix), KNeighborsRegressor__n_neighbors=1, KNeighborsRegressor__p=1, KNeighborsRegressor__weights=distance)\n",
      "_pre_test decorator: _random_mutation_operator: num_test=0 Unsupported set of arguments: The combination of penalty='l2' and loss='epsilon_insensitive' are not supported when dual=False, Parameters: penalty='l2', loss='epsilon_insensitive', dual=False.raTreesRegressor__n_estimators=100), KNeighborsRegressor__n_neighbors=1, KNeighborsRegressor__p=1, KNeighborsRegressor__weights=distance)\n",
      "_pre_test decorator: _random_mutation_operator: num_test=1 X contains negative values..\n",
      "\n",
      "Generation 7 - Current Pareto front scores:\n",
      "-1\t-0.0025021245515788864\tKNeighborsRegressor(input_matrix, KNeighborsRegressor__n_neighbors=1, KNeighborsRegressor__p=1, KNeighborsRegressor__weights=uniform)\n",
      "-2\t-0.0023256706888772406\tKNeighborsRegressor(MaxAbsScaler(input_matrix), KNeighborsRegressor__n_neighbors=1, KNeighborsRegressor__p=1, KNeighborsRegressor__weights=distance)\n",
      "Skipped pipeline #129 due to time out. Continuing to the next pipeline.V(input_matrix), ExtraTreesRegressor__bootstrap=True, ExtraTreesRegressor__max_features=1.0, ExtraTreesRegressor__min_samples_leaf=16, ExtraTreesRegressor__min_samples_split=12, ExtraTreesRegressor__n_estimators=100), KNeighborsRegressor__n_neighbors=1, KNeighborsRegressor__p=1, KNeighborsRegressor__weights=distance)\n",
      "\n",
      "Generation 8 - Current Pareto front scores:\n",
      "-1\t-0.0025021245515788864\tKNeighborsRegressor(input_matrix, KNeighborsRegressor__n_neighbors=1, KNeighborsRegressor__p=1, KNeighborsRegressor__weights=uniform)\n",
      "-2\t-0.0023256706888772406\tKNeighborsRegressor(MaxAbsScaler(input_matrix), KNeighborsRegressor__n_neighbors=1, KNeighborsRegressor__p=1, KNeighborsRegressor__weights=distance)\n",
      "-3\t-0.001037998188234641\tKNeighborsRegressor(ExtraTreesRegressor(RidgeCV(input_matrix), ExtraTreesRegressor__bootstrap=True, ExtraTreesRegressor__max_features=1.0, ExtraTreesRegressor__min_samples_leaf=16, ExtraTreesRegressor__min_samples_split=12, ExtraTreesRegressor__n_estimators=100), KNeighborsRegressor__n_neighbors=1, KNeighborsRegressor__p=1, KNeighborsRegressor__weights=distance)\n",
      "Generation 9 - Current Pareto front scores:\n",
      "-1\t-0.0025021245515788864\tKNeighborsRegressor(input_matrix, KNeighborsRegressor__n_neighbors=1, KNeighborsRegressor__p=1, KNeighborsRegressor__weights=uniform)\n",
      "-2\t-0.0023256706888772406\tKNeighborsRegressor(MaxAbsScaler(input_matrix), KNeighborsRegressor__n_neighbors=1, KNeighborsRegressor__p=1, KNeighborsRegressor__weights=distance)\n",
      "-3\t-0.001037998188234641\tKNeighborsRegressor(ExtraTreesRegressor(RidgeCV(input_matrix), ExtraTreesRegressor__bootstrap=True, ExtraTreesRegressor__max_features=1.0, ExtraTreesRegressor__min_samples_leaf=16, ExtraTreesRegressor__min_samples_split=12, ExtraTreesRegressor__n_estimators=100), KNeighborsRegressor__n_neighbors=1, KNeighborsRegressor__p=1, KNeighborsRegressor__weights=distance)\n",
      "Generation 10 - Current Pareto front scores:\n",
      "-1\t-0.0025021245515788864\tKNeighborsRegressor(input_matrix, KNeighborsRegressor__n_neighbors=1, KNeighborsRegressor__p=1, KNeighborsRegressor__weights=uniform)\n",
      "-2\t-0.0023256706888772406\tKNeighborsRegressor(MaxAbsScaler(input_matrix), KNeighborsRegressor__n_neighbors=1, KNeighborsRegressor__p=1, KNeighborsRegressor__weights=distance)\n",
      "_pre_test decorator: _random_mutation_operator: num_test=0 Unsupported set of arguments: The combination of penalty='l2' and loss='epsilon_insensitive' are not supported when dual=False, Parameters: penalty='l2', loss='epsilon_insensitive', dual=False.raTreesRegressor__n_estimators=100), KNeighborsRegressor__n_neighbors=1, KNeighborsRegressor__p=1, KNeighborsRegressor__weights=distance)\n",
      "Skipped pipeline #164 due to time out. Continuing to the next pipeline.\n",
      "Skipped pipeline #166 due to time out. Continuing to the next pipeline.\n",
      "\n",
      "Generation 11 - Current Pareto front scores:\n",
      "-1\t-0.0025021245515788864\tKNeighborsRegressor(input_matrix, KNeighborsRegressor__n_neighbors=1, KNeighborsRegressor__p=1, KNeighborsRegressor__weights=uniform)\n",
      "Skipped pipeline #173 due to time out. Continuing to the next pipeline._matrix, ExtraTreesRegressor__bootstrap=True, ExtraTreesRegressor__max_features=1.0, ExtraTreesRegressor__min_samples_leaf=16, ExtraTreesRegressor__min_samples_split=12, ExtraTreesRegressor__n_estimators=100), KNeighborsRegressor__n_neighbors=1, KNeighborsRegressor__p=1, KNeighborsRegressor__weights=distance)\n",
      "\n",
      "Generation 12 - Current Pareto front scores:\n",
      "-1\t-0.0025021245515788864\tKNeighborsRegressor(input_matrix, KNeighborsRegressor__n_neighbors=1, KNeighborsRegressor__p=1, KNeighborsRegressor__weights=uniform)\n",
      "_pre_test decorator: _random_mutation_operator: num_test=0 Found array with 0 feature(s) (shape=(50, 0)) while a minimum of 1 is required..ax_features=1.0, ExtraTreesRegressor__min_samples_leaf=16, ExtraTreesRegressor__min_samples_split=12, ExtraTreesRegressor__n_estimators=100), KNeighborsRegressor__n_neighbors=1, KNeighborsRegressor__p=1, KNeighborsRegressor__weights=distance)\n",
      "Skipped pipeline #189 due to time out. Continuing to the next pipeline.\n",
      "\n",
      "Generation 13 - Current Pareto front scores:\n",
      "-1\t-0.0025021245515788864\tKNeighborsRegressor(input_matrix, KNeighborsRegressor__n_neighbors=1, KNeighborsRegressor__p=1, KNeighborsRegressor__weights=uniform)\n",
      "-2\t-0.0008211805726918405\tKNeighborsRegressor(ExtraTreesRegressor(input_matrix, ExtraTreesRegressor__bootstrap=True, ExtraTreesRegressor__max_features=1.0, ExtraTreesRegressor__min_samples_leaf=16, ExtraTreesRegressor__min_samples_split=12, ExtraTreesRegressor__n_estimators=100), KNeighborsRegressor__n_neighbors=1, KNeighborsRegressor__p=1, KNeighborsRegressor__weights=distance)\n",
      "Generation 14 - Current Pareto front scores:\n",
      "-1\t-0.0025021245515788864\tKNeighborsRegressor(input_matrix, KNeighborsRegressor__n_neighbors=1, KNeighborsRegressor__p=1, KNeighborsRegressor__weights=uniform)\n",
      "-2\t-0.0008211805726918405\tKNeighborsRegressor(ExtraTreesRegressor(input_matrix, ExtraTreesRegressor__bootstrap=True, ExtraTreesRegressor__max_features=1.0, ExtraTreesRegressor__min_samples_leaf=16, ExtraTreesRegressor__min_samples_split=12, ExtraTreesRegressor__n_estimators=100), KNeighborsRegressor__n_neighbors=1, KNeighborsRegressor__p=1, KNeighborsRegressor__weights=distance)\n",
      "Generation 15 - Current Pareto front scores:\n",
      "-1\t-0.0025021245515788864\tKNeighborsRegressor(input_matrix, KNeighborsRegressor__n_neighbors=1, KNeighborsRegressor__p=1, KNeighborsRegressor__weights=uniform)\n",
      "-2\t-0.0008211805726918405\tKNeighborsRegressor(ExtraTreesRegressor(input_matrix, ExtraTreesRegressor__bootstrap=True, ExtraTreesRegressor__max_features=1.0, ExtraTreesRegressor__min_samples_leaf=16, ExtraTreesRegressor__min_samples_split=12, ExtraTreesRegressor__n_estimators=100), KNeighborsRegressor__n_neighbors=1, KNeighborsRegressor__p=1, KNeighborsRegressor__weights=distance)"
     ]
    },
    {
     "data": {
      "text/plain": [
       "TPOTRegressor(config_dict=None, crossover_rate=0.1, cv=5,\n",
       "              disable_update_check=False, early_stop=None, generations=15,\n",
       "              log_file=<ipykernel.iostream.OutStream object at 0x7f0558357a58>,\n",
       "              max_eval_time_mins=5, max_time_mins=None, memory=None,\n",
       "              mutation_rate=0.9, n_jobs=-1, offspring_size=12,\n",
       "              periodic_checkpoint_folder=None, population_size=30,\n",
       "              random_state=None, scoring='neg_mean_squared_error',\n",
       "              subsample=1.0, template=None, use_dask=False, verbosity=3,\n",
       "              warm_start=False)"
      ]
     },
     "execution_count": 48,
     "metadata": {},
     "output_type": "execute_result"
    }
   ],
   "source": [
    "start_time = time.time()\n",
    "               \n",
    "# Current values for object TPOTRegressor. Constructor has initial 100 generations\n",
    "\n",
    "tpot_regressor= TPOTRegressor(generations=15, population_size=30,\n",
    "                         offspring_size=12, mutation_rate=0.9,\n",
    "                         crossover_rate=0.1,\n",
    "                         scoring='neg_mean_squared_error', cv=5,\n",
    "                         subsample=1.0, n_jobs=-1,\n",
    "                         max_time_mins=None, max_eval_time_mins=5,\n",
    "                         random_state=None, config_dict=None,\n",
    "                         template=None,\n",
    "                         warm_start=False,\n",
    "                         memory=None,\n",
    "                         use_dask=False,\n",
    "                         periodic_checkpoint_folder=None,\n",
    "                         early_stop=None,\n",
    "                         verbosity=3,\n",
    "                         disable_update_check=False)\n",
    "\n",
    "\n",
    "\n",
    "tpot_regressor.fit(train_features, train_labels) "
   ]
  },
  {
   "cell_type": "code",
   "execution_count": 50,
   "metadata": {
    "gather": {
     "logged": 1603907204568
    },
    "id": "ZTGZYZQHTcoe"
   },
   "outputs": [],
   "source": [
    "time_HpoTpot= time.time() - start_time\r\n",
    "predictionsTpot = tpot_regressor.predict(test_features)"
   ]
  },
  {
   "cell_type": "code",
   "execution_count": 51,
   "metadata": {
    "gather": {
     "logged": 1603907213876
    },
    "id": "r7FPS75F6RCQ"
   },
   "outputs": [
    {
     "data": {
      "text/plain": [
       "array([ 0.33377583,  2.63334611,  6.53474333, ..., 38.2241575 ,\n",
       "        1.98626667, 24.60817583])"
      ]
     },
     "execution_count": 51,
     "metadata": {},
     "output_type": "execute_result"
    }
   ],
   "source": [
    "predictionsTpot"
   ]
  },
  {
   "cell_type": "code",
   "execution_count": 52,
   "metadata": {
    "gather": {
     "logged": 1603907215902
    },
    "id": "svYQXmKe6RCR"
   },
   "outputs": [
    {
     "name": "stdout",
     "output_type": "stream",
     "text": [
      "8942.04030418396 seconds it took to train \n",
      "Root mean squared of Model with Genetic algorithim 0.02433704331682046\n"
     ]
    }
   ],
   "source": [
    "mean4 =np.sqrt(mean_squared_error(predictionsTpot,test_labels))\n",
    "print(\"%s seconds it took to train \" % (time_HpoTpot))\n",
    "print('Root mean squared of Model with Genetic algorithim', mean4)"
   ]
  },
  {
   "cell_type": "markdown",
   "metadata": {
    "gather": {
     "logged": 1603907220854
    },
    "id": "3egSD9wB6RCT"
   },
   "source": [
    "# Results\n",
    "\n",
    "The results for Random forest regression (Root mean squared error in hours). For the time it took to tune is displayed on each section of the HPO algorithims tuning sections."
   ]
  },
  {
   "cell_type": "code",
   "execution_count": 53,
   "metadata": {
    "gather": {
     "logged": 1603907220854
    },
    "id": "3egSD9wB6RCT"
   },
   "outputs": [
    {
     "name": "stdout",
     "output_type": "stream",
     "text": [
      "Root mean squared of Model without training 0.04898058969128082\n",
      "Root mean squared of Model with Random search 0.05337023816473125\n",
      "Root mean squared of Model with Bayesian 3.3906692822837488\n",
      "Root mean squared of Model with Genetic algorithim 0.02433704331682046\n"
     ]
    }
   ],
   "source": [
    "print('Root mean squared of Model without training', mean1)\n",
    "print('Root mean squared of Model with Random search', mean2)\n",
    "print('Root mean squared of Model with Bayesian', mean3)\n",
    "print('Root mean squared of Model with Genetic algorithim', mean4)"
   ]
  }
 ],
 "metadata": {
  "colab": {
   "collapsed_sections": [],
   "machine_shape": "hm",
   "name": "ETA_train_test-1.ipynb",
   "provenance": []
  },
  "kernel_info": {
   "name": "python3"
  },
  "kernelspec": {
   "display_name": "Python 3",
   "language": "python",
   "name": "python3"
  },
  "language_info": {
   "codemirror_mode": {
    "name": "ipython",
    "version": 3
   },
   "file_extension": ".py",
   "mimetype": "text/x-python",
   "name": "python",
   "nbconvert_exporter": "python",
   "pygments_lexer": "ipython3",
   "version": "3.7.4"
  },
  "nteract": {
   "version": "nteract-front-end@1.0.0"
  }
 },
 "nbformat": 4,
 "nbformat_minor": 4
}
