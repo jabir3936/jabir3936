{
  "cells": [
    {
      "cell_type": "code",
      "source": [
        "!pip install geopy\n",
        "from sklearn import preprocessing\n",
        "import numpy as np\n",
        "import pandas as pd\n",
        "import glob\n",
        "import geopy\n",
        "import geopy.distance\n",
        "import datetime\n",
        "import sys\n",
        "import time\n",
        "#Training part of the data\n",
        "\n",
        "from pandas.plotting import scatter_matrix\n",
        "from matplotlib import pyplot\n",
        "from sklearn.model_selection import train_test_split\n",
        "from sklearn.model_selection import cross_val_score\n",
        "from sklearn.model_selection import StratifiedKFold\n",
        "from sklearn.ensemble import RandomForestRegressor\n",
        "from sklearn.ensemble import RandomForestClassifier\n",
        "from sklearn.metrics import classification_report\n",
        "from sklearn.metrics import confusion_matrix\n",
        "from sklearn.metrics import accuracy_score\n",
        "from sklearn.linear_model import LogisticRegression\n",
        "from sklearn.tree import DecisionTreeClassifier\n",
        "from sklearn.neighbors import KNeighborsClassifier\n",
        "from sklearn.discriminant_analysis import LinearDiscriminantAnalysis\n",
        "from sklearn.naive_bayes import GaussianNB\n",
        "from sklearn.svm import SVC\n",
        "from sklearn.metrics import mean_squared_error\n",
        "from sklearn.model_selection import RandomizedSearchCV\n",
        "from sklearn.model_selection import GridSearchCV\n",
        "from sklearn.impute import SimpleImputer\n",
        "\n",
        "import matplotlib.pyplot as plt\n",
        "\n",
        "!pip install hyperopt\n",
        "from hyperopt import fmin, tpe, hp,STATUS_OK, Trials\n",
        "\n",
        "!pip install tpot\n",
        "!pip install xgboost\n",
        "#pip install IProgress\n",
        "#!pip install ipywidgets\n",
        "!pip install --upgrade jupyter_client\n",
        "!jupyter nbextension enable --py widgetsnbextension --sys-prefix\n",
        "#Tuning using genetic algorithim using TPOT library. install using ' pip install tpot ''\n",
        "\n",
        "from tpot import TPOTRegressor\n",
        "#from ipywidgets import IntProgres"
      ],
      "outputs": [
        {
          "output_type": "stream",
          "name": "stdout",
          "text": [
            "Requirement already satisfied: geopy in /anaconda/envs/azureml_py36/lib/python3.6/site-packages (2.0.0)\n",
            "Requirement already satisfied: geographiclib<2,>=1.49 in /anaconda/envs/azureml_py36/lib/python3.6/site-packages (from geopy) (1.50)\n",
            "Requirement already satisfied: hyperopt in /anaconda/envs/azureml_py36/lib/python3.6/site-packages (0.2.5)\n",
            "Requirement already satisfied: scipy in /anaconda/envs/azureml_py36/lib/python3.6/site-packages (from hyperopt) (1.4.1)\n",
            "Requirement already satisfied: networkx>=2.2 in /anaconda/envs/azureml_py36/lib/python3.6/site-packages (from hyperopt) (2.5)\n",
            "Requirement already satisfied: six in /anaconda/envs/azureml_py36/lib/python3.6/site-packages (from hyperopt) (1.15.0)\n",
            "Requirement already satisfied: future in /anaconda/envs/azureml_py36/lib/python3.6/site-packages (from hyperopt) (0.18.2)\n",
            "Requirement already satisfied: numpy in /anaconda/envs/azureml_py36/lib/python3.6/site-packages (from hyperopt) (1.18.5)\n",
            "Requirement already satisfied: cloudpickle in /anaconda/envs/azureml_py36/lib/python3.6/site-packages (from hyperopt) (1.6.0)\n",
            "Requirement already satisfied: tqdm in /anaconda/envs/azureml_py36/lib/python3.6/site-packages (from hyperopt) (4.50.1)\n",
            "Requirement already satisfied: decorator>=4.3.0 in /anaconda/envs/azureml_py36/lib/python3.6/site-packages (from networkx>=2.2->hyperopt) (4.4.2)\n",
            "Requirement already satisfied: tpot in /anaconda/envs/azureml_py36/lib/python3.6/site-packages (0.11.5)\n",
            "Requirement already satisfied: pandas>=0.24.2 in /anaconda/envs/azureml_py36/lib/python3.6/site-packages (from tpot) (0.25.3)\n",
            "Requirement already satisfied: scipy>=1.3.1 in /anaconda/envs/azureml_py36/lib/python3.6/site-packages (from tpot) (1.4.1)\n",
            "Requirement already satisfied: stopit>=1.1.1 in /anaconda/envs/azureml_py36/lib/python3.6/site-packages (from tpot) (1.1.2)\n",
            "Requirement already satisfied: deap>=1.2 in /anaconda/envs/azureml_py36/lib/python3.6/site-packages (from tpot) (1.3.1)\n",
            "Requirement already satisfied: numpy>=1.16.3 in /anaconda/envs/azureml_py36/lib/python3.6/site-packages (from tpot) (1.18.5)\n",
            "Requirement already satisfied: joblib>=0.13.2 in /anaconda/envs/azureml_py36/lib/python3.6/site-packages (from tpot) (0.14.1)\n",
            "Requirement already satisfied: tqdm>=4.36.1 in /anaconda/envs/azureml_py36/lib/python3.6/site-packages (from tpot) (4.50.1)\n",
            "Requirement already satisfied: scikit-learn>=0.22.0 in /anaconda/envs/azureml_py36/lib/python3.6/site-packages (from tpot) (0.22.2.post1)\n",
            "Requirement already satisfied: update-checker>=0.16 in /anaconda/envs/azureml_py36/lib/python3.6/site-packages (from tpot) (0.18.0)\n",
            "Requirement already satisfied: pytz>=2017.2 in /anaconda/envs/azureml_py36/lib/python3.6/site-packages (from pandas>=0.24.2->tpot) (2020.1)\n",
            "Requirement already satisfied: python-dateutil>=2.6.1 in /anaconda/envs/azureml_py36/lib/python3.6/site-packages (from pandas>=0.24.2->tpot) (2.8.1)\n",
            "Requirement already satisfied: requests>=2.3.0 in /anaconda/envs/azureml_py36/lib/python3.6/site-packages (from update-checker>=0.16->tpot) (2.24.0)\n",
            "Requirement already satisfied: six>=1.5 in /anaconda/envs/azureml_py36/lib/python3.6/site-packages (from python-dateutil>=2.6.1->pandas>=0.24.2->tpot) (1.15.0)\n",
            "Requirement already satisfied: chardet<4,>=3.0.2 in /anaconda/envs/azureml_py36/lib/python3.6/site-packages (from requests>=2.3.0->update-checker>=0.16->tpot) (3.0.4)\n",
            "Requirement already satisfied: urllib3!=1.25.0,!=1.25.1,<1.26,>=1.21.1 in /anaconda/envs/azureml_py36/lib/python3.6/site-packages (from requests>=2.3.0->update-checker>=0.16->tpot) (1.25.10)\n",
            "Requirement already satisfied: idna<3,>=2.5 in /anaconda/envs/azureml_py36/lib/python3.6/site-packages (from requests>=2.3.0->update-checker>=0.16->tpot) (2.10)\n",
            "Requirement already satisfied: certifi>=2017.4.17 in /anaconda/envs/azureml_py36/lib/python3.6/site-packages (from requests>=2.3.0->update-checker>=0.16->tpot) (2020.6.20)\n",
            "Requirement already satisfied: xgboost in /anaconda/envs/azureml_py36/lib/python3.6/site-packages (0.90)\n",
            "Requirement already satisfied: numpy in /anaconda/envs/azureml_py36/lib/python3.6/site-packages (from xgboost) (1.18.5)\n",
            "Requirement already satisfied: scipy in /anaconda/envs/azureml_py36/lib/python3.6/site-packages (from xgboost) (1.4.1)\n",
            "Requirement already up-to-date: jupyter_client in /anaconda/envs/azureml_py36/lib/python3.6/site-packages (6.1.7)\n",
            "Requirement already satisfied, skipping upgrade: pyzmq>=13 in /anaconda/envs/azureml_py36/lib/python3.6/site-packages (from jupyter_client) (19.0.2)\n",
            "Requirement already satisfied, skipping upgrade: jupyter-core>=4.6.0 in /anaconda/envs/azureml_py36/lib/python3.6/site-packages (from jupyter_client) (4.6.3)\n",
            "Requirement already satisfied, skipping upgrade: tornado>=4.1 in /anaconda/envs/azureml_py36/lib/python3.6/site-packages (from jupyter_client) (6.0.4)\n",
            "Requirement already satisfied, skipping upgrade: traitlets in /anaconda/envs/azureml_py36/lib/python3.6/site-packages (from jupyter_client) (4.3.3)\n",
            "Requirement already satisfied, skipping upgrade: python-dateutil>=2.1 in /anaconda/envs/azureml_py36/lib/python3.6/site-packages (from jupyter_client) (2.8.1)\n",
            "Requirement already satisfied, skipping upgrade: six in /anaconda/envs/azureml_py36/lib/python3.6/site-packages (from traitlets->jupyter_client) (1.15.0)\n",
            "Requirement already satisfied, skipping upgrade: decorator in /anaconda/envs/azureml_py36/lib/python3.6/site-packages (from traitlets->jupyter_client) (4.4.2)\n",
            "Requirement already satisfied, skipping upgrade: ipython-genutils in /anaconda/envs/azureml_py36/lib/python3.6/site-packages (from traitlets->jupyter_client) (0.2.0)\n",
            "Config option `kernel_spec_manager_class` not recognized by `EnableNBExtensionApp`.\n",
            "Enabling notebook extension jupyter-js-widgets/extension...\n",
            "      - Validating: \u001b[32mOK\u001b[0m\n"
          ]
        }
      ],
      "execution_count": 36,
      "metadata": {
        "id": "56QVndj0O2B2",
        "outputId": "68bcf57e-5217-474c-d8f8-74c11c53f7c2",
        "colab": {
          "base_uri": "https://localhost:8080/",
          "height": 51
        },
        "gather": {
          "logged": 1603549363001
        }
      }
    },
    {
      "cell_type": "code",
      "source": [
        "# #only works with google hosted runtime \n",
        "# from google.colab import drive\n",
        "# drive.flush_and_unmount()\n",
        "# drive.mount('/content/drive')"
      ],
      "outputs": [],
      "execution_count": 37,
      "metadata": {
        "id": "wICY1d1HPLUg",
        "outputId": "b296bca6-2087-427b-ee5d-69f6dd3bf02b",
        "colab": {
          "base_uri": "https://localhost:8080/",
          "height": 51
        },
        "gather": {
          "logged": 1603549363996
        }
      }
    },
    {
      "cell_type": "code",
      "source": [
        "#path = r\"/content/drive/My Drive/ship_data_files /final_ship_data.csv\"    # for hosted runtime use this path \n",
        "\n",
        "path = r\"final_ship_data.csv\" #for local runtime\n",
        "\n",
        "                #remove lat2 ,lon2 \n",
        "                \n",
        "df=pd.read_csv(path,sep=',',low_memory=False)\n",
        "test_data=df\n",
        "df"
      ],
      "outputs": [
        {
          "output_type": "execute_result",
          "execution_count": 38,
          "data": {
            "text/plain": "        Length  Breadth  Draught  Longitude  Latitude   SOG        ETA  \\\n0        152.0     24.0      6.8   5.838777  53.63944  14.3  12.685507   \n1        152.0     24.0      6.8   5.845800  53.64076  14.3  12.667177   \n2        152.0     24.0      6.8   5.852149  53.64198  14.3  12.650496   \n3        152.0     24.0      6.8   5.858515  53.64320  14.3  12.633836   \n4        152.0     24.0      6.8   5.864876  53.64441  14.3  12.617179   \n...        ...      ...      ...        ...       ...   ...        ...   \n186520   229.0     38.0     13.3   9.806900  53.55355   7.4   0.083519   \n186521   229.0     38.0     13.3   9.810224  53.55293   7.3   0.066774   \n186522   229.0     38.0     13.3   9.813442  53.55230   7.2   0.049974   \n186523   229.0     38.0     13.3   9.816650  53.55172   7.1   0.033443   \n186524   229.0     38.0     13.3   9.819812  53.55116   7.1   0.016667   \n\n        Distance remaining      speed  \n0               440.630956  34.734991  \n1               439.857752  34.724213  \n2               439.158871  34.714754  \n3               438.458162  34.705070  \n4               437.758031  34.695397  \n...                    ...        ...  \n186520            1.808408  21.652544  \n186521            1.434516  21.483189  \n186522            1.071975  21.450709  \n186523            0.711492  21.275079  \n186524            0.356400  21.383975  \n\n[186525 rows x 9 columns]",
            "text/html": "<div>\n<style scoped>\n    .dataframe tbody tr th:only-of-type {\n        vertical-align: middle;\n    }\n\n    .dataframe tbody tr th {\n        vertical-align: top;\n    }\n\n    .dataframe thead th {\n        text-align: right;\n    }\n</style>\n<table border=\"1\" class=\"dataframe\">\n  <thead>\n    <tr style=\"text-align: right;\">\n      <th></th>\n      <th>Length</th>\n      <th>Breadth</th>\n      <th>Draught</th>\n      <th>Longitude</th>\n      <th>Latitude</th>\n      <th>SOG</th>\n      <th>ETA</th>\n      <th>Distance remaining</th>\n      <th>speed</th>\n    </tr>\n  </thead>\n  <tbody>\n    <tr>\n      <th>0</th>\n      <td>152.0</td>\n      <td>24.0</td>\n      <td>6.8</td>\n      <td>5.838777</td>\n      <td>53.63944</td>\n      <td>14.3</td>\n      <td>12.685507</td>\n      <td>440.630956</td>\n      <td>34.734991</td>\n    </tr>\n    <tr>\n      <th>1</th>\n      <td>152.0</td>\n      <td>24.0</td>\n      <td>6.8</td>\n      <td>5.845800</td>\n      <td>53.64076</td>\n      <td>14.3</td>\n      <td>12.667177</td>\n      <td>439.857752</td>\n      <td>34.724213</td>\n    </tr>\n    <tr>\n      <th>2</th>\n      <td>152.0</td>\n      <td>24.0</td>\n      <td>6.8</td>\n      <td>5.852149</td>\n      <td>53.64198</td>\n      <td>14.3</td>\n      <td>12.650496</td>\n      <td>439.158871</td>\n      <td>34.714754</td>\n    </tr>\n    <tr>\n      <th>3</th>\n      <td>152.0</td>\n      <td>24.0</td>\n      <td>6.8</td>\n      <td>5.858515</td>\n      <td>53.64320</td>\n      <td>14.3</td>\n      <td>12.633836</td>\n      <td>438.458162</td>\n      <td>34.705070</td>\n    </tr>\n    <tr>\n      <th>4</th>\n      <td>152.0</td>\n      <td>24.0</td>\n      <td>6.8</td>\n      <td>5.864876</td>\n      <td>53.64441</td>\n      <td>14.3</td>\n      <td>12.617179</td>\n      <td>437.758031</td>\n      <td>34.695397</td>\n    </tr>\n    <tr>\n      <th>...</th>\n      <td>...</td>\n      <td>...</td>\n      <td>...</td>\n      <td>...</td>\n      <td>...</td>\n      <td>...</td>\n      <td>...</td>\n      <td>...</td>\n      <td>...</td>\n    </tr>\n    <tr>\n      <th>186520</th>\n      <td>229.0</td>\n      <td>38.0</td>\n      <td>13.3</td>\n      <td>9.806900</td>\n      <td>53.55355</td>\n      <td>7.4</td>\n      <td>0.083519</td>\n      <td>1.808408</td>\n      <td>21.652544</td>\n    </tr>\n    <tr>\n      <th>186521</th>\n      <td>229.0</td>\n      <td>38.0</td>\n      <td>13.3</td>\n      <td>9.810224</td>\n      <td>53.55293</td>\n      <td>7.3</td>\n      <td>0.066774</td>\n      <td>1.434516</td>\n      <td>21.483189</td>\n    </tr>\n    <tr>\n      <th>186522</th>\n      <td>229.0</td>\n      <td>38.0</td>\n      <td>13.3</td>\n      <td>9.813442</td>\n      <td>53.55230</td>\n      <td>7.2</td>\n      <td>0.049974</td>\n      <td>1.071975</td>\n      <td>21.450709</td>\n    </tr>\n    <tr>\n      <th>186523</th>\n      <td>229.0</td>\n      <td>38.0</td>\n      <td>13.3</td>\n      <td>9.816650</td>\n      <td>53.55172</td>\n      <td>7.1</td>\n      <td>0.033443</td>\n      <td>0.711492</td>\n      <td>21.275079</td>\n    </tr>\n    <tr>\n      <th>186524</th>\n      <td>229.0</td>\n      <td>38.0</td>\n      <td>13.3</td>\n      <td>9.819812</td>\n      <td>53.55116</td>\n      <td>7.1</td>\n      <td>0.016667</td>\n      <td>0.356400</td>\n      <td>21.383975</td>\n    </tr>\n  </tbody>\n</table>\n<p>186525 rows × 9 columns</p>\n</div>"
          },
          "metadata": {}
        }
      ],
      "execution_count": 38,
      "metadata": {
        "id": "VSbOpXeJPWTS",
        "outputId": "3e49367e-07ad-446b-ae68-5b10ace540e6",
        "colab": {
          "base_uri": "https://localhost:8080/",
          "height": 419
        },
        "gather": {
          "logged": 1603549365883
        }
      }
    },
    {
      "cell_type": "code",
      "source": [
        "train=test_data\n",
        "\n",
        "#Features\n",
        "X_Train = train.drop('ETA', axis=1)\n",
        "\n",
        "# Create our imputer to replace missing values with the mean e.g.\n",
        "imp = SimpleImputer(missing_values=np.nan, strategy='mean')\n",
        "imp = imp.fit(X_Train)\n",
        "\n",
        "\n",
        "# Impute our data, then train\n",
        "X_train_imp = imp.transform(X_Train)\n",
        "X= np.array(X_train_imp)\n",
        "\n",
        "# Labels\n",
        "Y= np.array(train['ETA'])\n",
        "\n",
        "min_max_scaler = preprocessing.MinMaxScaler()\n",
        "X_train_minmax = min_max_scaler.fit_transform(X)\n",
        "X=X_train_minmax\n",
        "Y.size"
      ],
      "outputs": [
        {
          "output_type": "execute_result",
          "execution_count": 39,
          "data": {
            "text/plain": "186525"
          },
          "metadata": {}
        }
      ],
      "execution_count": 39,
      "metadata": {
        "id": "5ofmiRpRSYBo",
        "outputId": "387737ec-ce5c-4fb0-e657-01dc683d4ea4",
        "colab": {
          "base_uri": "https://localhost:8080/",
          "height": 34
        },
        "gather": {
          "logged": 1603549518042
        }
      }
    },
    {
      "cell_type": "code",
      "source": [
        "X"
      ],
      "outputs": [
        {
          "output_type": "execute_result",
          "execution_count": 41,
          "data": {
            "text/plain": "array([[8.45771144e-02, 1.50684932e-01, 2.90598291e-01, ...,\n        5.89958159e-01, 8.85479736e-01, 2.87810730e-01],\n       [8.45771144e-02, 1.50684932e-01, 2.90598291e-01, ...,\n        5.89958159e-01, 8.83925305e-01, 2.87694706e-01],\n       [8.45771144e-02, 1.50684932e-01, 2.90598291e-01, ...,\n        5.89958159e-01, 8.82520293e-01, 2.87592876e-01],\n       ...,\n       [2.12271973e-01, 3.42465753e-01, 8.46153846e-01, ...,\n        2.92887029e-01, 1.80171753e-03, 1.44800810e-01],\n       [2.12271973e-01, 3.42465753e-01, 8.46153846e-01, ...,\n        2.88702929e-01, 1.07701073e-03, 1.42910086e-01],\n       [2.12271973e-01, 3.42465753e-01, 8.46153846e-01, ...,\n        2.88702929e-01, 3.63142472e-04, 1.44082390e-01]])"
          },
          "metadata": {}
        }
      ],
      "execution_count": 41,
      "metadata": {
        "id": "JOTfRm0H6RBJ",
        "outputId": "37272c35-d564-4db4-f589-3baa7ae92911",
        "colab": {
          "base_uri": "https://localhost:8080/",
          "height": 238
        },
        "gather": {
          "logged": 1603549556776
        }
      }
    },
    {
      "cell_type": "code",
      "source": [
        "#Split train and test\n",
        "train_features, test_features, train_labels, test_labels = train_test_split(X, Y, test_size = 0.25, random_state = 5)\n",
        "print('Training Features Shape:', train_features.shape)\n",
        "print('Training Labels Shape:', train_labels.shape)\n",
        "print('Testing Features Shape:', test_features.shape)\n",
        "print('Testing Labels Shape:', test_labels.shape)"
      ],
      "outputs": [
        {
          "output_type": "stream",
          "name": "stdout",
          "text": [
            "Training Features Shape: (139893, 8)\n",
            "Training Labels Shape: (139893,)\n",
            "Testing Features Shape: (46632, 8)\n",
            "Testing Labels Shape: (46632,)\n"
          ]
        }
      ],
      "execution_count": 42,
      "metadata": {
        "id": "-158gLC4Sewp",
        "outputId": "d50d4e4b-8982-4ab1-e128-879a4acbe201",
        "colab": {
          "base_uri": "https://localhost:8080/",
          "height": 85
        },
        "gather": {
          "logged": 1603549564670
        }
      }
    },
    {
      "cell_type": "code",
      "execution_count": null,
      "metadata": {},
      "outputs": [],
      "source": [
        "N_ESTIMATOR =100"
      ]
    },
    {
      "cell_type": "code",
      "source": [
        "#Training of the model, for this example using Random forest regressor\n",
        "\n",
        "start_time = time.time()\n",
        "rf = RandomForestRegressor(verbose=10,n_estimators=N_ESTIMATOR,n_jobs=-1)\n",
        "\n",
        "start_time = time.time()\n",
        "\n",
        "rf.fit(train_features, train_labels);\n",
        "# Use the forest's predict method on the test data\n",
        "predictions = rf.predict(test_features)\n",
        "\n",
        "time_noHpo= time.time() - start_time\n",
        "test_features"
      ],
      "outputs": [
        {
          "output_type": "stream",
          "name": "stderr",
          "text": [
            "[Parallel(n_jobs=-1)]: Using backend ThreadingBackend with 4 concurrent workers.\n",
            "[Parallel(n_jobs=-1)]: Done   5 tasks      | elapsed:    1.8s\n",
            "[Parallel(n_jobs=-1)]: Done  10 tasks      | elapsed:    2.7s\n",
            "[Parallel(n_jobs=-1)]: Done  17 tasks      | elapsed:    4.4s\n",
            "[Parallel(n_jobs=-1)]: Done  24 tasks      | elapsed:    5.9s\n",
            "[Parallel(n_jobs=-1)]: Done  33 tasks      | elapsed:    8.0s\n",
            "[Parallel(n_jobs=-1)]: Done  42 tasks      | elapsed:    9.9s\n",
            "[Parallel(n_jobs=-1)]: Done  53 tasks      | elapsed:   12.5s\n",
            "[Parallel(n_jobs=-1)]: Done  64 tasks      | elapsed:   15.1s\n",
            "[Parallel(n_jobs=-1)]: Done  77 tasks      | elapsed:   18.0s\n",
            "[Parallel(n_jobs=-1)]: Done  90 tasks      | elapsed:   21.1s\n",
            "[Parallel(n_jobs=-1)]: Done 100 out of 100 | elapsed:   23.1s finished\n",
            "[Parallel(n_jobs=4)]: Using backend ThreadingBackend with 4 concurrent workers.\n",
            "[Parallel(n_jobs=4)]: Done   5 tasks      | elapsed:    0.0s\n",
            "[Parallel(n_jobs=4)]: Done  10 tasks      | elapsed:    0.1s\n",
            "[Parallel(n_jobs=4)]: Done  17 tasks      | elapsed:    0.1s\n",
            "[Parallel(n_jobs=4)]: Done  24 tasks      | elapsed:    0.1s\n",
            "[Parallel(n_jobs=4)]: Done  33 tasks      | elapsed:    0.2s\n",
            "[Parallel(n_jobs=4)]: Done  42 tasks      | elapsed:    0.2s\n",
            "[Parallel(n_jobs=4)]: Done  53 tasks      | elapsed:    0.2s\n",
            "[Parallel(n_jobs=4)]: Done  64 tasks      | elapsed:    0.3s\n",
            "[Parallel(n_jobs=4)]: Done  77 tasks      | elapsed:    0.4s\n",
            "[Parallel(n_jobs=4)]: Done  90 tasks      | elapsed:    0.4s\n",
            "[Parallel(n_jobs=4)]: Done 100 out of 100 | elapsed:    0.5s finished\n"
          ]
        },
        {
          "output_type": "stream",
          "name": "stdout",
          "text": [
            "building tree 1 of 100\n",
            "building tree 2 of 100\n",
            "building tree 3 of 100\n",
            "building tree 4 of 100\n",
            "building tree 5 of 100\n",
            "building tree 6 of 100\n",
            "building tree 7 of 100\n",
            "building tree 8 of 100\n",
            "building tree 9 of 100\n",
            "building tree 10 of 100\n",
            "building tree 11 of 100\n",
            "building tree 12 of 100\n",
            "building tree 13 of 100\n",
            "building tree 14 of 100\n",
            "building tree 15 of 100\n",
            "building tree 16 of 100\n",
            "building tree 17 of 100\n",
            "building tree 18 of 100\n",
            "building tree 19 of 100\n",
            "building tree 20 of 100\n",
            "building tree 21 of 100\n",
            "building tree 22 of 100\n",
            "building tree 23 of 100\n",
            "building tree 24 of 100\n",
            "building tree 25 of 100\n",
            "building tree 26 of 100\n",
            "building tree 27 of 100\n",
            "building tree 28 of 100\n",
            "building tree 29 of 100\n",
            "building tree 30 of 100\n",
            "building tree 31 of 100\n",
            "building tree 32 of 100\n",
            "building tree 33 of 100\n",
            "building tree 34 of 100\n",
            "building tree 35 of 100\n",
            "building tree 36 of 100\n",
            "building tree 37 of 100\n",
            "building tree 38 of 100\n",
            "building tree 39 of 100\n",
            "building tree 40 of 100\n",
            "building tree 41 of 100\n",
            "building tree 42 of 100\n",
            "building tree 43 of 100\n",
            "building tree 44 of 100\n",
            "building tree 45 of 100\n",
            "building tree 46 of 100\n",
            "building tree 47 of 100\n",
            "building tree 48 of 100\n",
            "building tree 49 of 100\n",
            "building tree 50 of 100\n",
            "building tree 51 of 100\n",
            "building tree 52 of 100\n",
            "building tree 53 of 100\n",
            "building tree 54 of 100\n",
            "building tree 55 of 100\n",
            "building tree 56 of 100\n",
            "building tree 57 of 100\n",
            "building tree 58 of 100\n",
            "building tree 59 of 100\n",
            "building tree 60 of 100\n",
            "building tree 61 of 100\n",
            "building tree 62 of 100\n",
            "building tree 63 of 100\n",
            "building tree 64 of 100\n",
            "building tree 65 of 100\n",
            "building tree 66 of 100\n",
            "building tree 67 of 100\n",
            "building tree 68 of 100\n",
            "building tree 69 of 100\n",
            "building tree 70 of 100\n",
            "building tree 71 of 100\n",
            "building tree 72 of 100\n",
            "building tree 73 of 100\n",
            "building tree 74 of 100\n",
            "building tree 75 of 100\n",
            "building tree 76 of 100\n",
            "building tree 77 of 100\n",
            "building tree 78 of 100\n",
            "building tree 79 of 100\n",
            "building tree 80 of 100\n",
            "building tree 81 of 100\n",
            "building tree 82 of 100\n",
            "building tree 83 of 100\n",
            "building tree 84 of 100\n",
            "building tree 85 of 100\n",
            "building tree 86 of 100\n",
            "building tree 87 of 100\n",
            "building tree 88 of 100\n",
            "building tree 89 of 100\n",
            "building tree 90 of 100\n",
            "building tree 91 of 100\n",
            "building tree 92 of 100\n",
            "building tree 93 of 100\n",
            "building tree 94 of 100\n",
            "building tree 95 of 100\n",
            "building tree 96 of 100\n",
            "building tree 97 of 100\n",
            "building tree 98 of 100\n",
            "building tree 99 of 100\n",
            "building tree 100 of 100\n"
          ]
        },
        {
          "output_type": "execute_result",
          "execution_count": 44,
          "data": {
            "text/plain": "array([[0.17578773, 0.23287671, 0.2991453 , ..., 0.49790795, 0.02440506,\n        0.29220158],\n       [0.20563847, 0.24657534, 0.57264957, ..., 0.45188285, 0.12725067,\n        0.1717478 ],\n       [0.41293532, 0.45205479, 0.76068376, ..., 0.23849372, 0.43586908,\n        0.27044907],\n       ...,\n       [0.29187396, 0.36986301, 0.60683761, ..., 0.79497908, 0.63529254,\n        0.00296428],\n       [0.13598673, 0.26027397, 0.44444444, ..., 0.43096234, 0.08142411,\n        0.1362038 ],\n       [0.13598673, 0.26027397, 0.52991453, ..., 0.46861925, 0.59828468,\n        0.04423233]])"
          },
          "metadata": {}
        }
      ],
      "execution_count": 44,
      "metadata": {
        "id": "WXclI5IESjXH",
        "outputId": "396c3c59-164a-4313-b8bf-060aa559639a",
        "colab": {
          "base_uri": "https://localhost:8080/",
          "height": 952
        },
        "gather": {
          "logged": 1603550785799
        }
      }
    },
    {
      "cell_type": "code",
      "source": [
        "test_labels"
      ],
      "outputs": [
        {
          "output_type": "execute_result",
          "execution_count": 45,
          "data": {
            "text/plain": "array([ 0.35043611,  2.64979611,  6.55105444, ..., 38.20745083,\n        1.96966306, 24.59149167])"
          },
          "metadata": {}
        }
      ],
      "execution_count": 45,
      "metadata": {
        "id": "IrRzvXKTZJg9",
        "outputId": "305cf95c-661b-464b-877f-3c36e4346124",
        "colab": {
          "base_uri": "https://localhost:8080/",
          "height": 51
        },
        "gather": {
          "logged": 1603550801195
        }
      }
    },
    {
      "cell_type": "code",
      "source": [
        "mean1 = np.sqrt(mean_squared_error(predictions, test_labels))\n",
        "\n",
        "print(\"%s seconds it took to train \" % (time_noHpo))\n",
        "print('\\nRoot mean squared of Model without training', mean1)"
      ],
      "outputs": [
        {
          "output_type": "stream",
          "name": "stdout",
          "text": [
            "23.698172330856323 seconds it took to train \n",
            "\n",
            "Root mean squared of Model without training 0.038124877566582574\n"
          ]
        }
      ],
      "execution_count": 46,
      "metadata": {
        "id": "v0ABwU-P6RBW",
        "outputId": "17bb7f44-bb3f-4a43-e20c-f648eeac22a2",
        "colab": {
          "base_uri": "https://localhost:8080/",
          "height": 34
        },
        "gather": {
          "logged": 1603550805329
        }
      }
    },
    {
      "cell_type": "code",
      "source": [
        "\n",
        "# Use the random grid to search for best hyperparameters\n",
        "\n",
        "rfh = RandomForestRegressor()\n",
        "rfh.get_params()"
      ],
      "outputs": [
        {
          "output_type": "execute_result",
          "execution_count": 47,
          "data": {
            "text/plain": "{'bootstrap': True,\n 'ccp_alpha': 0.0,\n 'criterion': 'mse',\n 'max_depth': None,\n 'max_features': 'auto',\n 'max_leaf_nodes': None,\n 'max_samples': None,\n 'min_impurity_decrease': 0.0,\n 'min_impurity_split': None,\n 'min_samples_leaf': 1,\n 'min_samples_split': 2,\n 'min_weight_fraction_leaf': 0.0,\n 'n_estimators': 100,\n 'n_jobs': None,\n 'oob_score': False,\n 'random_state': None,\n 'verbose': 0,\n 'warm_start': False}"
          },
          "metadata": {}
        }
      ],
      "execution_count": 47,
      "metadata": {
        "id": "332GfR_OadBI",
        "outputId": "84cfaab5-3392-47bc-afbd-36666fd5eee0",
        "colab": {
          "base_uri": "https://localhost:8080/",
          "height": 476
        },
        "gather": {
          "logged": 1603550816211
        }
      }
    },
    {
      "cell_type": "code",
      "source": [
        "#Now to set the values needed for the parameters to do the random search, make combinations for the different parameters\n",
        "#important HPO max features leave as auto, sample size> Low no.  Node size> Low values\n",
        "max_depth=[1,32]\n",
        "max_features = ['auto']\n",
        "min_samples_leaf = [ 2,3]\n",
        "min_samples_split = [ 5]\n",
        "n_estimators = [int(x) for x in np.linspace(start = 10, stop =N_ESTIMATOR , num = 10)]\n",
        "bootstrap=[True, False]\n",
        "random_grid = {'n_estimators': n_estimators,\n",
        "               'max_features': max_features,\n",
        "               'max_depth': max_depth,\n",
        "               'min_samples_split': min_samples_split,\n",
        "               'min_samples_leaf': min_samples_leaf,\n",
        "               'bootstrap': bootstrap}\n",
        "random_grid"
      ],
      "outputs": [
        {
          "output_type": "execute_result",
          "execution_count": 48,
          "data": {
            "text/plain": "{'n_estimators': [10, 11, 12, 13, 14, 15, 16, 17, 18, 20],\n 'max_features': ['auto'],\n 'max_depth': [1, 32],\n 'min_samples_split': [5],\n 'min_samples_leaf': [2, 3],\n 'bootstrap': [True, False]}"
          },
          "metadata": {}
        }
      ],
      "execution_count": 48,
      "metadata": {
        "id": "TyT5GgDAaQma",
        "outputId": "75004a4c-2705-4b1b-a5a6-880a14f43934",
        "colab": {
          "base_uri": "https://localhost:8080/",
          "height": 119
        },
        "gather": {
          "logged": 1603550823375
        }
      }
    },
    {
      "cell_type": "code",
      "source": [
        "#Training of models with the tuning parameters made\n",
        "start_time = time.time()\n",
        "\n",
        "\n",
        "rf_random = RandomizedSearchCV(estimator = rfh, param_distributions = random_grid, n_iter = 100, cv = 3, verbose=10, random_state=5, n_jobs =-1)\n",
        "rf_random.fit(train_features, train_labels)\n",
        "\n",
        "time_HpoRandom= time.time() - start_time"
      ],
      "outputs": [
        {
          "output_type": "stream",
          "name": "stdout",
          "text": [
            "Fitting 3 folds for each of 80 candidates, totalling 240 fits\n"
          ]
        },
        {
          "output_type": "stream",
          "name": "stderr",
          "text": [
            "/anaconda/envs/azureml_py36/lib/python3.6/site-packages/sklearn/model_selection/_search.py:281: UserWarning: The total space of parameters 80 is smaller than n_iter=100. Running 80 iterations. For exhaustive searches, use GridSearchCV.\n",
            "  % (grid_size, self.n_iter, grid_size), UserWarning)\n",
            "[Parallel(n_jobs=-1)]: Using backend LokyBackend with 4 concurrent workers.\n",
            "[Parallel(n_jobs=-1)]: Done   5 tasks      | elapsed:    2.0s\n",
            "[Parallel(n_jobs=-1)]: Done  10 tasks      | elapsed:    2.6s\n",
            "[Parallel(n_jobs=-1)]: Done  17 tasks      | elapsed:    3.9s\n",
            "[Parallel(n_jobs=-1)]: Done  24 tasks      | elapsed:    5.0s\n",
            "[Parallel(n_jobs=-1)]: Done  33 tasks      | elapsed:    6.8s\n",
            "[Parallel(n_jobs=-1)]: Done  42 tasks      | elapsed:    8.2s\n",
            "[Parallel(n_jobs=-1)]: Done  53 tasks      | elapsed:   10.2s\n",
            "[Parallel(n_jobs=-1)]: Done  64 tasks      | elapsed:   17.5s\n",
            "[Parallel(n_jobs=-1)]: Done  77 tasks      | elapsed:   43.6s\n",
            "[Parallel(n_jobs=-1)]: Done  90 tasks      | elapsed:  1.2min\n",
            "[Parallel(n_jobs=-1)]: Done 105 tasks      | elapsed:  1.6min\n",
            "[Parallel(n_jobs=-1)]: Done 120 tasks      | elapsed:  2.0min\n",
            "[Parallel(n_jobs=-1)]: Done 137 tasks      | elapsed:  2.1min\n",
            "[Parallel(n_jobs=-1)]: Done 154 tasks      | elapsed:  2.2min\n",
            "[Parallel(n_jobs=-1)]: Done 173 tasks      | elapsed:  2.3min\n",
            "[Parallel(n_jobs=-1)]: Done 192 tasks      | elapsed:  2.8min\n",
            "[Parallel(n_jobs=-1)]: Done 213 tasks      | elapsed:  4.0min\n",
            "[Parallel(n_jobs=-1)]: Done 240 out of 240 | elapsed:  5.4min finished\n"
          ]
        }
      ],
      "execution_count": 49,
      "metadata": {
        "id": "hBPQ9BWrfjST",
        "outputId": "f403848b-d386-42e6-c17e-a6cd3df7a689",
        "colab": {
          "base_uri": "https://localhost:8080/",
          "height": 663
        },
        "gather": {
          "logged": 1603551165767
        }
      }
    },
    {
      "cell_type": "code",
      "source": [
        "rf_random.best_params_"
      ],
      "outputs": [
        {
          "output_type": "execute_result",
          "execution_count": 50,
          "data": {
            "text/plain": "{'n_estimators': 17,\n 'min_samples_split': 5,\n 'min_samples_leaf': 2,\n 'max_features': 'auto',\n 'max_depth': 32,\n 'bootstrap': True}"
          },
          "metadata": {}
        }
      ],
      "execution_count": 50,
      "metadata": {
        "id": "GoGPgFv3zj9D",
        "outputId": "faa8eaef-2974-4ef8-cf5b-42d5a23b88eb",
        "colab": {
          "base_uri": "https://localhost:8080/",
          "height": 119
        },
        "gather": {
          "logged": 1603551166534
        }
      }
    },
    {
      "cell_type": "code",
      "source": [
        "#Testing on the test features, predictions for random search\n",
        "predictions2=rf_random.predict(test_features)\n"
      ],
      "outputs": [],
      "execution_count": 51,
      "metadata": {
        "id": "l67P8XKJfD5J",
        "gather": {
          "logged": 1603551167866
        }
      }
    },
    {
      "cell_type": "code",
      "source": [
        "predictions2"
      ],
      "outputs": [
        {
          "output_type": "execute_result",
          "execution_count": 52,
          "data": {
            "text/plain": "array([ 0.35519155,  2.65687544,  6.5464102 , ..., 38.26711875,\n        1.95712162, 24.61217541])"
          },
          "metadata": {}
        }
      ],
      "execution_count": 52,
      "metadata": {
        "id": "iXEL7_wITcoN",
        "outputId": "1584731f-445d-4978-c636-c6420096110a",
        "colab": {
          "base_uri": "https://localhost:8080/",
          "height": 51
        },
        "gather": {
          "logged": 1603551168457
        }
      }
    },
    {
      "cell_type": "code",
      "source": [
        "\n",
        "mean2 =np.sqrt(mean_squared_error(predictions2, test_labels))\n",
        "print(\"%s seconds it took to train \" % (time_HpoRandom))\n",
        "print('\\nRoot mean squared of Model with Random search', mean2)"
      ],
      "outputs": [
        {
          "output_type": "stream",
          "name": "stdout",
          "text": [
            "334.4983274936676 seconds it took to train \n",
            "\n",
            "Root mean squared of Model with Random search 0.05181156069518475\n"
          ]
        }
      ],
      "execution_count": 53,
      "metadata": {
        "id": "WOB0t1ey6RBp",
        "outputId": "b073da12-64c9-4ea1-d8c3-39c23aa932eb",
        "colab": {
          "base_uri": "https://localhost:8080/",
          "height": 34
        },
        "gather": {
          "logged": 1603551169129
        }
      }
    },
    {
      "cell_type": "code",
      "source": [
        "#Tuning with Bayesian optimization\n",
        "\n",
        "#Define search space\n",
        "# min leaf> Low values , min split> low values  ,  n_estimators > Higher number of trees\n",
        "start_time = time.time()\n",
        "\n",
        "search_space= {'max_depth':hp.choice('max_depth',range(1,32)),\n",
        "        'max_features': hp.choice('max_features', ['auto', 'sqrt','log2', None]),\n",
        "        'min_samples_leaf': hp.uniform ('min_samples_leaf', 0, 0.5),\n",
        "        'min_samples_split' : hp.uniform ('min_samples_split', 0.1, 1.0),\n",
        "        'n_estimators' : hp.choice('n_estimators', (10,N_ESTIMATOR))\n",
        "    }\n",
        "\n",
        "def objective(search_space):\n",
        "    bayes = RandomForestRegressor(\n",
        "                                 max_depth=search_space['max_depth'],\n",
        "                                 max_features = search_space['max_features'],\n",
        "                                 min_samples_leaf = search_space['min_samples_leaf'],\n",
        "                                 min_samples_split = search_space['min_samples_split'],\n",
        "                                 n_estimators = search_space['n_estimators'], \n",
        "                               )\n",
        "    accuracy = cross_val_score(bayes, train_features, train_labels, cv =100).mean()\n",
        "    return {'loss': -accuracy, 'status': STATUS_OK }\n",
        "\n",
        "trials = Trials()\n",
        "best = fmin(fn= objective,\n",
        "            space= search_space,\n",
        "            algo= tpe.suggest,\n",
        "            max_evals = 20,\n",
        "            trials= trials)\n",
        "best\n",
        "\n",
        "# Training from bayes tuning\n",
        "feat = {0: 'auto', 1: 'sqrt', 2: 'log2', 3: None}\n",
        "\n",
        "trainedforest = RandomForestRegressor( \n",
        "                                       max_features = feat[best['max_features']], \n",
        "                                       min_samples_leaf = best['min_samples_leaf'], \n",
        "                                       min_samples_split = best['min_samples_split'], \n",
        "                                       n_estimators = best['n_estimators']\n",
        "                                      ).fit(train_features, train_labels)\n",
        "time_HpoBaysian= time.time() - start_time\n",
        "predictions3= trainedforest.predict(test_features)"
      ],
      "outputs": [
        {
          "output_type": "stream",
          "name": "stdout",
          "text": [
            "100%|██████████| 20/20 [45:06<00:00, 135.31s/trial, best loss: -0.8098505930554419] \n"
          ]
        }
      ],
      "execution_count": 62,
      "metadata": {
        "id": "AUsQc63tTcoP",
        "outputId": "8f649da6-cc05-486f-a943-9f618cc65738",
        "colab": {
          "base_uri": "https://localhost:8080/",
          "height": 34
        },
        "gather": {
          "logged": 1603622323169
        }
      }
    },
    {
      "cell_type": "code",
      "source": [
        "predictions3"
      ],
      "outputs": [
        {
          "output_type": "execute_result",
          "execution_count": 63,
          "data": {
            "text/plain": "array([ 7.03777443,  8.77491214,  9.52759419, ..., 30.22348395,\n        8.77491214, 30.22348395])"
          },
          "metadata": {}
        }
      ],
      "execution_count": 63,
      "metadata": {
        "id": "oX50612E6RBu",
        "gather": {
          "logged": 1603628938157
        }
      }
    },
    {
      "cell_type": "code",
      "source": [
        "mean3 = np.sqrt(mean_squared_error(predictions3, test_labels))\n",
        "print(\"%s seconds it took to train \" % (time_HpoBaysian))\n",
        "print('\\nRoot mean squared of Model with Bayesian', mean3)"
      ],
      "outputs": [
        {
          "output_type": "stream",
          "name": "stdout",
          "text": [
            "2706.3676578998566 seconds it took to train \n",
            "\n",
            "Root mean squared of Model with Bayesian 5.484243013652411\n"
          ]
        }
      ],
      "execution_count": 64,
      "metadata": {
        "id": "JGXXvmmo6RBy",
        "gather": {
          "logged": 1603628940751
        }
      }
    },
    {
      "cell_type": "code",
      "source": [
        "best"
      ],
      "outputs": [
        {
          "output_type": "execute_result",
          "execution_count": 65,
          "data": {
            "text/plain": "{'max_depth': 13,\n 'max_features': 1,\n 'min_samples_leaf': 0.06168568586387779,\n 'min_samples_split': 0.11995142378328298,\n 'n_estimators': 1}"
          },
          "metadata": {}
        }
      ],
      "execution_count": 65,
      "metadata": {
        "id": "QHGIbfOV6RB1",
        "gather": {
          "logged": 1603628945575
        }
      }
    },
    {
      "cell_type": "code",
      "source": [
        "start_time = time.time()\n",
        "# Current values for object TPOTRegressor. Constructor has initial 100 generations\n",
        "\n",
        "tpot_regressor= TPOTRegressor(generations=10, population_size=30,\n",
        "                         offspring_size=12, mutation_rate=0.9,\n",
        "                         crossover_rate=0.1,\n",
        "                         scoring='neg_mean_squared_error', cv=5,\n",
        "                         subsample=1.0, n_jobs=-1,\n",
        "                         max_time_mins=None, max_eval_time_mins=5,\n",
        "                         random_state=None, config_dict=None,\n",
        "                         template=None,\n",
        "                         warm_start=False,\n",
        "                         memory=None,\n",
        "                         use_dask=False,\n",
        "                         periodic_checkpoint_folder=None,\n",
        "                         early_stop=None,\n",
        "                         verbosity=3,\n",
        "                         disable_update_check=False)\n",
        "\n",
        "\n",
        "\n",
        "tpot_regressor.fit(train_features, train_labels) "
      ],
      "outputs": [
        {
          "output_type": "stream",
          "name": "stdout",
          "text": [
            "30 operators have been imported by TPOT.\n"
          ]
        },
        {
          "output_type": "display_data",
          "data": {
            "text/plain": "HBox(children=(HTML(value='Optimization Progress'), FloatProgress(value=0.0, max=390.0), HTML(value='')))",
            "application/vnd.jupyter.widget-view+json": {
              "version_major": 2,
              "version_minor": 0,
              "model_id": "c06fd4d193c5440399b251794f8aad11"
            }
          },
          "metadata": {}
        },
        {
          "output_type": "stream",
          "name": "stdout",
          "text": [
            "\n",
            "Generation 1 - Current Pareto front scores:\n",
            "Skipped pipeline #48 due to time out. Continuing to the next pipeline.estRegressor__bootstrap=False, RandomForestRegressor__max_features=0.7000000000000001, RandomForestRegressor__min_samples_leaf=11, RandomForestRegressor__min_samples_split=6, RandomForestRegressor__n_estimators=100)\n",
            "\n",
            "Generation 2 - Current Pareto front scores:\n",
            "-1\t-0.004333950685623686\tRandomForestRegressor(input_matrix, RandomForestRegressor__bootstrap=False, RandomForestRegressor__max_features=0.7000000000000001, RandomForestRegressor__min_samples_leaf=11, RandomForestRegressor__min_samples_split=6, RandomForestRegressor__n_estimators=100)\n",
            "Generation 3 - Current Pareto front scores:\n",
            "Skipped pipeline #76 due to time out. Continuing to the next pipeline.estRegressor__bootstrap=False, RandomForestRegressor__max_features=0.7000000000000001, RandomForestRegressor__min_samples_leaf=11, RandomForestRegressor__min_samples_split=6, RandomForestRegressor__n_estimators=100)\n",
            "\n",
            "Generation 4 - Current Pareto front scores:\n",
            "-1\t-0.004333950685623686\tRandomForestRegressor(input_matrix, RandomForestRegressor__bootstrap=False, RandomForestRegressor__max_features=0.7000000000000001, RandomForestRegressor__min_samples_leaf=11, RandomForestRegressor__min_samples_split=6, RandomForestRegressor__n_estimators=100)\n",
            "Generation 5 - Current Pareto front scores:\n",
            "-1\t-0.004333950685623686\tRandomForestRegressor(input_matrix, RandomForestRegressor__bootstrap=False, RandomForestRegressor__max_features=0.7000000000000001, RandomForestRegressor__min_samples_leaf=11, RandomForestRegressor__min_samples_split=6, RandomForestRegressor__n_estimators=100)\n",
            "Generation 6 - Current Pareto front scores:\n",
            "Skipped pipeline #116 due to time out. Continuing to the next pipeline.stRegressor__bootstrap=False, RandomForestRegressor__max_features=0.7000000000000001, RandomForestRegressor__min_samples_leaf=11, RandomForestRegressor__min_samples_split=6, RandomForestRegressor__n_estimators=100)\n",
            "\n",
            "Generation 7 - Current Pareto front scores:\n",
            "_pre_test decorator: _random_mutation_operator: num_test=0 Found array with 0 feature(s) (shape=(50, 0)) while a minimum of 1 is required..7000000000000001, RandomForestRegressor__min_samples_leaf=11, RandomForestRegressor__min_samples_split=6, RandomForestRegressor__n_estimators=100)\n",
            "\n",
            "Generation 8 - Current Pareto front scores:\n",
            "_pre_test decorator: _random_mutation_operator: num_test=0 Found array with 0 feature(s) (shape=(50, 0)) while a minimum of 1 is required..7000000000000001, RandomForestRegressor__min_samples_leaf=11, RandomForestRegressor__min_samples_split=6, RandomForestRegressor__n_estimators=100)\n",
            "\n",
            "Generation 9 - Current Pareto front scores:\n",
            "Skipped pipeline #152 due to time out. Continuing to the next pipeline.stRegressor__bootstrap=False, RandomForestRegressor__max_features=0.7000000000000001, RandomForestRegressor__min_samples_leaf=11, RandomForestRegressor__min_samples_split=6, RandomForestRegressor__n_estimators=100)\n",
            "\n",
            "Generation 10 - Current Pareto front scores:\n",
            "-1\t-0.004333950685623686\tRandomForestRegressor(input_matrix, RandomForestRegressor__bootstrap=False, RandomForestRegressor__max_features=0.7000000000000001, RandomForestRegressor__min_samples_leaf=11, RandomForestRegressor__min_samples_split=6, RandomForestRegressor__n_estimators=100)\n",
            "-4\t-0.002711864786250074\tKNeighborsRegressor(GradientBoostingRegressor(DecisionTreeRegressor(RandomForestRegressor(input_matrix, RandomForestRegressor__bootstrap=True, RandomForestRegressor__max_features=0.55, RandomForestRegressor__min_samples_leaf=10, RandomForestRegressor__min_samples_split=2, RandomForestRegressor__n_estimators=100), DecisionTreeRegressor__max_depth=9, DecisionTreeRegressor__min_samples_leaf=12, DecisionTreeRegressor__min_samples_split=3), GradientBoostingRegressor__alpha=0.8, GradientBoostingRegressor__learning_rate=0.01, GradientBoostingRegressor__loss=quantile, GradientBoostingRegressor__max_depth=2, GradientBoostingRegressor__max_features=0.5, GradientBoostingRegressor__min_samples_leaf=20, GradientBoostingRegressor__min_samples_split=11, GradientBoostingRegressor__n_estimators=100, GradientBoostingRegressor__subsample=0.55), KNeighborsRegressor__n_neighbors=18, KNeighborsRegressor__p=1, KNeighborsRegressor__weights=distance)\n",
            "Generation 11 - Current Pareto front scores:\n",
            "-1\t-0.004333950685623686\tRandomForestRegressor(input_matrix, RandomForestRegressor__bootstrap=False, RandomForestRegressor__max_features=0.7000000000000001, RandomForestRegressor__min_samples_leaf=11, RandomForestRegressor__min_samples_split=6, RandomForestRegressor__n_estimators=100)\n",
            "-3\t-0.0034696134107727304\tKNeighborsRegressor(DecisionTreeRegressor(RandomForestRegressor(input_matrix, RandomForestRegressor__bootstrap=True, RandomForestRegressor__max_features=0.55, RandomForestRegressor__min_samples_leaf=10, RandomForestRegressor__min_samples_split=2, RandomForestRegressor__n_estimators=100), DecisionTreeRegressor__max_depth=9, DecisionTreeRegressor__min_samples_leaf=12, DecisionTreeRegressor__min_samples_split=3), KNeighborsRegressor__n_neighbors=18, KNeighborsRegressor__p=2, KNeighborsRegressor__weights=distance)\n",
            "-4\t-0.002711864786250074\tKNeighborsRegressor(GradientBoostingRegressor(DecisionTreeRegressor(RandomForestRegressor(input_matrix, RandomForestRegressor__bootstrap=True, RandomForestRegressor__max_features=0.55, RandomForestRegressor__min_samples_leaf=10, RandomForestRegressor__min_samples_split=2, RandomForestRegressor__n_estimators=100), DecisionTreeRegressor__max_depth=9, DecisionTreeRegressor__min_samples_leaf=12, DecisionTreeRegressor__min_samples_split=3), GradientBoostingRegressor__alpha=0.8, GradientBoostingRegressor__learning_rate=0.01, GradientBoostingRegressor__loss=quantile, GradientBoostingRegressor__max_depth=2, GradientBoostingRegressor__max_features=0.5, GradientBoostingRegressor__min_samples_leaf=20, GradientBoostingRegressor__min_samples_split=11, GradientBoostingRegressor__n_estimators=100, GradientBoostingRegressor__subsample=0.55), KNeighborsRegressor__n_neighbors=18, KNeighborsRegressor__p=1, KNeighborsRegressor__weights=distance)\n",
            "Generation 12 - Current Pareto front scores:\n",
            "Skipped pipeline #182 due to time out. Continuing to the next pipeline.egressor__bootstrap=False, ExtraTreesRegressor__max_features=0.8, ExtraTreesRegressor__min_samples_leaf=3, ExtraTreesRegressor__min_samples_split=12, ExtraTreesRegressor__n_estimators=100)\n",
            "Skipped pipeline #184 due to time out. Continuing to the next pipeline.\n",
            "Skipped pipeline #191 due to time out. Continuing to the next pipeline.\n",
            "\n",
            "Generation 13 - Current Pareto front scores:\n",
            "Skipped pipeline #195 due to time out. Continuing to the next pipeline.egressor__bootstrap=False, ExtraTreesRegressor__max_features=0.8, ExtraTreesRegressor__min_samples_leaf=3, ExtraTreesRegressor__min_samples_split=12, ExtraTreesRegressor__n_estimators=100)\n",
            "Skipped pipeline #202 due to time out. Continuing to the next pipeline.\n",
            "Skipped pipeline #206 due to time out. Continuing to the next pipeline.\n",
            "\n",
            "Generation 14 - Current Pareto front scores:\n",
            "-1\t-0.0007219200004631465\tExtraTreesRegressor(input_matrix, ExtraTreesRegressor__bootstrap=False, ExtraTreesRegressor__max_features=0.8, ExtraTreesRegressor__min_samples_leaf=3, ExtraTreesRegressor__min_samples_split=12, ExtraTreesRegressor__n_estimators=100)\n",
            "Generation 15 - Current Pareto front scores:\n",
            "-1\t-0.0007219200004631465\tExtraTreesRegressor(input_matrix, ExtraTreesRegressor__bootstrap=False, ExtraTreesRegressor__max_features=0.8, ExtraTreesRegressor__min_samples_leaf=3, ExtraTreesRegressor__min_samples_split=12, ExtraTreesRegressor__n_estimators=100)\n",
            "Generation 16 - Current Pareto front scores:\n",
            "Skipped pipeline #239 due to time out. Continuing to the next pipeline.egressor__bootstrap=False, ExtraTreesRegressor__max_features=0.8, ExtraTreesRegressor__min_samples_leaf=3, ExtraTreesRegressor__min_samples_split=12, ExtraTreesRegressor__n_estimators=100)\n",
            "\n",
            "Generation 17 - Current Pareto front scores:\n",
            "-1\t-0.0007219200004631465\tExtraTreesRegressor(input_matrix, ExtraTreesRegressor__bootstrap=False, ExtraTreesRegressor__max_features=0.8, ExtraTreesRegressor__min_samples_leaf=3, ExtraTreesRegressor__min_samples_split=12, ExtraTreesRegressor__n_estimators=100)\n",
            "Generation 18 - Current Pareto front scores:\n",
            "Skipped pipeline #264 due to time out. Continuing to the next pipeline.egressor__bootstrap=False, ExtraTreesRegressor__max_features=0.8, ExtraTreesRegressor__min_samples_leaf=3, ExtraTreesRegressor__min_samples_split=12, ExtraTreesRegressor__n_estimators=100)\n",
            "\n",
            "Generation 19 - Current Pareto front scores:\n",
            "Skipped pipeline #276 due to time out. Continuing to the next pipeline.egressor__bootstrap=False, ExtraTreesRegressor__max_features=0.8, ExtraTreesRegressor__min_samples_leaf=3, ExtraTreesRegressor__min_samples_split=12, ExtraTreesRegressor__n_estimators=100)\n",
            "\n",
            "Generation 20 - Current Pareto front scores:\n",
            "-1\t-0.0007219200004631465\tExtraTreesRegressor(input_matrix, ExtraTreesRegressor__bootstrap=False, ExtraTreesRegressor__max_features=0.8, ExtraTreesRegressor__min_samples_leaf=3, ExtraTreesRegressor__min_samples_split=12, ExtraTreesRegressor__n_estimators=100)\n",
            "-3\t-0.0006536212042928849\tExtraTreesRegressor(SelectFwe(PolynomialFeatures(input_matrix, PolynomialFeatures__degree=2, PolynomialFeatures__include_bias=False, PolynomialFeatures__interaction_only=False), SelectFwe__alpha=0.049), ExtraTreesRegressor__bootstrap=False, ExtraTreesRegressor__max_features=0.8, ExtraTreesRegressor__min_samples_leaf=5, ExtraTreesRegressor__min_samples_split=15, ExtraTreesRegressor__n_estimators=100)\n",
            "Generation 21 - Current Pareto front scores:\n",
            "-1\t-0.0007219200004631465\tExtraTreesRegressor(input_matrix, ExtraTreesRegressor__bootstrap=False, ExtraTreesRegressor__max_features=0.8, ExtraTreesRegressor__min_samples_leaf=3, ExtraTreesRegressor__min_samples_split=12, ExtraTreesRegressor__n_estimators=100)\n",
            "_pre_test decorator: _random_mutation_operator: num_test=0 Expected n_neighbors <= n_samples,  but n_samples = 50, n_neighbors = 94.clude_bias=False, PolynomialFeatures__interaction_only=False), ExtraTreesRegressor__bootstrap=False, ExtraTreesRegressor__max_features=0.8, ExtraTreesRegressor__min_samples_leaf=3, ExtraTreesRegressor__min_samples_split=12, ExtraTreesRegressor__n_estimators=100)\n",
            "Skipped pipeline #297 due to time out. Continuing to the next pipeline.\n",
            "Skipped pipeline #304 due to time out. Continuing to the next pipeline.\n",
            "\n",
            "Generation 22 - Current Pareto front scores:\n",
            "-1\t-0.0007219200004631465\tExtraTreesRegressor(input_matrix, ExtraTreesRegressor__bootstrap=False, ExtraTreesRegressor__max_features=0.8, ExtraTreesRegressor__min_samples_leaf=3, ExtraTreesRegressor__min_samples_split=12, ExtraTreesRegressor__n_estimators=100)\n",
            "_pre_test decorator: _random_mutation_operator: num_test=0 No feature in X meets the variance threshold 0.20000.lynomialFeatures__include_bias=False, PolynomialFeatures__interaction_only=False), ExtraTreesRegressor__bootstrap=False, ExtraTreesRegressor__max_features=0.8, ExtraTreesRegressor__min_samples_leaf=3, ExtraTreesRegressor__min_samples_split=12, ExtraTreesRegressor__n_estimators=100)\n",
            "Pipeline encountered that has previously been evaluated during the optimization process. Using the score from the previous evaluation.\n",
            "Skipped pipeline #311 due to time out. Continuing to the next pipeline.\n",
            "\n",
            "Generation 23 - Current Pareto front scores:\n",
            "-1\t-0.0007219200004631465\tExtraTreesRegressor(input_matrix, ExtraTreesRegressor__bootstrap=False, ExtraTreesRegressor__max_features=0.8, ExtraTreesRegressor__min_samples_leaf=3, ExtraTreesRegressor__min_samples_split=12, ExtraTreesRegressor__n_estimators=100)\n",
            "_pre_test decorator: _random_mutation_operator: num_test=0 Expected n_neighbors <= n_samples,  but n_samples = 50, n_neighbors = 79.clude_bias=False, PolynomialFeatures__interaction_only=False), ExtraTreesRegressor__bootstrap=False, ExtraTreesRegressor__max_features=0.8, ExtraTreesRegressor__min_samples_leaf=3, ExtraTreesRegressor__min_samples_split=12, ExtraTreesRegressor__n_estimators=100)\n",
            "_pre_test decorator: _random_mutation_operator: num_test=0 Found array with 0 feature(s) (shape=(50, 0)) while a minimum of 1 is required..\n",
            "_pre_test decorator: _random_mutation_operator: num_test=0 Unsupported set of arguments: The combination of penalty='l2' and loss='epsilon_insensitive' are not supported when dual=False, Parameters: penalty='l2', loss='epsilon_insensitive', dual=False.\n",
            "\n",
            "Generation 24 - Current Pareto front scores:\n",
            "-1\t-0.0007219200004631465\tExtraTreesRegressor(input_matrix, ExtraTreesRegressor__bootstrap=False, ExtraTreesRegressor__max_features=0.8, ExtraTreesRegressor__min_samples_leaf=3, ExtraTreesRegressor__min_samples_split=12, ExtraTreesRegressor__n_estimators=100)\n",
            "-2\t-0.00041311047743901807\tExtraTreesRegressor(PolynomialFeatures(input_matrix, PolynomialFeatures__degree=2, PolynomialFeatures__include_bias=False, PolynomialFeatures__interaction_only=False), ExtraTreesRegressor__bootstrap=False, ExtraTreesRegressor__max_features=0.8, ExtraTreesRegressor__min_samples_leaf=3, ExtraTreesRegressor__min_samples_split=12, ExtraTreesRegressor__n_estimators=100)\n",
            "Generation 25 - Current Pareto front scores:\n",
            "-1\t-0.0005828805191626499\tExtraTreesRegressor(input_matrix, ExtraTreesRegressor__bootstrap=False, ExtraTreesRegressor__max_features=0.8, ExtraTreesRegressor__min_samples_leaf=3, ExtraTreesRegressor__min_samples_split=9, ExtraTreesRegressor__n_estimators=100)\n",
            "Pipeline encountered that has previously been evaluated during the optimization process. Using the score from the previous evaluation.ude_bias=False, PolynomialFeatures__interaction_only=False), ExtraTreesRegressor__bootstrap=False, ExtraTreesRegressor__max_features=0.8, ExtraTreesRegressor__min_samples_leaf=3, ExtraTreesRegressor__min_samples_split=12, ExtraTreesRegressor__n_estimators=100)\n",
            "Skipped pipeline #352 due to time out. Continuing to the next pipeline.\n",
            "\n",
            "Generation 26 - Current Pareto front scores:\n",
            "-1\t-0.0005828805191626499\tExtraTreesRegressor(input_matrix, ExtraTreesRegressor__bootstrap=False, ExtraTreesRegressor__max_features=0.8, ExtraTreesRegressor__min_samples_leaf=3, ExtraTreesRegressor__min_samples_split=9, ExtraTreesRegressor__n_estimators=100)\n",
            "_pre_test decorator: _random_mutation_operator: num_test=0 No feature in X meets the variance threshold 0.10000.lynomialFeatures__include_bias=False, PolynomialFeatures__interaction_only=False), ExtraTreesRegressor__bootstrap=False, ExtraTreesRegressor__max_features=0.8, ExtraTreesRegressor__min_samples_leaf=3, ExtraTreesRegressor__min_samples_split=12, ExtraTreesRegressor__n_estimators=100)\n",
            "Skipped pipeline #367 due to time out. Continuing to the next pipeline.\n",
            "\n",
            "Generation 27 - Current Pareto front scores:\n",
            "-1\t-0.0005553155107400168\tExtraTreesRegressor(input_matrix, ExtraTreesRegressor__bootstrap=False, ExtraTreesRegressor__max_features=0.8, ExtraTreesRegressor__min_samples_leaf=2, ExtraTreesRegressor__min_samples_split=12, ExtraTreesRegressor__n_estimators=100)\n",
            "_pre_test decorator: _random_mutation_operator: num_test=0 l2 was provided as affinity. Ward can only work with euclidean distances..lude_bias=False, PolynomialFeatures__interaction_only=False), ExtraTreesRegressor__bootstrap=False, ExtraTreesRegressor__max_features=0.8, ExtraTreesRegressor__min_samples_leaf=3, ExtraTreesRegressor__min_samples_split=12, ExtraTreesRegressor__n_estimators=100)\n",
            "\n",
            "Generation 28 - Current Pareto front scores:\n",
            "-1\t-0.0005553155107400168\tExtraTreesRegressor(input_matrix, ExtraTreesRegressor__bootstrap=False, ExtraTreesRegressor__max_features=0.8, ExtraTreesRegressor__min_samples_leaf=2, ExtraTreesRegressor__min_samples_split=12, ExtraTreesRegressor__n_estimators=100)\n",
            "Pipeline encountered that has previously been evaluated during the optimization process. Using the score from the previous evaluation.ude_bias=False, PolynomialFeatures__interaction_only=False), ExtraTreesRegressor__bootstrap=False, ExtraTreesRegressor__max_features=0.8, ExtraTreesRegressor__min_samples_leaf=3, ExtraTreesRegressor__min_samples_split=12, ExtraTreesRegressor__n_estimators=100)\n",
            "\n",
            "Generation 29 - Current Pareto front scores:\n",
            "-1\t-0.0005553155107400168\tExtraTreesRegressor(input_matrix, ExtraTreesRegressor__bootstrap=False, ExtraTreesRegressor__max_features=0.8, ExtraTreesRegressor__min_samples_leaf=2, ExtraTreesRegressor__min_samples_split=12, ExtraTreesRegressor__n_estimators=100)\n",
            "_pre_test decorator: _random_mutation_operator: num_test=0 Unsupported set of arguments: The combination of penalty='l2' and loss='epsilon_insensitive' are not supported when dual=False, Parameters: penalty='l2', loss='epsilon_insensitive', dual=False.__max_features=0.8, ExtraTreesRegressor__min_samples_leaf=3, ExtraTreesRegressor__min_samples_split=12, ExtraTreesRegressor__n_estimators=100)\n",
            "\n",
            "Generation 30 - Current Pareto front scores:\n",
            "-1\t-0.0004663226158938723\tExtraTreesRegressor(CombineDFs(input_matrix, input_matrix), ExtraTreesRegressor__bootstrap=False, ExtraTreesRegressor__max_features=0.9000000000000001, ExtraTreesRegressor__min_samples_leaf=3, ExtraTreesRegressor__min_samples_split=12, ExtraTreesRegressor__n_estimators=100)\n",
            "-2\t-0.00041311047743901807\tExtraTreesRegressor(PolynomialFeatures(input_matrix, PolynomialFeatures__degree=2, PolynomialFeatures__include_bias=False, PolynomialFeatures__interaction_only=False), ExtraTreesRegressor__bootstrap=False, ExtraTreesRegressor__max_features=0.8, ExtraTreesRegressor__min_samples_leaf=3, ExtraTreesRegressor__min_samples_split=12, ExtraTreesRegressor__n_estimators=100)"
          ]
        },
        {
          "output_type": "execute_result",
          "execution_count": 66,
          "data": {
            "text/plain": "TPOTRegressor(config_dict=None, crossover_rate=0.1, cv=5,\n              disable_update_check=False, early_stop=None, generations=30,\n              log_file=<ipykernel.iostream.OutStream object at 0x7f8cd6529a20>,\n              max_eval_time_mins=5, max_time_mins=None, memory=None,\n              mutation_rate=0.9, n_jobs=1, offspring_size=12,\n              periodic_checkpoint_folder=None, population_size=30,\n              random_state=None, scoring='neg_mean_squared_error',\n              subsample=1.0, template=None, use_dask=False, verbosity=3,\n              warm_start=False)"
          },
          "metadata": {}
        }
      ],
      "execution_count": 66,
      "metadata": {
        "id": "SAVpkpvqTcob",
        "gather": {
          "logged": 1603660760756
        }
      }
    },
    {
      "cell_type": "code",
      "source": [
        "time_HpoTpot= time.time() - start_time\r\n",
        "predictionsTpot = tpot_regressor.predict(test_features)"
      ],
      "outputs": [],
      "execution_count": 71,
      "metadata": {
        "id": "ZTGZYZQHTcoe",
        "gather": {
          "logged": 1603669636080
        }
      }
    },
    {
      "cell_type": "code",
      "source": [
        "predictionsTpot"
      ],
      "outputs": [
        {
          "output_type": "execute_result",
          "execution_count": 72,
          "data": {
            "text/plain": "array([ 0.35217573,  2.65136643,  6.54752343, ..., 38.2026119 ,\n        1.96287296, 24.59342224])"
          },
          "metadata": {}
        }
      ],
      "execution_count": 72,
      "metadata": {
        "id": "r7FPS75F6RCQ",
        "gather": {
          "logged": 1603669638501
        }
      }
    },
    {
      "cell_type": "code",
      "source": [
        "mean4 =np.sqrt(mean_squared_error(predictionsTpot,test_labels))\n",
        "print(\"%s seconds it took to train \" % (time_HpoTpot))\n",
        "print('Root mean squared of Model with Genetic algorithim', mean4)"
      ],
      "outputs": [
        {
          "output_type": "stream",
          "name": "stdout",
          "text": [
            "40682.56576395035 seconds it took to train \n",
            "Root mean squared of Model with Genetic algorithim 0.015540141640510177\n"
          ]
        }
      ],
      "execution_count": 73,
      "metadata": {
        "id": "svYQXmKe6RCR",
        "gather": {
          "logged": 1603669640911
        }
      }
    },
    {
      "cell_type": "code",
      "source": [
        "print('Root mean squared of Model without training', mean1)\n",
        "print('Root mean squared of Model with Random search', mean2)\n",
        "print('Root mean squared of Model with Bayesian', mean3)\n",
        "print('Root mean squared of Model with Genetic algorithim', mean4)"
      ],
      "outputs": [
        {
          "output_type": "stream",
          "name": "stdout",
          "text": [
            "Root mean squared of Model without training 0.038124877566582574\n",
            "Root mean squared of Model with Random search 0.05181156069518475\n",
            "Root mean squared of Model with Bayesian 5.484243013652411\n",
            "Root mean squared of Model with Genetic algorithim 0.015540141640510177\n"
          ]
        }
      ],
      "execution_count": 74,
      "metadata": {
        "id": "3egSD9wB6RCT",
        "gather": {
          "logged": 1603669654975
        }
      }
    }
  ],
  "metadata": {
    "colab": {
      "name": "ETA_train_test-1.ipynb",
      "provenance": [],
      "collapsed_sections": [],
      "machine_shape": "hm"
    },
    "kernelspec": {
      "name": "python3",
      "language": "python",
      "display_name": "Python 3"
    },
    "language_info": {
      "name": "python",
      "version": "3.6.9",
      "mimetype": "text/x-python",
      "codemirror_mode": {
        "name": "ipython",
        "version": 3
      },
      "pygments_lexer": "ipython3",
      "nbconvert_exporter": "python",
      "file_extension": ".py"
    },
    "kernel_info": {
      "name": "python3"
    },
    "nteract": {
      "version": "nteract-front-end@1.0.0"
    }
  },
  "nbformat": 4,
  "nbformat_minor": 0
}