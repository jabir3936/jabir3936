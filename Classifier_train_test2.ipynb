{
 "cells": [
  {
   "cell_type": "code",
   "execution_count": 1,
   "metadata": {
    "id": "LXesBdROpU9o"
   },
   "outputs": [],
   "source": [
    "import numpy as np\n",
    "import pandas as pd\n",
    "import glob\n",
    "import geopy\n",
    "import geopy.distance\n",
    "import datetime\n",
    "import sys\n",
    "import time"
   ]
  },
  {
   "cell_type": "code",
   "execution_count": 2,
   "metadata": {
    "colab": {
     "base_uri": "https://localhost:8080/",
     "height": 419
    },
    "id": "ItZOR9GgpU9y",
    "outputId": "0ff3bb94-92c5-41c7-b62c-ac5196632b5c"
   },
   "outputs": [
    {
     "data": {
      "text/html": [
       "<div>\n",
       "<style scoped>\n",
       "    .dataframe tbody tr th:only-of-type {\n",
       "        vertical-align: middle;\n",
       "    }\n",
       "\n",
       "    .dataframe tbody tr th {\n",
       "        vertical-align: top;\n",
       "    }\n",
       "\n",
       "    .dataframe thead th {\n",
       "        text-align: right;\n",
       "    }\n",
       "</style>\n",
       "<table border=\"1\" class=\"dataframe\">\n",
       "  <thead>\n",
       "    <tr style=\"text-align: right;\">\n",
       "      <th></th>\n",
       "      <th>Length</th>\n",
       "      <th>Breadth</th>\n",
       "      <th>Draught</th>\n",
       "      <th>Longitude</th>\n",
       "      <th>Latitude</th>\n",
       "      <th>SOG</th>\n",
       "      <th>bool</th>\n",
       "      <th>ETA</th>\n",
       "    </tr>\n",
       "  </thead>\n",
       "  <tbody>\n",
       "    <tr>\n",
       "      <th>0</th>\n",
       "      <td>152</td>\n",
       "      <td>24</td>\n",
       "      <td>6.8</td>\n",
       "      <td>5.838777</td>\n",
       "      <td>53.63944</td>\n",
       "      <td>14.3</td>\n",
       "      <td>0</td>\n",
       "      <td>12.685507</td>\n",
       "    </tr>\n",
       "    <tr>\n",
       "      <th>1</th>\n",
       "      <td>152</td>\n",
       "      <td>24</td>\n",
       "      <td>6.8</td>\n",
       "      <td>5.845800</td>\n",
       "      <td>53.64076</td>\n",
       "      <td>14.3</td>\n",
       "      <td>0</td>\n",
       "      <td>12.667177</td>\n",
       "    </tr>\n",
       "    <tr>\n",
       "      <th>2</th>\n",
       "      <td>152</td>\n",
       "      <td>24</td>\n",
       "      <td>6.8</td>\n",
       "      <td>5.852149</td>\n",
       "      <td>53.64198</td>\n",
       "      <td>14.3</td>\n",
       "      <td>0</td>\n",
       "      <td>12.650496</td>\n",
       "    </tr>\n",
       "    <tr>\n",
       "      <th>3</th>\n",
       "      <td>152</td>\n",
       "      <td>24</td>\n",
       "      <td>6.8</td>\n",
       "      <td>5.858515</td>\n",
       "      <td>53.64320</td>\n",
       "      <td>14.3</td>\n",
       "      <td>0</td>\n",
       "      <td>12.633836</td>\n",
       "    </tr>\n",
       "    <tr>\n",
       "      <th>4</th>\n",
       "      <td>152</td>\n",
       "      <td>24</td>\n",
       "      <td>6.8</td>\n",
       "      <td>5.864876</td>\n",
       "      <td>53.64441</td>\n",
       "      <td>14.3</td>\n",
       "      <td>0</td>\n",
       "      <td>12.617179</td>\n",
       "    </tr>\n",
       "    <tr>\n",
       "      <th>...</th>\n",
       "      <td>...</td>\n",
       "      <td>...</td>\n",
       "      <td>...</td>\n",
       "      <td>...</td>\n",
       "      <td>...</td>\n",
       "      <td>...</td>\n",
       "      <td>...</td>\n",
       "      <td>...</td>\n",
       "    </tr>\n",
       "    <tr>\n",
       "      <th>186520</th>\n",
       "      <td>229</td>\n",
       "      <td>38</td>\n",
       "      <td>13.3</td>\n",
       "      <td>9.806900</td>\n",
       "      <td>53.55355</td>\n",
       "      <td>7.4</td>\n",
       "      <td>1</td>\n",
       "      <td>0.083519</td>\n",
       "    </tr>\n",
       "    <tr>\n",
       "      <th>186521</th>\n",
       "      <td>229</td>\n",
       "      <td>38</td>\n",
       "      <td>13.3</td>\n",
       "      <td>9.810224</td>\n",
       "      <td>53.55293</td>\n",
       "      <td>7.3</td>\n",
       "      <td>1</td>\n",
       "      <td>0.066774</td>\n",
       "    </tr>\n",
       "    <tr>\n",
       "      <th>186522</th>\n",
       "      <td>229</td>\n",
       "      <td>38</td>\n",
       "      <td>13.3</td>\n",
       "      <td>9.813442</td>\n",
       "      <td>53.55230</td>\n",
       "      <td>7.2</td>\n",
       "      <td>1</td>\n",
       "      <td>0.049974</td>\n",
       "    </tr>\n",
       "    <tr>\n",
       "      <th>186523</th>\n",
       "      <td>229</td>\n",
       "      <td>38</td>\n",
       "      <td>13.3</td>\n",
       "      <td>9.816650</td>\n",
       "      <td>53.55172</td>\n",
       "      <td>7.1</td>\n",
       "      <td>1</td>\n",
       "      <td>0.033443</td>\n",
       "    </tr>\n",
       "    <tr>\n",
       "      <th>186524</th>\n",
       "      <td>229</td>\n",
       "      <td>38</td>\n",
       "      <td>13.3</td>\n",
       "      <td>9.819812</td>\n",
       "      <td>53.55116</td>\n",
       "      <td>7.1</td>\n",
       "      <td>1</td>\n",
       "      <td>0.016667</td>\n",
       "    </tr>\n",
       "  </tbody>\n",
       "</table>\n",
       "<p>186525 rows × 8 columns</p>\n",
       "</div>"
      ],
      "text/plain": [
       "        Length  Breadth  Draught  Longitude  Latitude   SOG  bool        ETA\n",
       "0          152       24      6.8   5.838777  53.63944  14.3     0  12.685507\n",
       "1          152       24      6.8   5.845800  53.64076  14.3     0  12.667177\n",
       "2          152       24      6.8   5.852149  53.64198  14.3     0  12.650496\n",
       "3          152       24      6.8   5.858515  53.64320  14.3     0  12.633836\n",
       "4          152       24      6.8   5.864876  53.64441  14.3     0  12.617179\n",
       "...        ...      ...      ...        ...       ...   ...   ...        ...\n",
       "186520     229       38     13.3   9.806900  53.55355   7.4     1   0.083519\n",
       "186521     229       38     13.3   9.810224  53.55293   7.3     1   0.066774\n",
       "186522     229       38     13.3   9.813442  53.55230   7.2     1   0.049974\n",
       "186523     229       38     13.3   9.816650  53.55172   7.1     1   0.033443\n",
       "186524     229       38     13.3   9.819812  53.55116   7.1     1   0.016667\n",
       "\n",
       "[186525 rows x 8 columns]"
      ]
     },
     "execution_count": 2,
     "metadata": {},
     "output_type": "execute_result"
    }
   ],
   "source": [
    "path = r\"train_ship_data_final_classifier.csv\"\n",
    "df=pd.read_csv(path,sep=',',low_memory=False)\n",
    "df"
   ]
  },
  {
   "cell_type": "code",
   "execution_count": 7,
   "metadata": {
    "colab": {
     "base_uri": "https://localhost:8080/",
     "height": 54
    },
    "id": "bDJ8FtL4pyPE",
    "outputId": "777b2c4c-1db6-487c-ff8e-7386867d161c"
   },
   "outputs": [
    {
     "name": "stdout",
     "output_type": "stream",
     "text": [
      "Drive already mounted at /content/drive; to attempt to forcibly remount, call drive.mount(\"/content/drive\", force_remount=True).\n"
     ]
    }
   ],
   "source": [
    "# from google.colab import drive\n",
    "# drive.mount('/content/drive')"
   ]
  },
  {
   "cell_type": "code",
   "execution_count": 3,
   "metadata": {
    "colab": {
     "base_uri": "https://localhost:8080/",
     "height": 419
    },
    "id": "2CCgrZ7CpU9_",
    "outputId": "19968d22-7b03-4615-c735-435b3c71789c"
   },
   "outputs": [
    {
     "data": {
      "text/html": [
       "<div>\n",
       "<style scoped>\n",
       "    .dataframe tbody tr th:only-of-type {\n",
       "        vertical-align: middle;\n",
       "    }\n",
       "\n",
       "    .dataframe tbody tr th {\n",
       "        vertical-align: top;\n",
       "    }\n",
       "\n",
       "    .dataframe thead th {\n",
       "        text-align: right;\n",
       "    }\n",
       "</style>\n",
       "<table border=\"1\" class=\"dataframe\">\n",
       "  <thead>\n",
       "    <tr style=\"text-align: right;\">\n",
       "      <th></th>\n",
       "      <th>Length</th>\n",
       "      <th>Breadth</th>\n",
       "      <th>Draught</th>\n",
       "      <th>Longitude</th>\n",
       "      <th>Latitude</th>\n",
       "      <th>SOG</th>\n",
       "      <th>bool</th>\n",
       "      <th>ETA</th>\n",
       "    </tr>\n",
       "  </thead>\n",
       "  <tbody>\n",
       "    <tr>\n",
       "      <th>0</th>\n",
       "      <td>152</td>\n",
       "      <td>24</td>\n",
       "      <td>6.8</td>\n",
       "      <td>5.838777</td>\n",
       "      <td>53.63944</td>\n",
       "      <td>14.3</td>\n",
       "      <td>0</td>\n",
       "      <td>12.685507</td>\n",
       "    </tr>\n",
       "    <tr>\n",
       "      <th>1</th>\n",
       "      <td>152</td>\n",
       "      <td>24</td>\n",
       "      <td>6.8</td>\n",
       "      <td>5.845800</td>\n",
       "      <td>53.64076</td>\n",
       "      <td>14.3</td>\n",
       "      <td>0</td>\n",
       "      <td>12.667177</td>\n",
       "    </tr>\n",
       "    <tr>\n",
       "      <th>2</th>\n",
       "      <td>152</td>\n",
       "      <td>24</td>\n",
       "      <td>6.8</td>\n",
       "      <td>5.852149</td>\n",
       "      <td>53.64198</td>\n",
       "      <td>14.3</td>\n",
       "      <td>0</td>\n",
       "      <td>12.650496</td>\n",
       "    </tr>\n",
       "    <tr>\n",
       "      <th>3</th>\n",
       "      <td>152</td>\n",
       "      <td>24</td>\n",
       "      <td>6.8</td>\n",
       "      <td>5.858515</td>\n",
       "      <td>53.64320</td>\n",
       "      <td>14.3</td>\n",
       "      <td>0</td>\n",
       "      <td>12.633836</td>\n",
       "    </tr>\n",
       "    <tr>\n",
       "      <th>4</th>\n",
       "      <td>152</td>\n",
       "      <td>24</td>\n",
       "      <td>6.8</td>\n",
       "      <td>5.864876</td>\n",
       "      <td>53.64441</td>\n",
       "      <td>14.3</td>\n",
       "      <td>0</td>\n",
       "      <td>12.617179</td>\n",
       "    </tr>\n",
       "    <tr>\n",
       "      <th>...</th>\n",
       "      <td>...</td>\n",
       "      <td>...</td>\n",
       "      <td>...</td>\n",
       "      <td>...</td>\n",
       "      <td>...</td>\n",
       "      <td>...</td>\n",
       "      <td>...</td>\n",
       "      <td>...</td>\n",
       "    </tr>\n",
       "    <tr>\n",
       "      <th>186520</th>\n",
       "      <td>229</td>\n",
       "      <td>38</td>\n",
       "      <td>13.3</td>\n",
       "      <td>9.806900</td>\n",
       "      <td>53.55355</td>\n",
       "      <td>7.4</td>\n",
       "      <td>1</td>\n",
       "      <td>0.083519</td>\n",
       "    </tr>\n",
       "    <tr>\n",
       "      <th>186521</th>\n",
       "      <td>229</td>\n",
       "      <td>38</td>\n",
       "      <td>13.3</td>\n",
       "      <td>9.810224</td>\n",
       "      <td>53.55293</td>\n",
       "      <td>7.3</td>\n",
       "      <td>1</td>\n",
       "      <td>0.066774</td>\n",
       "    </tr>\n",
       "    <tr>\n",
       "      <th>186522</th>\n",
       "      <td>229</td>\n",
       "      <td>38</td>\n",
       "      <td>13.3</td>\n",
       "      <td>9.813442</td>\n",
       "      <td>53.55230</td>\n",
       "      <td>7.2</td>\n",
       "      <td>1</td>\n",
       "      <td>0.049974</td>\n",
       "    </tr>\n",
       "    <tr>\n",
       "      <th>186523</th>\n",
       "      <td>229</td>\n",
       "      <td>38</td>\n",
       "      <td>13.3</td>\n",
       "      <td>9.816650</td>\n",
       "      <td>53.55172</td>\n",
       "      <td>7.1</td>\n",
       "      <td>1</td>\n",
       "      <td>0.033443</td>\n",
       "    </tr>\n",
       "    <tr>\n",
       "      <th>186524</th>\n",
       "      <td>229</td>\n",
       "      <td>38</td>\n",
       "      <td>13.3</td>\n",
       "      <td>9.819812</td>\n",
       "      <td>53.55116</td>\n",
       "      <td>7.1</td>\n",
       "      <td>1</td>\n",
       "      <td>0.016667</td>\n",
       "    </tr>\n",
       "  </tbody>\n",
       "</table>\n",
       "<p>186525 rows × 8 columns</p>\n",
       "</div>"
      ],
      "text/plain": [
       "        Length  Breadth  Draught  Longitude  Latitude   SOG  bool        ETA\n",
       "0          152       24      6.8   5.838777  53.63944  14.3     0  12.685507\n",
       "1          152       24      6.8   5.845800  53.64076  14.3     0  12.667177\n",
       "2          152       24      6.8   5.852149  53.64198  14.3     0  12.650496\n",
       "3          152       24      6.8   5.858515  53.64320  14.3     0  12.633836\n",
       "4          152       24      6.8   5.864876  53.64441  14.3     0  12.617179\n",
       "...        ...      ...      ...        ...       ...   ...   ...        ...\n",
       "186520     229       38     13.3   9.806900  53.55355   7.4     1   0.083519\n",
       "186521     229       38     13.3   9.810224  53.55293   7.3     1   0.066774\n",
       "186522     229       38     13.3   9.813442  53.55230   7.2     1   0.049974\n",
       "186523     229       38     13.3   9.816650  53.55172   7.1     1   0.033443\n",
       "186524     229       38     13.3   9.819812  53.55116   7.1     1   0.016667\n",
       "\n",
       "[186525 rows x 8 columns]"
      ]
     },
     "execution_count": 3,
     "metadata": {},
     "output_type": "execute_result"
    }
   ],
   "source": [
    "df"
   ]
  },
  {
   "cell_type": "code",
   "execution_count": 7,
   "metadata": {
    "id": "8B_QNm-JpU-E"
   },
   "outputs": [
    {
     "name": "stderr",
     "output_type": "stream",
     "text": [
      "/opt/conda/lib/python3.8/site-packages/tpot/builtins/__init__.py:36: UserWarning: Warning: optional dependency `torch` is not available. - skipping import of NN models.\n",
      "  warnings.warn(\"Warning: optional dependency `torch` is not available. - skipping import of NN models.\")\n"
     ]
    }
   ],
   "source": [
    "#Training part of the data\n",
    "from sklearn import metrics\n",
    "\n",
    "from pandas.plotting import scatter_matrix\n",
    "from matplotlib import pyplot\n",
    "from sklearn.model_selection import train_test_split\n",
    "from sklearn.model_selection import cross_val_score\n",
    "from sklearn.model_selection import StratifiedKFold\n",
    "from sklearn.ensemble import RandomForestRegressor\n",
    "from sklearn.metrics import classification_report\n",
    "from sklearn.metrics import confusion_matrix\n",
    "from sklearn.metrics import accuracy_score\n",
    "from sklearn.linear_model import LogisticRegression\n",
    "from sklearn.tree import DecisionTreeClassifier\n",
    "from sklearn.neighbors import KNeighborsClassifier\n",
    "from sklearn.discriminant_analysis import LinearDiscriminantAnalysis\n",
    "from sklearn.naive_bayes import GaussianNB\n",
    "from sklearn.svm import SVC\n",
    "from sklearn.linear_model import LogisticRegression\n",
    "\n",
    "from sklearn.model_selection import RandomizedSearchCV\n",
    "from sklearn.model_selection import GridSearchCV\n",
    "\n",
    "from hyperopt import fmin, tpe, hp,STATUS_OK, Trials\n",
    "import matplotlib.pyplot as plt\n",
    "#!pip install tpot\n",
    "from tpot import TPOTClassifier"
   ]
  },
  {
   "cell_type": "code",
   "execution_count": 8,
   "metadata": {
    "id": "bJC1Si79pU-J"
   },
   "outputs": [],
   "source": [
    "#Features\n",
    "features = df.drop('bool', axis=1)\n",
    "features= np.array(features)\n",
    "\n",
    "# Labels\n",
    "labels= np.array(df['bool'])\n",
    "\n",
    "feature_list = list(df.columns)"
   ]
  },
  {
   "cell_type": "code",
   "execution_count": 9,
   "metadata": {
    "id": "5n6whdB5pU-O"
   },
   "outputs": [],
   "source": [
    "#Splitting the data to train and test\n",
    "\n",
    "X_train, X_test, y_train, y_test = train_test_split(features, labels, test_size = 0.25, random_state = 42)"
   ]
  },
  {
   "cell_type": "code",
   "execution_count": 10,
   "metadata": {
    "colab": {
     "base_uri": "https://localhost:8080/",
     "height": 85
    },
    "id": "71TZBJ5EpU-S",
    "outputId": "9ff9a6ac-b27d-4ae8-e56e-f361f2706b87"
   },
   "outputs": [
    {
     "name": "stdout",
     "output_type": "stream",
     "text": [
      "Training Features Shape: (139893, 7)\n",
      "Training Labels Shape: (139893,)\n",
      "Testing Features Shape: (46632, 7)\n",
      "Testing Labels Shape: (46632,)\n"
     ]
    }
   ],
   "source": [
    "print('Training Features Shape:', X_train.shape)\n",
    "print('Training Labels Shape:', y_train.shape)\n",
    "print('Testing Features Shape:', X_test.shape)\n",
    "print('Testing Labels Shape:',  y_test.shape)\n",
    "\n"
   ]
  },
  {
   "cell_type": "code",
   "execution_count": 12,
   "metadata": {
    "colab": {
     "base_uri": "https://localhost:8080/",
     "height": 190
    },
    "id": "IVrUvBV2pU-W",
    "outputId": "fb7e09de-d3b8-45e3-fe45-89553ad091e9"
   },
   "outputs": [
    {
     "name": "stdout",
     "output_type": "stream",
     "text": [
      "Accuracy: 0.7864985417738892\n"
     ]
    }
   ],
   "source": [
    "# Training part with logistic regression without tuning(Default values)\n",
    "\n",
    "lr = LogisticRegression()\n",
    "\n",
    "start_time = time.time()\n",
    "\n",
    "lr.fit(X_train, y_train)\n",
    "\n",
    "sv_notune= time.time() - start_time\n",
    "\n",
    "y_pred= lr.predict(X_test)\n",
    "\n",
    "print(\"Accuracy:\",metrics.accuracy_score(y_test, y_pred))"
   ]
  },
  {
   "cell_type": "code",
   "execution_count": null,
   "metadata": {
    "id": "TddGRcjopU-a"
   },
   "outputs": [],
   "source": []
  },
  {
   "cell_type": "code",
   "execution_count": 13,
   "metadata": {
    "id": "MzthHeVNpU-d"
   },
   "outputs": [],
   "source": [
    "# SVM object to be used to tune the default kernel will be 'rbf' \n",
    "\n",
    "lrc = LogisticRegression()\n",
    "\n"
   ]
  },
  {
   "cell_type": "code",
   "execution_count": 16,
   "metadata": {
    "colab": {
     "base_uri": "https://localhost:8080/",
     "height": 340
    },
    "id": "WriOOHdipU-g",
    "outputId": "a9bd9f08-65b7-4fe9-b7c7-913c81e1fe86"
   },
   "outputs": [
    {
     "name": "stdout",
     "output_type": "stream",
     "text": [
      "              precision    recall  f1-score   support\n",
      "\n",
      "           0       0.79      0.98      0.88     35954\n",
      "           1       0.66      0.14      0.23     10678\n",
      "\n",
      "    accuracy                           0.79     46632\n",
      "   macro avg       0.73      0.56      0.55     46632\n",
      "weighted avg       0.76      0.79      0.73     46632\n",
      "\n",
      "0.5204293727874756 seconds it took to train with Random search tuning\n",
      "              precision    recall  f1-score   support\n",
      "\n",
      "           0       0.79      0.98      0.88     35954\n",
      "           1       0.66      0.14      0.23     10678\n",
      "\n",
      "    accuracy                           0.79     46632\n",
      "   macro avg       0.73      0.56      0.55     46632\n",
      "weighted avg       0.76      0.79      0.73     46632\n",
      "\n"
     ]
    }
   ],
   "source": [
    "# Delete this later\n",
    "print(classification_report(y_test,y_pred))\n",
    "\n",
    "print(\"%s seconds it took to train with Random search tuning\" % (sv_notune))\n",
    "print(classification_report(y_test,y_pred))"
   ]
  },
  {
   "cell_type": "code",
   "execution_count": 17,
   "metadata": {
    "colab": {
     "base_uri": "https://localhost:8080/",
     "height": 272
    },
    "id": "OnPJ9jIzpU-k",
    "outputId": "5c4fe95c-78dc-421d-bd89-0b0580e41687"
   },
   "outputs": [
    {
     "data": {
      "text/plain": [
       "{'C': 1.0,\n",
       " 'class_weight': None,\n",
       " 'dual': False,\n",
       " 'fit_intercept': True,\n",
       " 'intercept_scaling': 1,\n",
       " 'l1_ratio': None,\n",
       " 'max_iter': 100,\n",
       " 'multi_class': 'auto',\n",
       " 'n_jobs': None,\n",
       " 'penalty': 'l2',\n",
       " 'random_state': None,\n",
       " 'solver': 'lbfgs',\n",
       " 'tol': 0.0001,\n",
       " 'verbose': 0,\n",
       " 'warm_start': False}"
      ]
     },
     "execution_count": 17,
     "metadata": {},
     "output_type": "execute_result"
    }
   ],
   "source": [
    "lrc.get_params()"
   ]
  },
  {
   "cell_type": "code",
   "execution_count": 21,
   "metadata": {
    "colab": {
     "base_uri": "https://localhost:8080/",
     "height": 102
    },
    "id": "sJl11x_NpU-n",
    "outputId": "863b6125-4366-4d43-dbfe-e3db8a31bada"
   },
   "outputs": [
    {
     "data": {
      "text/plain": [
       "{'C': array([41.43050566, 24.82593685, 62.4166659 , 14.5542585 , 23.07876186,\n",
       "        90.74952008, 59.92117797, 94.29766781, 43.652848  , 87.84372341,\n",
       "        17.81820091, 31.15746655, 78.21756936, 26.06448141, 32.8115975 ,\n",
       "        93.88056788, 83.41228107, 47.88156793, 26.1503011 , 71.57311955]),\n",
       " 'solver': ['newton-cg', 'lbfgs', 'liblinear', 'sag', 'saga'],\n",
       " 'penalty': ['none', 'l1', 'l2', 'elasticnet'],\n",
       " 'max_iter': array([742, 326, 765, 291, 805,  94, 863, 878, 188, 302, 730, 397, 765,\n",
       "        915, 751, 301, 226, 170, 959, 693])}"
      ]
     },
     "execution_count": 21,
     "metadata": {},
     "output_type": "execute_result"
    }
   ],
   "source": [
    "# Tuning LRC with the following algorithims\n",
    "        # 1) Random\n",
    "        # 2) Bayesian\n",
    "        #  3) Genetic algorithims\n",
    "        \n",
    "# Random searcch set parameters\n",
    "C=np.random.uniform(0.01,100,20)\n",
    "max_iter = np.random.randint(50,1000,20)\n",
    "solver = ['newton-cg', 'lbfgs', 'liblinear', 'sag', 'saga']\n",
    "penalty= ['none', 'l1', 'l2', 'elasticnet']\n",
    "random_grid = {'C': C, 'solver':solver,\n",
    "               'penalty': penalty,'max_iter':max_iter\n",
    "               }\n",
    "random_grid "
   ]
  },
  {
   "cell_type": "code",
   "execution_count": 22,
   "metadata": {
    "colab": {
     "base_uri": "https://localhost:8080/",
     "height": 445
    },
    "id": "eEZJ2gyPpU-q",
    "outputId": "935e2dbb-b158-492f-b404-f3e2704eb6d6"
   },
   "outputs": [
    {
     "name": "stdout",
     "output_type": "stream",
     "text": [
      "Fitting 3 folds for each of 100 candidates, totalling 300 fits\n"
     ]
    },
    {
     "name": "stderr",
     "output_type": "stream",
     "text": [
      "[Parallel(n_jobs=-1)]: Using backend LokyBackend with 4 concurrent workers.\n",
      "[Parallel(n_jobs=-1)]: Done   5 tasks      | elapsed:    0.7s\n",
      "[Parallel(n_jobs=-1)]: Done  10 tasks      | elapsed:    4.2s\n",
      "[Parallel(n_jobs=-1)]: Done  17 tasks      | elapsed:   32.2s\n",
      "[Parallel(n_jobs=-1)]: Done  24 tasks      | elapsed:  1.0min\n",
      "[Parallel(n_jobs=-1)]: Done  33 tasks      | elapsed:  1.5min\n",
      "[Parallel(n_jobs=-1)]: Done  42 tasks      | elapsed:  7.2min\n",
      "[Parallel(n_jobs=-1)]: Done  53 tasks      | elapsed:  7.5min\n",
      "[Parallel(n_jobs=-1)]: Done  64 tasks      | elapsed:  7.5min\n",
      "[Parallel(n_jobs=-1)]: Done  77 tasks      | elapsed:  7.8min\n",
      "[Parallel(n_jobs=-1)]: Done  90 tasks      | elapsed:  8.0min\n",
      "[Parallel(n_jobs=-1)]: Done 105 tasks      | elapsed:  8.0min\n",
      "[Parallel(n_jobs=-1)]: Done 120 tasks      | elapsed: 13.0min\n",
      "[Parallel(n_jobs=-1)]: Done 137 tasks      | elapsed: 13.5min\n",
      "[Parallel(n_jobs=-1)]: Done 154 tasks      | elapsed: 13.6min\n",
      "[Parallel(n_jobs=-1)]: Done 173 tasks      | elapsed: 14.3min\n",
      "[Parallel(n_jobs=-1)]: Done 192 tasks      | elapsed: 14.5min\n",
      "[Parallel(n_jobs=-1)]: Done 213 tasks      | elapsed: 23.4min\n",
      "[Parallel(n_jobs=-1)]: Done 234 tasks      | elapsed: 31.8min\n",
      "[Parallel(n_jobs=-1)]: Done 257 tasks      | elapsed: 32.4min\n",
      "[Parallel(n_jobs=-1)]: Done 280 tasks      | elapsed: 33.0min\n",
      "[Parallel(n_jobs=-1)]: Done 300 out of 300 | elapsed: 37.3min finished\n",
      "/opt/conda/lib/python3.8/site-packages/scipy/optimize/linesearch.py:466: LineSearchWarning: The line search algorithm did not converge\n",
      "  warn('The line search algorithm did not converge', LineSearchWarning)\n",
      "/opt/conda/lib/python3.8/site-packages/scipy/optimize/linesearch.py:314: LineSearchWarning: The line search algorithm did not converge\n",
      "  warn('The line search algorithm did not converge', LineSearchWarning)\n",
      "/opt/conda/lib/python3.8/site-packages/scipy/optimize/linesearch.py:426: LineSearchWarning: Rounding errors prevent the line search from converging\n",
      "  warn(msg, LineSearchWarning)\n",
      "/opt/conda/lib/python3.8/site-packages/scipy/optimize/linesearch.py:314: LineSearchWarning: The line search algorithm did not converge\n",
      "  warn('The line search algorithm did not converge', LineSearchWarning)\n",
      "/opt/conda/lib/python3.8/site-packages/sklearn/utils/optimize.py:204: UserWarning: Line Search failed\n",
      "  warnings.warn('Line Search failed')\n"
     ]
    }
   ],
   "source": [
    "#Random search tuning\n",
    "lr_random = RandomizedSearchCV(estimator = lrc, param_distributions = random_grid, n_iter = 100, cv = 3, verbose=10, random_state=42, n_jobs =-1)\n",
    "start_time = time.time()\n",
    "lr_random.fit(X_train, y_train)\n",
    "\n",
    "random_time =time.time() - start_time"
   ]
  },
  {
   "cell_type": "code",
   "execution_count": 23,
   "metadata": {
    "colab": {
     "base_uri": "https://localhost:8080/",
     "height": 629
    },
    "id": "6z6EnTGzpU-t",
    "outputId": "7cf89baf-a25a-4b1f-c8c4-88d06efd6de0"
   },
   "outputs": [
    {
     "data": {
      "text/plain": [
       "{'cv': 3,\n",
       " 'error_score': nan,\n",
       " 'estimator__C': 1.0,\n",
       " 'estimator__class_weight': None,\n",
       " 'estimator__dual': False,\n",
       " 'estimator__fit_intercept': True,\n",
       " 'estimator__intercept_scaling': 1,\n",
       " 'estimator__l1_ratio': None,\n",
       " 'estimator__max_iter': 100,\n",
       " 'estimator__multi_class': 'auto',\n",
       " 'estimator__n_jobs': None,\n",
       " 'estimator__penalty': 'l2',\n",
       " 'estimator__random_state': None,\n",
       " 'estimator__solver': 'lbfgs',\n",
       " 'estimator__tol': 0.0001,\n",
       " 'estimator__verbose': 0,\n",
       " 'estimator__warm_start': False,\n",
       " 'estimator': LogisticRegression(),\n",
       " 'iid': 'deprecated',\n",
       " 'n_iter': 100,\n",
       " 'n_jobs': -1,\n",
       " 'param_distributions': {'C': array([41.43050566, 24.82593685, 62.4166659 , 14.5542585 , 23.07876186,\n",
       "         90.74952008, 59.92117797, 94.29766781, 43.652848  , 87.84372341,\n",
       "         17.81820091, 31.15746655, 78.21756936, 26.06448141, 32.8115975 ,\n",
       "         93.88056788, 83.41228107, 47.88156793, 26.1503011 , 71.57311955]),\n",
       "  'solver': ['newton-cg', 'lbfgs', 'liblinear', 'sag', 'saga'],\n",
       "  'penalty': ['none', 'l1', 'l2', 'elasticnet'],\n",
       "  'max_iter': array([742, 326, 765, 291, 805,  94, 863, 878, 188, 302, 730, 397, 765,\n",
       "         915, 751, 301, 226, 170, 959, 693])},\n",
       " 'pre_dispatch': '2*n_jobs',\n",
       " 'random_state': 42,\n",
       " 'refit': True,\n",
       " 'return_train_score': False,\n",
       " 'scoring': None,\n",
       " 'verbose': 10}"
      ]
     },
     "execution_count": 23,
     "metadata": {},
     "output_type": "execute_result"
    }
   ],
   "source": [
    "#Parameters selected for random search\n",
    "lr_random.get_params()\n"
   ]
  },
  {
   "cell_type": "code",
   "execution_count": 24,
   "metadata": {
    "colab": {
     "base_uri": "https://localhost:8080/",
     "height": 187
    },
    "id": "Azomp_vapU-w",
    "outputId": "70a6e49b-dbf8-4be8-8789-e590b4d620ff"
   },
   "outputs": [
    {
     "name": "stdout",
     "output_type": "stream",
     "text": [
      "2246.237941265106 seconds it took to train with Random search tuning\n",
      "              precision    recall  f1-score   support\n",
      "\n",
      "           0       0.83      0.96      0.89     35954\n",
      "           1       0.73      0.36      0.48     10678\n",
      "\n",
      "    accuracy                           0.82     46632\n",
      "   macro avg       0.78      0.66      0.69     46632\n",
      "weighted avg       0.81      0.82      0.80     46632\n",
      "\n"
     ]
    }
   ],
   "source": [
    "#Testing on the test features, predictions for random search\n",
    "y_pred1=lr_random.predict(X_test)\n",
    "\n",
    "print(\"%s seconds it took to train with Random search tuning\" % (random_time))\n",
    "print(classification_report(y_test,y_pred1))"
   ]
  },
  {
   "cell_type": "code",
   "execution_count": 25,
   "metadata": {
    "colab": {
     "base_uri": "https://localhost:8080/",
     "height": 1000
    },
    "id": "Qq1_JPl4pU-y",
    "outputId": "a9d0bc81-7722-4091-8ef8-466c88a35bbf"
   },
   "outputs": [
    {
     "name": "stdout",
     "output_type": "stream",
     "text": [
      "  0%|          | 0/50 [00:00<?, ?trial/s, best loss=?]"
     ]
    },
    {
     "name": "stderr",
     "output_type": "stream",
     "text": [
      "/opt/conda/lib/python3.8/site-packages/sklearn/linear_model/_logistic.py:762: ConvergenceWarning: lbfgs failed to converge (status=1):\n",
      "STOP: TOTAL NO. of ITERATIONS REACHED LIMIT.\n",
      "\n",
      "Increase the number of iterations (max_iter) or scale the data as shown in:\n",
      "    https://scikit-learn.org/stable/modules/preprocessing.html\n",
      "Please also refer to the documentation for alternative solver options:\n",
      "    https://scikit-learn.org/stable/modules/linear_model.html#logistic-regression\n",
      "  n_iter_i = _check_optimize_result(\n",
      "\n"
     ]
    },
    {
     "name": "stdout",
     "output_type": "stream",
     "text": [
      " 44%|████▍     | 22/50 [00:57<01:07,  2.41s/trial, best loss: 0.7902325372353718]"
     ]
    },
    {
     "name": "stderr",
     "output_type": "stream",
     "text": [
      "/opt/conda/lib/python3.8/site-packages/sklearn/linear_model/_logistic.py:762: ConvergenceWarning: lbfgs failed to converge (status=1):\n",
      "STOP: TOTAL NO. of ITERATIONS REACHED LIMIT.\n",
      "\n",
      "Increase the number of iterations (max_iter) or scale the data as shown in:\n",
      "    https://scikit-learn.org/stable/modules/preprocessing.html\n",
      "Please also refer to the documentation for alternative solver options:\n",
      "    https://scikit-learn.org/stable/modules/linear_model.html#logistic-regression\n",
      "  n_iter_i = _check_optimize_result(\n",
      "\n",
      "/opt/conda/lib/python3.8/site-packages/sklearn/linear_model/_logistic.py:762: ConvergenceWarning: lbfgs failed to converge (status=1):\n",
      "STOP: TOTAL NO. of ITERATIONS REACHED LIMIT.\n",
      "\n",
      "Increase the number of iterations (max_iter) or scale the data as shown in:\n",
      "    https://scikit-learn.org/stable/modules/preprocessing.html\n",
      "Please also refer to the documentation for alternative solver options:\n",
      "    https://scikit-learn.org/stable/modules/linear_model.html#logistic-regression\n",
      "  n_iter_i = _check_optimize_result(\n",
      "\n",
      "/opt/conda/lib/python3.8/site-packages/sklearn/linear_model/_logistic.py:762: ConvergenceWarning: lbfgs failed to converge (status=1):\n",
      "STOP: TOTAL NO. of ITERATIONS REACHED LIMIT.\n",
      "\n",
      "Increase the number of iterations (max_iter) or scale the data as shown in:\n",
      "    https://scikit-learn.org/stable/modules/preprocessing.html\n",
      "Please also refer to the documentation for alternative solver options:\n",
      "    https://scikit-learn.org/stable/modules/linear_model.html#logistic-regression\n",
      "  n_iter_i = _check_optimize_result(\n",
      "\n"
     ]
    },
    {
     "name": "stdout",
     "output_type": "stream",
     "text": [
      " 46%|████▌     | 23/50 [00:58<00:55,  2.07s/trial, best loss: 0.7902325372353718]"
     ]
    },
    {
     "name": "stderr",
     "output_type": "stream",
     "text": [
      "/opt/conda/lib/python3.8/site-packages/sklearn/linear_model/_logistic.py:762: ConvergenceWarning: lbfgs failed to converge (status=1):\n",
      "STOP: TOTAL NO. of ITERATIONS REACHED LIMIT.\n",
      "\n",
      "Increase the number of iterations (max_iter) or scale the data as shown in:\n",
      "    https://scikit-learn.org/stable/modules/preprocessing.html\n",
      "Please also refer to the documentation for alternative solver options:\n",
      "    https://scikit-learn.org/stable/modules/linear_model.html#logistic-regression\n",
      "  n_iter_i = _check_optimize_result(\n",
      "\n"
     ]
    },
    {
     "name": "stdout",
     "output_type": "stream",
     "text": [
      " 50%|█████     | 25/50 [01:04<00:57,  2.30s/trial, best loss: 0.7902325372353718]"
     ]
    },
    {
     "name": "stderr",
     "output_type": "stream",
     "text": [
      "/opt/conda/lib/python3.8/site-packages/sklearn/linear_model/_logistic.py:762: ConvergenceWarning: lbfgs failed to converge (status=1):\n",
      "STOP: TOTAL NO. of ITERATIONS REACHED LIMIT.\n",
      "\n",
      "Increase the number of iterations (max_iter) or scale the data as shown in:\n",
      "    https://scikit-learn.org/stable/modules/preprocessing.html\n",
      "Please also refer to the documentation for alternative solver options:\n",
      "    https://scikit-learn.org/stable/modules/linear_model.html#logistic-regression\n",
      "  n_iter_i = _check_optimize_result(\n",
      "\n",
      "/opt/conda/lib/python3.8/site-packages/sklearn/linear_model/_logistic.py:762: ConvergenceWarning: lbfgs failed to converge (status=1):\n",
      "STOP: TOTAL NO. of ITERATIONS REACHED LIMIT.\n",
      "\n",
      "Increase the number of iterations (max_iter) or scale the data as shown in:\n",
      "    https://scikit-learn.org/stable/modules/preprocessing.html\n",
      "Please also refer to the documentation for alternative solver options:\n",
      "    https://scikit-learn.org/stable/modules/linear_model.html#logistic-regression\n",
      "  n_iter_i = _check_optimize_result(\n",
      "\n",
      "/opt/conda/lib/python3.8/site-packages/sklearn/linear_model/_logistic.py:762: ConvergenceWarning: lbfgs failed to converge (status=1):\n",
      "STOP: TOTAL NO. of ITERATIONS REACHED LIMIT.\n",
      "\n",
      "Increase the number of iterations (max_iter) or scale the data as shown in:\n",
      "    https://scikit-learn.org/stable/modules/preprocessing.html\n",
      "Please also refer to the documentation for alternative solver options:\n",
      "    https://scikit-learn.org/stable/modules/linear_model.html#logistic-regression\n",
      "  n_iter_i = _check_optimize_result(\n",
      "\n"
     ]
    },
    {
     "name": "stdout",
     "output_type": "stream",
     "text": [
      " 52%|█████▏    | 26/50 [01:05<00:49,  2.08s/trial, best loss: 0.7901396086089504]"
     ]
    },
    {
     "name": "stderr",
     "output_type": "stream",
     "text": [
      "/opt/conda/lib/python3.8/site-packages/sklearn/linear_model/_logistic.py:762: ConvergenceWarning: lbfgs failed to converge (status=1):\n",
      "STOP: TOTAL NO. of ITERATIONS REACHED LIMIT.\n",
      "\n",
      "Increase the number of iterations (max_iter) or scale the data as shown in:\n",
      "    https://scikit-learn.org/stable/modules/preprocessing.html\n",
      "Please also refer to the documentation for alternative solver options:\n",
      "    https://scikit-learn.org/stable/modules/linear_model.html#logistic-regression\n",
      "  n_iter_i = _check_optimize_result(\n",
      "\n"
     ]
    },
    {
     "name": "stdout",
     "output_type": "stream",
     "text": [
      " 60%|██████    | 30/50 [01:13<00:38,  1.94s/trial, best loss: 0.7901396086089504]"
     ]
    },
    {
     "name": "stderr",
     "output_type": "stream",
     "text": [
      "/opt/conda/lib/python3.8/site-packages/sklearn/linear_model/_logistic.py:762: ConvergenceWarning: lbfgs failed to converge (status=1):\n",
      "STOP: TOTAL NO. of ITERATIONS REACHED LIMIT.\n",
      "\n",
      "Increase the number of iterations (max_iter) or scale the data as shown in:\n",
      "    https://scikit-learn.org/stable/modules/preprocessing.html\n",
      "Please also refer to the documentation for alternative solver options:\n",
      "    https://scikit-learn.org/stable/modules/linear_model.html#logistic-regression\n",
      "  n_iter_i = _check_optimize_result(\n",
      "\n",
      "/opt/conda/lib/python3.8/site-packages/sklearn/linear_model/_logistic.py:762: ConvergenceWarning: lbfgs failed to converge (status=1):\n",
      "STOP: TOTAL NO. of ITERATIONS REACHED LIMIT.\n",
      "\n",
      "Increase the number of iterations (max_iter) or scale the data as shown in:\n",
      "    https://scikit-learn.org/stable/modules/preprocessing.html\n",
      "Please also refer to the documentation for alternative solver options:\n",
      "    https://scikit-learn.org/stable/modules/linear_model.html#logistic-regression\n",
      "  n_iter_i = _check_optimize_result(\n",
      "\n"
     ]
    },
    {
     "name": "stdout",
     "output_type": "stream",
     "text": [
      " 62%|██████▏   | 31/50 [01:14<00:35,  1.85s/trial, best loss: 0.7901396086089504]"
     ]
    },
    {
     "name": "stderr",
     "output_type": "stream",
     "text": [
      "/opt/conda/lib/python3.8/site-packages/sklearn/linear_model/_logistic.py:762: ConvergenceWarning: lbfgs failed to converge (status=1):\n",
      "STOP: TOTAL NO. of ITERATIONS REACHED LIMIT.\n",
      "\n",
      "Increase the number of iterations (max_iter) or scale the data as shown in:\n",
      "    https://scikit-learn.org/stable/modules/preprocessing.html\n",
      "Please also refer to the documentation for alternative solver options:\n",
      "    https://scikit-learn.org/stable/modules/linear_model.html#logistic-regression\n",
      "  n_iter_i = _check_optimize_result(\n",
      "\n"
     ]
    },
    {
     "name": "stdout",
     "output_type": "stream",
     "text": [
      " 64%|██████▍   | 32/50 [01:16<00:33,  1.83s/trial, best loss: 0.7901396086089504]"
     ]
    },
    {
     "name": "stderr",
     "output_type": "stream",
     "text": [
      "/opt/conda/lib/python3.8/site-packages/sklearn/linear_model/_logistic.py:762: ConvergenceWarning: lbfgs failed to converge (status=1):\n",
      "STOP: TOTAL NO. of ITERATIONS REACHED LIMIT.\n",
      "\n",
      "Increase the number of iterations (max_iter) or scale the data as shown in:\n",
      "    https://scikit-learn.org/stable/modules/preprocessing.html\n",
      "Please also refer to the documentation for alternative solver options:\n",
      "    https://scikit-learn.org/stable/modules/linear_model.html#logistic-regression\n",
      "  n_iter_i = _check_optimize_result(\n",
      "\n"
     ]
    },
    {
     "name": "stdout",
     "output_type": "stream",
     "text": [
      " 76%|███████▌  | 38/50 [01:31<00:31,  2.65s/trial, best loss: 0.7901396086089504]"
     ]
    },
    {
     "name": "stderr",
     "output_type": "stream",
     "text": [
      "/opt/conda/lib/python3.8/site-packages/sklearn/linear_model/_logistic.py:762: ConvergenceWarning: lbfgs failed to converge (status=1):\n",
      "STOP: TOTAL NO. of ITERATIONS REACHED LIMIT.\n",
      "\n",
      "Increase the number of iterations (max_iter) or scale the data as shown in:\n",
      "    https://scikit-learn.org/stable/modules/preprocessing.html\n",
      "Please also refer to the documentation for alternative solver options:\n",
      "    https://scikit-learn.org/stable/modules/linear_model.html#logistic-regression\n",
      "  n_iter_i = _check_optimize_result(\n",
      "\n",
      "/opt/conda/lib/python3.8/site-packages/sklearn/linear_model/_logistic.py:762: ConvergenceWarning: lbfgs failed to converge (status=1):\n",
      "STOP: TOTAL NO. of ITERATIONS REACHED LIMIT.\n",
      "\n",
      "Increase the number of iterations (max_iter) or scale the data as shown in:\n",
      "    https://scikit-learn.org/stable/modules/preprocessing.html\n",
      "Please also refer to the documentation for alternative solver options:\n",
      "    https://scikit-learn.org/stable/modules/linear_model.html#logistic-regression\n",
      "  n_iter_i = _check_optimize_result(\n",
      "\n"
     ]
    },
    {
     "name": "stdout",
     "output_type": "stream",
     "text": [
      "100%|██████████| 50/50 [01:57<00:00,  2.34s/trial, best loss: 0.7901396086089504]\n"
     ]
    }
   ],
   "source": [
    "#Tuning with Bayesian optimization\n",
    "\n",
    "search_space= {'C': hp.uniform ('C', 0.01, 100),\n",
    "        'max_iter': hp.uniform ('max_iter', 50, 1000)\n",
    "    }\n",
    "def objective(search_space):\n",
    "    bayes = LogisticRegression(C = search_space['C'],max_iter = search_space['max_iter'])\n",
    "    accuracy = cross_val_score(bayes, X_train, y_train, cv = 4).mean()\n",
    "    return {'loss': accuracy, 'status': STATUS_OK }\n",
    "\n",
    "trials = Trials()\n",
    "\n",
    "\n",
    "# Training from bayes tuning\n",
    "\n",
    "\n",
    "start_time = time.time()\n",
    "\n",
    "\n",
    "best = fmin(fn= objective,\n",
    "            space= search_space,\n",
    "            algo= tpe.suggest,\n",
    "            max_evals = 50,\n",
    "            trials= trials)\n",
    "best\n",
    "\n",
    "\n",
    "\n",
    "trainedlrc  = LogisticRegression(C = best['C'],max_iter = best['max_iter']).fit(X_train, y_train)\n",
    "\n",
    "bayesian_time =time.time() - start_time\n",
    "\n",
    "y_pred2 = trainedlrc.predict(X_test)"
   ]
  },
  {
   "cell_type": "code",
   "execution_count": 26,
   "metadata": {
    "colab": {
     "base_uri": "https://localhost:8080/",
     "height": 343,
     "referenced_widgets": [
      "36f19e5fb76f4f0ebcc0b5be2da53fa1",
      "5cc45a0cbaec43eaaec1a9779ca4b10f",
      "9377873b536342f6b0de7a0ede6dd3bf",
      "1d74c59c120242f88ef47e65c586c510",
      "f571d187ebbe4581b02c09e7b67c415b",
      "f82586e062bd4484b0ad9480a7b274c7",
      "50839d61de2b4f95bc021f612c48a412",
      "4efaef546e78431f8ec9940d6bc26617"
     ]
    },
    "id": "GgciLUJBpU-0",
    "outputId": "645c006f-0b03-45bd-b5d8-e13f5cc2d0a0"
   },
   "outputs": [
    {
     "name": "stdout",
     "output_type": "stream",
     "text": [
      "32 operators have been imported by TPOT.\n"
     ]
    },
    {
     "data": {
      "application/vnd.jupyter.widget-view+json": {
       "model_id": "",
       "version_major": 2,
       "version_minor": 0
      },
      "text/plain": [
       "HBox(children=(FloatProgress(value=0.0, description='Optimization Progress', max=60.0, style=ProgressStyle(des…"
      ]
     },
     "metadata": {},
     "output_type": "display_data"
    },
    {
     "name": "stdout",
     "output_type": "stream",
     "text": [
      "_pre_test decorator: _random_mutation_operator: num_test=0 Solver lbfgs supports only dual=False, got dual=True.\n",
      "\n",
      "Generation 1 - Current Pareto front scores:\n",
      "_pre_test decorator: _random_mutation_operator: num_test=0 Unsupported set of arguments: The combination of penalty='l1' and loss='squared_hinge' are not supported when dual=True, Parameters: penalty='l1', loss='squared_hinge', dual=True.min_samples_split=12, ExtraTreesClassifier__n_estimators=100)\n",
      "_pre_test decorator: _random_mutation_operator: num_test=1 Solver lbfgs supports only 'l2' or 'none' penalties, got l1 penalty..\n",
      "\n",
      "Generation 2 - Current Pareto front scores:\n",
      "_pre_test decorator: _random_mutation_operator: num_test=0 l2 was provided as affinity. Ward can only work with euclidean distances.. ExtraTreesClassifier__max_features=0.4, ExtraTreesClassifier__min_samples_leaf=7, ExtraTreesClassifier__min_samples_split=12, ExtraTreesClassifier__n_estimators=100)\n",
      "\n",
      "Generation 3 - Current Pareto front scores:\n",
      "-1\t0.9843380234899428\tExtraTreesClassifier(input_matrix, ExtraTreesClassifier__bootstrap=True, ExtraTreesClassifier__criterion=gini, ExtraTreesClassifier__max_features=1.0, ExtraTreesClassifier__min_samples_leaf=9, ExtraTreesClassifier__min_samples_split=3, ExtraTreesClassifier__n_estimators=100)\n",
      "Generation 4 - Current Pareto front scores:\n",
      "-1\t0.9843380234899428\tExtraTreesClassifier(input_matrix, ExtraTreesClassifier__bootstrap=True, ExtraTreesClassifier__criterion=gini, ExtraTreesClassifier__max_features=1.0, ExtraTreesClassifier__min_samples_leaf=9, ExtraTreesClassifier__min_samples_split=3, ExtraTreesClassifier__n_estimators=100)\n",
      "-2\t0.9845238799763507\tExtraTreesClassifier(MultinomialNB(input_matrix, MultinomialNB__alpha=10.0, MultinomialNB__fit_prior=True), ExtraTreesClassifier__bootstrap=True, ExtraTreesClassifier__criterion=gini, ExtraTreesClassifier__max_features=1.0, ExtraTreesClassifier__min_samples_leaf=9, ExtraTreesClassifier__min_samples_split=3, ExtraTreesClassifier__n_estimators=100)\n",
      "Generation 5 - Current Pareto front scores:\n",
      "-1\t0.9843380234899428\tExtraTreesClassifier(input_matrix, ExtraTreesClassifier__bootstrap=True, ExtraTreesClassifier__criterion=gini, ExtraTreesClassifier__max_features=1.0, ExtraTreesClassifier__min_samples_leaf=9, ExtraTreesClassifier__min_samples_split=3, ExtraTreesClassifier__n_estimators=100)\n",
      "-2\t0.9845238799763507\tExtraTreesClassifier(MultinomialNB(input_matrix, MultinomialNB__alpha=10.0, MultinomialNB__fit_prior=True), ExtraTreesClassifier__bootstrap=True, ExtraTreesClassifier__criterion=gini, ExtraTreesClassifier__max_features=1.0, ExtraTreesClassifier__min_samples_leaf=9, ExtraTreesClassifier__min_samples_split=3, ExtraTreesClassifier__n_estimators=100)"
     ]
    }
   ],
   "source": [
    "# The genetic algorithim part\n",
    "\n",
    "lrc_tpot = TPOTClassifier(verbosity=3, \n",
    " scoring='accuracy', \n",
    " random_state=32, \n",
    " n_jobs=-1, \n",
    " generations=5, \n",
    " population_size=10,\n",
    " early_stop=5)\n",
    "\n",
    "start_time = time.time()\n",
    "\n",
    "lrc_tpot.fit(X_train, y_train) \n",
    "\n",
    "genetic_time = time.time() - start_time"
   ]
  },
  {
   "cell_type": "code",
   "execution_count": 27,
   "metadata": {
    "id": "d4DCnEstpU-3"
   },
   "outputs": [],
   "source": [
    "predictions3 = lrc_tpot.predict(X_test)"
   ]
  },
  {
   "cell_type": "code",
   "execution_count": 28,
   "metadata": {
    "colab": {
     "base_uri": "https://localhost:8080/",
     "height": 697
    },
    "id": "gqlX1QxDpU-7",
    "outputId": "6765725b-6c46-4fff-8c2b-2552284bd1df"
   },
   "outputs": [
    {
     "name": "stdout",
     "output_type": "stream",
     "text": [
      "0.5204293727874756 seconds it took to train without tuning\n",
      "              precision    recall  f1-score   support\n",
      "\n",
      "           0       0.79      0.98      0.88     35954\n",
      "           1       0.66      0.14      0.23     10678\n",
      "\n",
      "    accuracy                           0.79     46632\n",
      "   macro avg       0.73      0.56      0.55     46632\n",
      "weighted avg       0.76      0.79      0.73     46632\n",
      "\n",
      "2246.237941265106 seconds it took to train with Random search tuning\n",
      "              precision    recall  f1-score   support\n",
      "\n",
      "           0       0.83      0.96      0.89     35954\n",
      "           1       0.73      0.36      0.48     10678\n",
      "\n",
      "    accuracy                           0.82     46632\n",
      "   macro avg       0.78      0.66      0.69     46632\n",
      "weighted avg       0.81      0.82      0.80     46632\n",
      "\n",
      "117.55608940124512 seconds it took to train with Bayesian search tuning \n",
      "              precision    recall  f1-score   support\n",
      "\n",
      "           0       0.79      0.98      0.88     35954\n",
      "           1       0.66      0.14      0.23     10678\n",
      "\n",
      "    accuracy                           0.79     46632\n",
      "   macro avg       0.73      0.56      0.55     46632\n",
      "weighted avg       0.76      0.79      0.73     46632\n",
      "\n",
      "1806.6388273239136 seconds it took to train genetic algorithim\n",
      "              precision    recall  f1-score   support\n",
      "\n",
      "           0       0.99      0.99      0.99     35954\n",
      "           1       0.96      0.96      0.96     10678\n",
      "\n",
      "    accuracy                           0.98     46632\n",
      "   macro avg       0.98      0.97      0.97     46632\n",
      "weighted avg       0.98      0.98      0.98     46632\n",
      "\n"
     ]
    }
   ],
   "source": [
    "# Results of training (time and classification report)\n",
    "\n",
    "#1 Result of SVC without tuning\n",
    "print(\"%s seconds it took to train without tuning\" % (sv_notune))    \n",
    "print(classification_report(y_test,y_pred))\n",
    "\n",
    "#2 Result of SVC with Random search tuning\n",
    "print(\"%s seconds it took to train with Random search tuning\" % (random_time))\n",
    "print(classification_report(y_test,y_pred1))\n",
    "\n",
    "#3 Result of SVC with Bayesian search tuning \n",
    "print(\"%s seconds it took to train with Bayesian search tuning \" % (bayesian_time))\n",
    "print(classification_report(y_test,y_pred2))\n",
    "\n",
    "#4 Result of Classification with Genetic Algorithim\n",
    "print(\"%s seconds it took to train genetic algorithim\" % (genetic_time))\n",
    "print(classification_report(y_test,predictions3))\n"
   ]
  },
  {
   "cell_type": "code",
   "execution_count": null,
   "metadata": {
    "id": "VmI8X-1LpU-9"
   },
   "outputs": [],
   "source": []
  }
 ],
 "metadata": {
  "colab": {
   "collapsed_sections": [],
   "name": "Classifier-test.ipynb",
   "provenance": []
  },
  "kernelspec": {
   "display_name": "Python 3",
   "language": "python",
   "name": "python3"
  },
  "language_info": {
   "codemirror_mode": {
    "name": "ipython",
    "version": 3
   },
   "file_extension": ".py",
   "mimetype": "text/x-python",
   "name": "python",
   "nbconvert_exporter": "python",
   "pygments_lexer": "ipython3",
   "version": "3.8.3"
  },
  "widgets": {
   "application/vnd.jupyter.widget-state+json": {
    "1d74c59c120242f88ef47e65c586c510": {
     "model_module": "@jupyter-widgets/controls",
     "model_name": "HTMLModel",
     "state": {
      "_dom_classes": [],
      "_model_module": "@jupyter-widgets/controls",
      "_model_module_version": "1.5.0",
      "_model_name": "HTMLModel",
      "_view_count": null,
      "_view_module": "@jupyter-widgets/controls",
      "_view_module_version": "1.5.0",
      "_view_name": "HTMLView",
      "description": "",
      "description_tooltip": null,
      "layout": "IPY_MODEL_4efaef546e78431f8ec9940d6bc26617",
      "placeholder": "​",
      "style": "IPY_MODEL_50839d61de2b4f95bc021f612c48a412",
      "value": " 63/? [57:19&lt;00:00, 71.28s/pipeline]"
     }
    },
    "36f19e5fb76f4f0ebcc0b5be2da53fa1": {
     "model_module": "@jupyter-widgets/controls",
     "model_name": "HBoxModel",
     "state": {
      "_dom_classes": [],
      "_model_module": "@jupyter-widgets/controls",
      "_model_module_version": "1.5.0",
      "_model_name": "HBoxModel",
      "_view_count": null,
      "_view_module": "@jupyter-widgets/controls",
      "_view_module_version": "1.5.0",
      "_view_name": "HBoxView",
      "box_style": "",
      "children": [
       "IPY_MODEL_9377873b536342f6b0de7a0ede6dd3bf",
       "IPY_MODEL_1d74c59c120242f88ef47e65c586c510"
      ],
      "layout": "IPY_MODEL_5cc45a0cbaec43eaaec1a9779ca4b10f"
     }
    },
    "4efaef546e78431f8ec9940d6bc26617": {
     "model_module": "@jupyter-widgets/base",
     "model_name": "LayoutModel",
     "state": {
      "_model_module": "@jupyter-widgets/base",
      "_model_module_version": "1.2.0",
      "_model_name": "LayoutModel",
      "_view_count": null,
      "_view_module": "@jupyter-widgets/base",
      "_view_module_version": "1.2.0",
      "_view_name": "LayoutView",
      "align_content": null,
      "align_items": null,
      "align_self": null,
      "border": null,
      "bottom": null,
      "display": null,
      "flex": null,
      "flex_flow": null,
      "grid_area": null,
      "grid_auto_columns": null,
      "grid_auto_flow": null,
      "grid_auto_rows": null,
      "grid_column": null,
      "grid_gap": null,
      "grid_row": null,
      "grid_template_areas": null,
      "grid_template_columns": null,
      "grid_template_rows": null,
      "height": null,
      "justify_content": null,
      "justify_items": null,
      "left": null,
      "margin": null,
      "max_height": null,
      "max_width": null,
      "min_height": null,
      "min_width": null,
      "object_fit": null,
      "object_position": null,
      "order": null,
      "overflow": null,
      "overflow_x": null,
      "overflow_y": null,
      "padding": null,
      "right": null,
      "top": null,
      "visibility": null,
      "width": null
     }
    },
    "50839d61de2b4f95bc021f612c48a412": {
     "model_module": "@jupyter-widgets/controls",
     "model_name": "DescriptionStyleModel",
     "state": {
      "_model_module": "@jupyter-widgets/controls",
      "_model_module_version": "1.5.0",
      "_model_name": "DescriptionStyleModel",
      "_view_count": null,
      "_view_module": "@jupyter-widgets/base",
      "_view_module_version": "1.2.0",
      "_view_name": "StyleView",
      "description_width": ""
     }
    },
    "5cc45a0cbaec43eaaec1a9779ca4b10f": {
     "model_module": "@jupyter-widgets/base",
     "model_name": "LayoutModel",
     "state": {
      "_model_module": "@jupyter-widgets/base",
      "_model_module_version": "1.2.0",
      "_model_name": "LayoutModel",
      "_view_count": null,
      "_view_module": "@jupyter-widgets/base",
      "_view_module_version": "1.2.0",
      "_view_name": "LayoutView",
      "align_content": null,
      "align_items": null,
      "align_self": null,
      "border": null,
      "bottom": null,
      "display": null,
      "flex": null,
      "flex_flow": null,
      "grid_area": null,
      "grid_auto_columns": null,
      "grid_auto_flow": null,
      "grid_auto_rows": null,
      "grid_column": null,
      "grid_gap": null,
      "grid_row": null,
      "grid_template_areas": null,
      "grid_template_columns": null,
      "grid_template_rows": null,
      "height": null,
      "justify_content": null,
      "justify_items": null,
      "left": null,
      "margin": null,
      "max_height": null,
      "max_width": null,
      "min_height": null,
      "min_width": null,
      "object_fit": null,
      "object_position": null,
      "order": null,
      "overflow": null,
      "overflow_x": null,
      "overflow_y": null,
      "padding": null,
      "right": null,
      "top": null,
      "visibility": null,
      "width": null
     }
    },
    "9377873b536342f6b0de7a0ede6dd3bf": {
     "model_module": "@jupyter-widgets/controls",
     "model_name": "FloatProgressModel",
     "state": {
      "_dom_classes": [],
      "_model_module": "@jupyter-widgets/controls",
      "_model_module_version": "1.5.0",
      "_model_name": "FloatProgressModel",
      "_view_count": null,
      "_view_module": "@jupyter-widgets/controls",
      "_view_module_version": "1.5.0",
      "_view_name": "ProgressView",
      "bar_style": "",
      "description": "Optimization Progress: ",
      "description_tooltip": null,
      "layout": "IPY_MODEL_f82586e062bd4484b0ad9480a7b274c7",
      "max": 60,
      "min": 0,
      "orientation": "horizontal",
      "style": "IPY_MODEL_f571d187ebbe4581b02c09e7b67c415b",
      "value": 60
     }
    },
    "f571d187ebbe4581b02c09e7b67c415b": {
     "model_module": "@jupyter-widgets/controls",
     "model_name": "ProgressStyleModel",
     "state": {
      "_model_module": "@jupyter-widgets/controls",
      "_model_module_version": "1.5.0",
      "_model_name": "ProgressStyleModel",
      "_view_count": null,
      "_view_module": "@jupyter-widgets/base",
      "_view_module_version": "1.2.0",
      "_view_name": "StyleView",
      "bar_color": null,
      "description_width": "initial"
     }
    },
    "f82586e062bd4484b0ad9480a7b274c7": {
     "model_module": "@jupyter-widgets/base",
     "model_name": "LayoutModel",
     "state": {
      "_model_module": "@jupyter-widgets/base",
      "_model_module_version": "1.2.0",
      "_model_name": "LayoutModel",
      "_view_count": null,
      "_view_module": "@jupyter-widgets/base",
      "_view_module_version": "1.2.0",
      "_view_name": "LayoutView",
      "align_content": null,
      "align_items": null,
      "align_self": null,
      "border": null,
      "bottom": null,
      "display": null,
      "flex": null,
      "flex_flow": null,
      "grid_area": null,
      "grid_auto_columns": null,
      "grid_auto_flow": null,
      "grid_auto_rows": null,
      "grid_column": null,
      "grid_gap": null,
      "grid_row": null,
      "grid_template_areas": null,
      "grid_template_columns": null,
      "grid_template_rows": null,
      "height": null,
      "justify_content": null,
      "justify_items": null,
      "left": null,
      "margin": null,
      "max_height": null,
      "max_width": null,
      "min_height": null,
      "min_width": null,
      "object_fit": null,
      "object_position": null,
      "order": null,
      "overflow": null,
      "overflow_x": null,
      "overflow_y": null,
      "padding": null,
      "right": null,
      "top": null,
      "visibility": null,
      "width": null
     }
    }
   }
  }
 },
 "nbformat": 4,
 "nbformat_minor": 1
}
