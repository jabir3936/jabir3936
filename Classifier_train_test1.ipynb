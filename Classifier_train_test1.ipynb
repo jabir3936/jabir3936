{
 "cells": [
  {
   "cell_type": "code",
   "execution_count": 1,
   "metadata": {
    "id": "LXesBdROpU9o"
   },
   "outputs": [],
   "source": [
    "import numpy as np\n",
    "import pandas as pd\n",
    "import glob\n",
    "import geopy\n",
    " import geopy.distance\n",
    "import datetime\n",
    "import sys\n",
    "import time"
   ]
  },
  {
   "cell_type": "markdown",
   "metadata": {
    "id": "LXesBdROpU9o"
   },
   "source": [
    "# Classifier training experiment"
   ]
  },
  {
   "cell_type": "markdown",
   "metadata": {
    "colab": {
     "base_uri": "https://localhost:8080/",
     "height": 419
    },
    "id": "ItZOR9GgpU9y",
    "outputId": "0ff3bb94-92c5-41c7-b62c-ac5196632b5c"
   },
   "source": [
    "Loading the csv file containing the preprocessed data. The bool represents the route identification (bool=0 is south, bool=1 is North)"
   ]
  },
  {
   "cell_type": "code",
   "execution_count": 32,
   "metadata": {
    "colab": {
     "base_uri": "https://localhost:8080/",
     "height": 419
    },
    "id": "ItZOR9GgpU9y",
    "outputId": "0ff3bb94-92c5-41c7-b62c-ac5196632b5c"
   },
   "outputs": [
    {
     "data": {
      "text/html": [
       "<div>\n",
       "<style scoped>\n",
       "    .dataframe tbody tr th:only-of-type {\n",
       "        vertical-align: middle;\n",
       "    }\n",
       "\n",
       "    .dataframe tbody tr th {\n",
       "        vertical-align: top;\n",
       "    }\n",
       "\n",
       "    .dataframe thead th {\n",
       "        text-align: right;\n",
       "    }\n",
       "</style>\n",
       "<table border=\"1\" class=\"dataframe\">\n",
       "  <thead>\n",
       "    <tr style=\"text-align: right;\">\n",
       "      <th></th>\n",
       "      <th>Length</th>\n",
       "      <th>Breadth</th>\n",
       "      <th>Draught</th>\n",
       "      <th>Longitude</th>\n",
       "      <th>Latitude</th>\n",
       "      <th>SOG</th>\n",
       "      <th>bool</th>\n",
       "      <th>ETA</th>\n",
       "    </tr>\n",
       "  </thead>\n",
       "  <tbody>\n",
       "    <tr>\n",
       "      <th>0</th>\n",
       "      <td>152</td>\n",
       "      <td>24</td>\n",
       "      <td>6.8</td>\n",
       "      <td>5.838777</td>\n",
       "      <td>53.63944</td>\n",
       "      <td>14.3</td>\n",
       "      <td>0</td>\n",
       "      <td>12.685507</td>\n",
       "    </tr>\n",
       "    <tr>\n",
       "      <th>1</th>\n",
       "      <td>152</td>\n",
       "      <td>24</td>\n",
       "      <td>6.8</td>\n",
       "      <td>5.845800</td>\n",
       "      <td>53.64076</td>\n",
       "      <td>14.3</td>\n",
       "      <td>0</td>\n",
       "      <td>12.667177</td>\n",
       "    </tr>\n",
       "    <tr>\n",
       "      <th>2</th>\n",
       "      <td>152</td>\n",
       "      <td>24</td>\n",
       "      <td>6.8</td>\n",
       "      <td>5.852149</td>\n",
       "      <td>53.64198</td>\n",
       "      <td>14.3</td>\n",
       "      <td>0</td>\n",
       "      <td>12.650496</td>\n",
       "    </tr>\n",
       "    <tr>\n",
       "      <th>3</th>\n",
       "      <td>152</td>\n",
       "      <td>24</td>\n",
       "      <td>6.8</td>\n",
       "      <td>5.858515</td>\n",
       "      <td>53.64320</td>\n",
       "      <td>14.3</td>\n",
       "      <td>0</td>\n",
       "      <td>12.633836</td>\n",
       "    </tr>\n",
       "    <tr>\n",
       "      <th>4</th>\n",
       "      <td>152</td>\n",
       "      <td>24</td>\n",
       "      <td>6.8</td>\n",
       "      <td>5.864876</td>\n",
       "      <td>53.64441</td>\n",
       "      <td>14.3</td>\n",
       "      <td>0</td>\n",
       "      <td>12.617179</td>\n",
       "    </tr>\n",
       "    <tr>\n",
       "      <th>...</th>\n",
       "      <td>...</td>\n",
       "      <td>...</td>\n",
       "      <td>...</td>\n",
       "      <td>...</td>\n",
       "      <td>...</td>\n",
       "      <td>...</td>\n",
       "      <td>...</td>\n",
       "      <td>...</td>\n",
       "    </tr>\n",
       "    <tr>\n",
       "      <th>186520</th>\n",
       "      <td>229</td>\n",
       "      <td>38</td>\n",
       "      <td>13.3</td>\n",
       "      <td>9.806900</td>\n",
       "      <td>53.55355</td>\n",
       "      <td>7.4</td>\n",
       "      <td>1</td>\n",
       "      <td>0.083519</td>\n",
       "    </tr>\n",
       "    <tr>\n",
       "      <th>186521</th>\n",
       "      <td>229</td>\n",
       "      <td>38</td>\n",
       "      <td>13.3</td>\n",
       "      <td>9.810224</td>\n",
       "      <td>53.55293</td>\n",
       "      <td>7.3</td>\n",
       "      <td>1</td>\n",
       "      <td>0.066774</td>\n",
       "    </tr>\n",
       "    <tr>\n",
       "      <th>186522</th>\n",
       "      <td>229</td>\n",
       "      <td>38</td>\n",
       "      <td>13.3</td>\n",
       "      <td>9.813442</td>\n",
       "      <td>53.55230</td>\n",
       "      <td>7.2</td>\n",
       "      <td>1</td>\n",
       "      <td>0.049974</td>\n",
       "    </tr>\n",
       "    <tr>\n",
       "      <th>186523</th>\n",
       "      <td>229</td>\n",
       "      <td>38</td>\n",
       "      <td>13.3</td>\n",
       "      <td>9.816650</td>\n",
       "      <td>53.55172</td>\n",
       "      <td>7.1</td>\n",
       "      <td>1</td>\n",
       "      <td>0.033443</td>\n",
       "    </tr>\n",
       "    <tr>\n",
       "      <th>186524</th>\n",
       "      <td>229</td>\n",
       "      <td>38</td>\n",
       "      <td>13.3</td>\n",
       "      <td>9.819812</td>\n",
       "      <td>53.55116</td>\n",
       "      <td>7.1</td>\n",
       "      <td>1</td>\n",
       "      <td>0.016667</td>\n",
       "    </tr>\n",
       "  </tbody>\n",
       "</table>\n",
       "<p>186525 rows × 8 columns</p>\n",
       "</div>"
      ],
      "text/plain": [
       "        Length  Breadth  Draught  Longitude  Latitude   SOG  bool        ETA\n",
       "0          152       24      6.8   5.838777  53.63944  14.3     0  12.685507\n",
       "1          152       24      6.8   5.845800  53.64076  14.3     0  12.667177\n",
       "2          152       24      6.8   5.852149  53.64198  14.3     0  12.650496\n",
       "3          152       24      6.8   5.858515  53.64320  14.3     0  12.633836\n",
       "4          152       24      6.8   5.864876  53.64441  14.3     0  12.617179\n",
       "...        ...      ...      ...        ...       ...   ...   ...        ...\n",
       "186520     229       38     13.3   9.806900  53.55355   7.4     1   0.083519\n",
       "186521     229       38     13.3   9.810224  53.55293   7.3     1   0.066774\n",
       "186522     229       38     13.3   9.813442  53.55230   7.2     1   0.049974\n",
       "186523     229       38     13.3   9.816650  53.55172   7.1     1   0.033443\n",
       "186524     229       38     13.3   9.819812  53.55116   7.1     1   0.016667\n",
       "\n",
       "[186525 rows x 8 columns]"
      ]
     },
     "execution_count": 32,
     "metadata": {},
     "output_type": "execute_result"
    }
   ],
   "source": [
    "path = r\"train_ship_data_final_classifier.csv\"\n",
    "df=pd.read_csv(path,sep=',',low_memory=False)\n",
    "df"
   ]
  },
  {
   "cell_type": "code",
   "execution_count": 33,
   "metadata": {
    "colab": {
     "base_uri": "https://localhost:8080/",
     "height": 419
    },
    "id": "2CCgrZ7CpU9_",
    "outputId": "19968d22-7b03-4615-c735-435b3c71789c"
   },
   "outputs": [],
   "source": [
    "# from google.colab import drive\n",
    "# drive.mount('/content/drive')\n",
    "\n",
    "df"
   ]
  },
  {
   "cell_type": "markdown",
   "metadata": {
    "id": "8B_QNm-JpU-E"
   },
   "source": [
    "This section is the loading of the relevant machine learning libraries"
   ]
  },
  {
   "cell_type": "code",
   "execution_count": 6,
   "metadata": {
    "id": "8B_QNm-JpU-E"
   },
   "outputs": [
    {
     "name": "stderr",
     "output_type": "stream",
     "text": [
      "/opt/conda/lib/python3.8/site-packages/tpot/builtins/__init__.py:36: UserWarning: Warning: optional dependency `torch` is not available. - skipping import of NN models.\n",
      "  warnings.warn(\"Warning: optional dependency `torch` is not available. - skipping import of NN models.\")\n"
     ]
    }
   ],
   "source": [
    "#Training part of the data\n",
    "from sklearn import metrics\n",
    "\n",
    "from pandas.plotting import scatter_matrix\n",
    "from matplotlib import pyplot\n",
    "from sklearn.model_selection import train_test_split\n",
    "from sklearn.model_selection import cross_val_score\n",
    "from sklearn.model_selection import StratifiedKFold\n",
    "from sklearn.ensemble import RandomForestRegressor\n",
    "from sklearn.metrics import classification_report\n",
    "from sklearn.metrics import confusion_matrix\n",
    "from sklearn.metrics import accuracy_score\n",
    "from sklearn.linear_model import LogisticRegression\n",
    "from sklearn.tree import DecisionTreeClassifier\n",
    "from sklearn.neighbors import KNeighborsClassifier\n",
    "from sklearn.discriminant_analysis import LinearDiscriminantAnalysis\n",
    "from sklearn.naive_bayes import GaussianNB\n",
    "from sklearn.svm import SVC\n",
    "from sklearn.linear_model import LogisticRegression\n",
    "\n",
    "from sklearn.model_selection import RandomizedSearchCV\n",
    "from sklearn.model_selection import GridSearchCV\n",
    "\n",
    "from hyperopt import fmin, tpe, hp,STATUS_OK, Trials\n",
    "import matplotlib.pyplot as plt\n",
    "#!pip install tpot\n",
    "from tpot import TPOTClassifier"
   ]
  },
  {
   "cell_type": "markdown",
   "metadata": {
    "colab": {
     "base_uri": "https://localhost:8080/",
     "height": 85
    },
    "id": "71TZBJ5EpU-S",
    "outputId": "9ff9a6ac-b27d-4ae8-e56e-f361f2706b87"
   },
   "source": [
    "\n",
    "## Data preperation (Train-test split)\n",
    "The data set is now split into the training and test set. The training set will have 75% of the original data set,while the test data has 25% of the data set. The features of the data set are: \n",
    "<ol>\n",
    "<li>Length</li>\n",
    "<li>Breadth</li>\n",
    "<li>Draught</li>\n",
    "<li>Longitude</li>\n",
    "<li>Latitude</li>\n",
    "<li>SOG</li>\n",
    "</ol>\n",
    "The labels is the route taken i.e bool"
   ]
  },
  {
   "cell_type": "code",
   "execution_count": 9,
   "metadata": {
    "colab": {
     "base_uri": "https://localhost:8080/",
     "height": 85
    },
    "id": "71TZBJ5EpU-S",
    "outputId": "9ff9a6ac-b27d-4ae8-e56e-f361f2706b87"
   },
   "outputs": [],
   "source": [
    "#Features\n",
    "features = df.drop('bool', axis=1)\n",
    "features= np.array(features)\n",
    "\n",
    "# Labels\n",
    "labels= np.array(df['bool'])\n",
    "\n",
    "feature_list = list(df.columns)\n",
    "\n",
    "#Splitting the data to train and test\n",
    "\n",
    "X_train, X_test, y_train, y_test = train_test_split(features, labels, test_size = 0.25, random_state = 42)\n",
    "\n",
    "print('Training Features Shape:', X_train.shape)\n",
    "print('Training Labels Shape:', y_train.shape)\n",
    "print('Testing Features Shape:', X_test.shape)\n",
    "print('Testing Labels Shape:',  y_test.shape)"
   ]
  },
  {
   "cell_type": "markdown",
   "metadata": {
    "colab": {
     "base_uri": "https://localhost:8080/",
     "height": 190
    },
    "id": "IVrUvBV2pU-W",
    "outputId": "fb7e09de-d3b8-45e3-fe45-89553ad091e9"
   },
   "source": [
    "For the training, logistic regression was selected and in this section for classification and their default values(no tuning) is used to train and show the accuracy results"
   ]
  },
  {
   "cell_type": "code",
   "execution_count": null,
   "metadata": {
    "colab": {
     "base_uri": "https://localhost:8080/",
     "height": 190
    },
    "id": "IVrUvBV2pU-W",
    "outputId": "fb7e09de-d3b8-45e3-fe45-89553ad091e9"
   },
   "outputs": [],
   "source": [
    "# Training part with logistic regression without tuning(Default values)\n",
    "\n",
    "lr = LogisticRegression()\n",
    "\n",
    "start_time = time.time()\n",
    "\n",
    "lr.fit(X_train, y_train)\n",
    "\n",
    "sv_notune= time.time() - start_time\n",
    "\n",
    "y_pred= lr.predict(X_test)\n",
    "\n",
    "print(\"Accuracy:\",metrics.accuracy_score(y_test, y_pred))"
   ]
  },
  {
   "cell_type": "markdown",
   "metadata": {
    "id": "TddGRcjopU-a"
   },
   "source": [
    "\n",
    "## Tuning Section\n",
    "This section now deals with tuining the Logistic regression "
   ]
  },
  {
   "cell_type": "code",
   "execution_count": 11,
   "metadata": {
    "id": "MzthHeVNpU-d"
   },
   "outputs": [],
   "source": [
    "# LRC object to be used for tuning \n",
    "\n",
    "lrc = LogisticRegression()\n",
    "\n"
   ]
  },
  {
   "cell_type": "markdown",
   "metadata": {
    "colab": {
     "base_uri": "https://localhost:8080/",
     "height": 102
    },
    "id": "sJl11x_NpU-n",
    "outputId": "863b6125-4366-4d43-dbfe-e3db8a31bada"
   },
   "source": [
    "## Tuning Section\n",
    "The following HPO algorithims will be used for tuning\n",
    "1.Random search\n",
    "2.Bayesian Optimization\n",
    "3.Genetic Algorithims\n",
    "\n",
    "For the logistic regression algorithm. The following hyperparameters are used for tuning\n",
    "- C : regalurization strength\n",
    "- Maximum iterations (max_iter) : Maximum number of iterations taken for the solvers to converge\n",
    "- Solver : Algorithm to use in the optimization problem.\n",
    "- Penalty :Used to specify the norm used in the penalization\n",
    "\n",
    "\n",
    "\n",
    "## Random Search\n",
    "With the hyperparameters mentioned above , a 'search space' is used to sample from and find the best possible hyperparameters for logistic regresssion."
   ]
  },
  {
   "cell_type": "code",
   "execution_count": 18,
   "metadata": {
    "colab": {
     "base_uri": "https://localhost:8080/",
     "height": 629
    },
    "id": "6z6EnTGzpU-t",
    "outputId": "7cf89baf-a25a-4b1f-c8c4-88d06efd6de0"
   },
   "outputs": [],
   "source": [
    "# Tuning LRC with the following algorithims\n",
    "        # 1) Random\n",
    "        # 2) Bayesian\n",
    "        #  3) Genetic algorithims\n",
    "        \n",
    "# Random searcch set parameters\n",
    "C=np.random.uniform(0.01,200,30)\n",
    "max_iter = np.random.randint(50,2000,30)\n",
    "solver = ['newton-cg', 'lbfgs', 'liblinear', 'sag', 'saga']\n",
    "penalty= ['none', 'l1', 'l2', 'elasticnet']\n",
    "random_grid = {'C': C, 'solver':solver,\n",
    "               'penalty': penalty,'max_iter':max_iter\n",
    "               }\n",
    "random_grid \n",
    "\n",
    "#Random search tuning\n",
    "lr_random = RandomizedSearchCV(estimator = lrc, param_distributions = random_grid, n_iter = 1000, cv = 3, verbose=10, random_state=42, n_jobs =-1)\n",
    "start_time = time.time()\n",
    "lr_random.fit(X_train, y_train)\n",
    "\n",
    "random_time =time.time() - start_time\n",
    "\n",
    "#Parameters selected for random search\n",
    "lr_random.get_params()\n"
   ]
  },
  {
   "cell_type": "code",
   "execution_count": 19,
   "metadata": {
    "colab": {
     "base_uri": "https://localhost:8080/",
     "height": 187
    },
    "id": "Azomp_vapU-w",
    "outputId": "70a6e49b-dbf8-4be8-8789-e590b4d620ff"
   },
   "outputs": [
    {
     "name": "stdout",
     "output_type": "stream",
     "text": [
      "43537.440590143204 seconds it took to train with Random search tuning\n",
      "              precision    recall  f1-score   support\n",
      "\n",
      "           0       0.83      0.96      0.89     35954\n",
      "           1       0.73      0.36      0.48     10678\n",
      "\n",
      "    accuracy                           0.82     46632\n",
      "   macro avg       0.78      0.66      0.69     46632\n",
      "weighted avg       0.81      0.82      0.80     46632\n",
      "\n"
     ]
    }
   ],
   "source": [
    "#Testing on the test features, predictions for random search\n",
    "y_pred1=lr_random.predict(X_test)\n",
    "\n",
    "print(\"%s seconds it took to train with Random search tuning\" % (random_time))\n",
    "print(classification_report(y_test,y_pred1))"
   ]
  },
  {
   "cell_type": "markdown",
   "metadata": {
    "colab": {
     "base_uri": "https://localhost:8080/",
     "height": 1000
    },
    "id": "Qq1_JPl4pU-y",
    "outputId": "a9d0bc81-7722-4091-8ef8-466c88a35bbf"
   },
   "source": [
    "## Bayesian Optimizaition\n",
    "The same search space is used here is the same as that of Random search. The number of trials for the bayesian optimization will be 50 trials."
   ]
  },
  {
   "cell_type": "code",
   "execution_count": 20,
   "metadata": {
    "colab": {
     "base_uri": "https://localhost:8080/",
     "height": 1000
    },
    "id": "Qq1_JPl4pU-y",
    "outputId": "a9d0bc81-7722-4091-8ef8-466c88a35bbf"
   },
   "outputs": [
    {
     "name": "stdout",
     "output_type": "stream",
     "text": [
      " 26%|██▌       | 13/50 [00:30<01:20,  2.18s/trial, best loss: 0.7902253892725529]"
     ]
    },
    {
     "name": "stderr",
     "output_type": "stream",
     "text": [
      "/opt/conda/lib/python3.8/site-packages/sklearn/linear_model/_logistic.py:762: ConvergenceWarning: lbfgs failed to converge (status=1):\n",
      "STOP: TOTAL NO. of ITERATIONS REACHED LIMIT.\n",
      "\n",
      "Increase the number of iterations (max_iter) or scale the data as shown in:\n",
      "    https://scikit-learn.org/stable/modules/preprocessing.html\n",
      "Please also refer to the documentation for alternative solver options:\n",
      "    https://scikit-learn.org/stable/modules/linear_model.html#logistic-regression\n",
      "  n_iter_i = _check_optimize_result(\n",
      "\n",
      "/opt/conda/lib/python3.8/site-packages/sklearn/linear_model/_logistic.py:762: ConvergenceWarning: lbfgs failed to converge (status=1):\n",
      "STOP: TOTAL NO. of ITERATIONS REACHED LIMIT.\n",
      "\n",
      "Increase the number of iterations (max_iter) or scale the data as shown in:\n",
      "    https://scikit-learn.org/stable/modules/preprocessing.html\n",
      "Please also refer to the documentation for alternative solver options:\n",
      "    https://scikit-learn.org/stable/modules/linear_model.html#logistic-regression\n",
      "  n_iter_i = _check_optimize_result(\n",
      "\n"
     ]
    },
    {
     "name": "stdout",
     "output_type": "stream",
     "text": [
      " 44%|████▍     | 22/50 [00:51<01:05,  2.33s/trial, best loss: 0.7902253892725529]"
     ]
    },
    {
     "name": "stderr",
     "output_type": "stream",
     "text": [
      "/opt/conda/lib/python3.8/site-packages/sklearn/linear_model/_logistic.py:762: ConvergenceWarning: lbfgs failed to converge (status=1):\n",
      "STOP: TOTAL NO. of ITERATIONS REACHED LIMIT.\n",
      "\n",
      "Increase the number of iterations (max_iter) or scale the data as shown in:\n",
      "    https://scikit-learn.org/stable/modules/preprocessing.html\n",
      "Please also refer to the documentation for alternative solver options:\n",
      "    https://scikit-learn.org/stable/modules/linear_model.html#logistic-regression\n",
      "  n_iter_i = _check_optimize_result(\n",
      "\n",
      "/opt/conda/lib/python3.8/site-packages/sklearn/linear_model/_logistic.py:762: ConvergenceWarning: lbfgs failed to converge (status=1):\n",
      "STOP: TOTAL NO. of ITERATIONS REACHED LIMIT.\n",
      "\n",
      "Increase the number of iterations (max_iter) or scale the data as shown in:\n",
      "    https://scikit-learn.org/stable/modules/preprocessing.html\n",
      "Please also refer to the documentation for alternative solver options:\n",
      "    https://scikit-learn.org/stable/modules/linear_model.html#logistic-regression\n",
      "  n_iter_i = _check_optimize_result(\n",
      "\n",
      "/opt/conda/lib/python3.8/site-packages/sklearn/linear_model/_logistic.py:762: ConvergenceWarning: lbfgs failed to converge (status=1):\n",
      "STOP: TOTAL NO. of ITERATIONS REACHED LIMIT.\n",
      "\n",
      "Increase the number of iterations (max_iter) or scale the data as shown in:\n",
      "    https://scikit-learn.org/stable/modules/preprocessing.html\n",
      "Please also refer to the documentation for alternative solver options:\n",
      "    https://scikit-learn.org/stable/modules/linear_model.html#logistic-regression\n",
      "  n_iter_i = _check_optimize_result(\n",
      "\n"
     ]
    },
    {
     "name": "stdout",
     "output_type": "stream",
     "text": [
      " 52%|█████▏    | 26/50 [00:59<00:53,  2.22s/trial, best loss: 0.7902253892725529]"
     ]
    },
    {
     "name": "stderr",
     "output_type": "stream",
     "text": [
      "/opt/conda/lib/python3.8/site-packages/sklearn/linear_model/_logistic.py:762: ConvergenceWarning: lbfgs failed to converge (status=1):\n",
      "STOP: TOTAL NO. of ITERATIONS REACHED LIMIT.\n",
      "\n",
      "Increase the number of iterations (max_iter) or scale the data as shown in:\n",
      "    https://scikit-learn.org/stable/modules/preprocessing.html\n",
      "Please also refer to the documentation for alternative solver options:\n",
      "    https://scikit-learn.org/stable/modules/linear_model.html#logistic-regression\n",
      "  n_iter_i = _check_optimize_result(\n",
      "\n"
     ]
    },
    {
     "name": "stdout",
     "output_type": "stream",
     "text": [
      " 60%|██████    | 30/50 [01:07<00:40,  2.03s/trial, best loss: 0.7902253892725529]"
     ]
    },
    {
     "name": "stderr",
     "output_type": "stream",
     "text": [
      "/opt/conda/lib/python3.8/site-packages/sklearn/linear_model/_logistic.py:762: ConvergenceWarning: lbfgs failed to converge (status=1):\n",
      "STOP: TOTAL NO. of ITERATIONS REACHED LIMIT.\n",
      "\n",
      "Increase the number of iterations (max_iter) or scale the data as shown in:\n",
      "    https://scikit-learn.org/stable/modules/preprocessing.html\n",
      "Please also refer to the documentation for alternative solver options:\n",
      "    https://scikit-learn.org/stable/modules/linear_model.html#logistic-regression\n",
      "  n_iter_i = _check_optimize_result(\n",
      "\n",
      "/opt/conda/lib/python3.8/site-packages/sklearn/linear_model/_logistic.py:762: ConvergenceWarning: lbfgs failed to converge (status=1):\n",
      "STOP: TOTAL NO. of ITERATIONS REACHED LIMIT.\n",
      "\n",
      "Increase the number of iterations (max_iter) or scale the data as shown in:\n",
      "    https://scikit-learn.org/stable/modules/preprocessing.html\n",
      "Please also refer to the documentation for alternative solver options:\n",
      "    https://scikit-learn.org/stable/modules/linear_model.html#logistic-regression\n",
      "  n_iter_i = _check_optimize_result(\n",
      "\n",
      "/opt/conda/lib/python3.8/site-packages/sklearn/linear_model/_logistic.py:762: ConvergenceWarning: lbfgs failed to converge (status=1):\n",
      "STOP: TOTAL NO. of ITERATIONS REACHED LIMIT.\n",
      "\n",
      "Increase the number of iterations (max_iter) or scale the data as shown in:\n",
      "    https://scikit-learn.org/stable/modules/preprocessing.html\n",
      "Please also refer to the documentation for alternative solver options:\n",
      "    https://scikit-learn.org/stable/modules/linear_model.html#logistic-regression\n",
      "  n_iter_i = _check_optimize_result(\n",
      "\n"
     ]
    },
    {
     "name": "stdout",
     "output_type": "stream",
     "text": [
      " 62%|██████▏   | 31/50 [01:09<00:35,  1.85s/trial, best loss: 0.7902253892725529]"
     ]
    },
    {
     "name": "stderr",
     "output_type": "stream",
     "text": [
      "/opt/conda/lib/python3.8/site-packages/sklearn/linear_model/_logistic.py:762: ConvergenceWarning: lbfgs failed to converge (status=1):\n",
      "STOP: TOTAL NO. of ITERATIONS REACHED LIMIT.\n",
      "\n",
      "Increase the number of iterations (max_iter) or scale the data as shown in:\n",
      "    https://scikit-learn.org/stable/modules/preprocessing.html\n",
      "Please also refer to the documentation for alternative solver options:\n",
      "    https://scikit-learn.org/stable/modules/linear_model.html#logistic-regression\n",
      "  n_iter_i = _check_optimize_result(\n",
      "\n"
     ]
    },
    {
     "name": "stdout",
     "output_type": "stream",
     "text": [
      " 92%|█████████▏| 46/50 [01:43<00:09,  2.44s/trial, best loss: 0.7902253890681619]"
     ]
    },
    {
     "name": "stderr",
     "output_type": "stream",
     "text": [
      "/opt/conda/lib/python3.8/site-packages/sklearn/linear_model/_logistic.py:762: ConvergenceWarning: lbfgs failed to converge (status=1):\n",
      "STOP: TOTAL NO. of ITERATIONS REACHED LIMIT.\n",
      "\n",
      "Increase the number of iterations (max_iter) or scale the data as shown in:\n",
      "    https://scikit-learn.org/stable/modules/preprocessing.html\n",
      "Please also refer to the documentation for alternative solver options:\n",
      "    https://scikit-learn.org/stable/modules/linear_model.html#logistic-regression\n",
      "  n_iter_i = _check_optimize_result(\n",
      "\n"
     ]
    },
    {
     "name": "stdout",
     "output_type": "stream",
     "text": [
      "100%|██████████| 50/50 [01:51<00:00,  2.24s/trial, best loss: 0.7902253890681619]\n"
     ]
    }
   ],
   "source": [
    "#Tuning with Bayesian optimization\n",
    "\n",
    "search_space= {'C': hp.uniform ('C', 0.01, 200),\n",
    "        'max_iter': hp.uniform ('max_iter', 50, 2000)\n",
    "         'solver' : hp.choice('solver',['newton-cg', 'lbfgs', 'liblinear', 'sag', 'saga']) \n",
    "        'penalty' : hp.choice('penalty',['none', 'l1', 'l2', 'elasticnet']) \n",
    "    }\n",
    "def objective(search_space):\n",
    "    bayes = LogisticRegression(C = search_space['C'],max_iter = search_space['max_iter'],solver=search_space['solver'],penalty=search_space['penalty'])\n",
    "    accuracy = cross_val_score(bayes, X_train, y_train, cv = 4).mean()\n",
    "    return {'loss': accuracy, 'status': STATUS_OK }\n",
    "\n",
    "trials = Trials()\n",
    "\n",
    "\n",
    "# Training from bayes tuning\n",
    "\n",
    "\n",
    "start_time = time.time()\n",
    "\n",
    "\n",
    "best = fmin(fn= objective,\n",
    "            space= search_space,\n",
    "            algo= tpe.suggest,\n",
    "            max_evals = 50,\n",
    "            trials= trials)\n",
    "best\n",
    "\n",
    "\n",
    "slv = {0: 'newton-cg', 1: 'lbfgs', 2: 'liblinear', 3: 'sag', 4:'saga' }\n",
    "pen = {0: 'none', 1: 'l1', 2: 'l2','elasticnet'}\n",
    "trainedlrc  = LogisticRegression(C = best['C'],max_iter = best['max_iter'],solver= slv[best['solver']],penalty= pen[best['penalty']]).fit(X_train, y_train)\n",
    "\n",
    "bayesian_time =time.time() - start_time\n",
    "\n",
    "y_pred2 = trainedlrc.predict(X_test)"
   ]
  },
  {
   "cell_type": "markdown",
   "metadata": {
    "colab": {
     "base_uri": "https://localhost:8080/",
     "height": 343,
     "referenced_widgets": [
      "36f19e5fb76f4f0ebcc0b5be2da53fa1",
      "5cc45a0cbaec43eaaec1a9779ca4b10f",
      "9377873b536342f6b0de7a0ede6dd3bf",
      "1d74c59c120242f88ef47e65c586c510",
      "f571d187ebbe4581b02c09e7b67c415b",
      "f82586e062bd4484b0ad9480a7b274c7",
      "50839d61de2b4f95bc021f612c48a412",
      "4efaef546e78431f8ec9940d6bc26617"
     ]
    },
    "id": "GgciLUJBpU-0",
    "outputId": "645c006f-0b03-45bd-b5d8-e13f5cc2d0a0"
   },
   "source": [
    "## Genetic Algrorithim\n",
    "\n",
    "5 Generations are used for testing and there is an early stoppage time of 5 minutes."
   ]
  },
  {
   "cell_type": "code",
   "execution_count": 21,
   "metadata": {
    "colab": {
     "base_uri": "https://localhost:8080/",
     "height": 343,
     "referenced_widgets": [
      "36f19e5fb76f4f0ebcc0b5be2da53fa1",
      "5cc45a0cbaec43eaaec1a9779ca4b10f",
      "9377873b536342f6b0de7a0ede6dd3bf",
      "1d74c59c120242f88ef47e65c586c510",
      "f571d187ebbe4581b02c09e7b67c415b",
      "f82586e062bd4484b0ad9480a7b274c7",
      "50839d61de2b4f95bc021f612c48a412",
      "4efaef546e78431f8ec9940d6bc26617"
     ]
    },
    "id": "GgciLUJBpU-0",
    "outputId": "645c006f-0b03-45bd-b5d8-e13f5cc2d0a0"
   },
   "outputs": [
    {
     "name": "stdout",
     "output_type": "stream",
     "text": [
      "32 operators have been imported by TPOT.\n"
     ]
    },
    {
     "data": {
      "application/vnd.jupyter.widget-view+json": {
       "model_id": "",
       "version_major": 2,
       "version_minor": 0
      },
      "text/plain": [
       "HBox(children=(FloatProgress(value=0.0, description='Optimization Progress', max=120.0, style=ProgressStyle(de…"
      ]
     },
     "metadata": {},
     "output_type": "display_data"
    },
    {
     "name": "stdout",
     "output_type": "stream",
     "text": [
      "Pipeline encountered that has previously been evaluated during the optimization process. Using the score from the previous evaluation.\n",
      "Skipped pipeline #32 due to time out. Continuing to the next pipeline.\n",
      "\n",
      "Generation 1 - Current Pareto front scores:\n",
      "-1\t0.9843380234899428\tExtraTreesClassifier(input_matrix, ExtraTreesClassifier__bootstrap=True, ExtraTreesClassifier__criterion=gini, ExtraTreesClassifier__max_features=1.0, ExtraTreesClassifier__min_samples_leaf=9, ExtraTreesClassifier__min_samples_split=3, ExtraTreesClassifier__n_estimators=100)\n",
      "-2\t0.9846454073523903\tGaussianNB(RandomForestClassifier(input_matrix, RandomForestClassifier__bootstrap=True, RandomForestClassifier__criterion=gini, RandomForestClassifier__max_features=0.9000000000000001, RandomForestClassifier__min_samples_leaf=12, RandomForestClassifier__min_samples_split=13, RandomForestClassifier__n_estimators=100))\n",
      "Generation 2 - Current Pareto front scores:\n",
      "-1\t0.9843380234899428\tExtraTreesClassifier(input_matrix, ExtraTreesClassifier__bootstrap=True, ExtraTreesClassifier__criterion=gini, ExtraTreesClassifier__max_features=1.0, ExtraTreesClassifier__min_samples_leaf=9, ExtraTreesClassifier__min_samples_split=3, ExtraTreesClassifier__n_estimators=100)\n",
      "_pre_test decorator: _random_mutation_operator: num_test=0 Found array with 0 feature(s) (shape=(50, 0)) while a minimum of 1 is required..rion=gini, RandomForestClassifier__max_features=0.9000000000000001, RandomForestClassifier__min_samples_leaf=12, RandomForestClassifier__min_samples_split=13, RandomForestClassifier__n_estimators=100))\n",
      "_pre_test decorator: _random_mutation_operator: num_test=0 Found array with 0 feature(s) (shape=(50, 0)) while a minimum of 1 is required..\n",
      "Skipped pipeline #73 due to time out. Continuing to the next pipeline.\n",
      "\n",
      "Generation 3 - Current Pareto front scores:\n",
      "-1\t0.9843380234899428\tExtraTreesClassifier(input_matrix, ExtraTreesClassifier__bootstrap=True, ExtraTreesClassifier__criterion=gini, ExtraTreesClassifier__max_features=1.0, ExtraTreesClassifier__min_samples_leaf=9, ExtraTreesClassifier__min_samples_split=3, ExtraTreesClassifier__n_estimators=100)\n",
      "Skipped pipeline #100 due to time out. Continuing to the next pipeline.andomForestClassifier__bootstrap=True, RandomForestClassifier__criterion=gini, RandomForestClassifier__max_features=0.9000000000000001, RandomForestClassifier__min_samples_leaf=12, RandomForestClassifier__min_samples_split=13, RandomForestClassifier__n_estimators=100))\n",
      "\n",
      "Generation 4 - Current Pareto front scores:\n",
      "_pre_test decorator: _random_mutation_operator: num_test=0 Found array with 0 feature(s) (shape=(50, 0)) while a minimum of 1 is required..raTreesClassifier__max_features=0.7500000000000001, ExtraTreesClassifier__min_samples_leaf=13, ExtraTreesClassifier__min_samples_split=12, ExtraTreesClassifier__n_estimators=100)\n",
      "_pre_test decorator: _random_mutation_operator: num_test=1 Solver lbfgs supports only 'l2' or 'none' penalties, got l1 penalty..\n",
      "_pre_test decorator: _random_mutation_operator: num_test=2 Found array with 0 feature(s) (shape=(50, 0)) while a minimum of 1 is required..\n",
      "Pipeline encountered that has previously been evaluated during the optimization process. Using the score from the previous evaluation.\n",
      "Skipped pipeline #112 due to time out. Continuing to the next pipeline.\n",
      "Skipped pipeline #115 due to time out. Continuing to the next pipeline.\n",
      "\n",
      "Generation 5 - Current Pareto front scores:\n",
      "-1\t0.9849599338122712\tExtraTreesClassifier(input_matrix, ExtraTreesClassifier__bootstrap=True, ExtraTreesClassifier__criterion=entropy, ExtraTreesClassifier__max_features=0.7000000000000001, ExtraTreesClassifier__min_samples_leaf=15, ExtraTreesClassifier__min_samples_split=14, ExtraTreesClassifier__n_estimators=100)"
     ]
    }
   ],
   "source": [
    "# The genetic algorithim part\n",
    "\n",
    "lrc_tpot = TPOTClassifier(verbosity=3, \n",
    " scoring='accuracy', \n",
    " random_state=32, \n",
    " n_jobs=-1, \n",
    " generations=5, \n",
    " population_size=20,\n",
    " early_stop=5)\n",
    "\n",
    "start_time = time.time()\n",
    "\n",
    "lrc_tpot.fit(X_train, y_train) \n",
    "\n",
    "genetic_time = time.time() - start_time"
   ]
  },
  {
   "cell_type": "code",
   "execution_count": 22,
   "metadata": {
    "id": "d4DCnEstpU-3"
   },
   "outputs": [],
   "source": [
    "predictions3 = lrc_tpot.predict(X_test)"
   ]
  },
  {
   "cell_type": "markdown",
   "metadata": {
    "id": "M_cy47LtpU-5"
   },
   "source": [
    "## Results\n",
    "\n",
    "The results for LRC with the time it took to train. The results are displayed as a classification report with precision,recall,accuracy and f1 score recorded."
   ]
  },
  {
   "cell_type": "code",
   "execution_count": 23,
   "metadata": {
    "colab": {
     "base_uri": "https://localhost:8080/",
     "height": 697
    },
    "id": "gqlX1QxDpU-7",
    "outputId": "6765725b-6c46-4fff-8c2b-2552284bd1df"
   },
   "outputs": [
    {
     "name": "stdout",
     "output_type": "stream",
     "text": [
      "0.5604255199432373 seconds it took to train without tuning\n",
      "              precision    recall  f1-score   support\n",
      "\n",
      "           0       0.79      0.98      0.88     35954\n",
      "           1       0.66      0.14      0.23     10678\n",
      "\n",
      "    accuracy                           0.79     46632\n",
      "   macro avg       0.73      0.56      0.55     46632\n",
      "weighted avg       0.76      0.79      0.73     46632\n",
      "\n",
      "43537.440590143204 seconds it took to train with Random search tuning\n",
      "              precision    recall  f1-score   support\n",
      "\n",
      "           0       0.83      0.96      0.89     35954\n",
      "           1       0.73      0.36      0.48     10678\n",
      "\n",
      "    accuracy                           0.82     46632\n",
      "   macro avg       0.78      0.66      0.69     46632\n",
      "weighted avg       0.81      0.82      0.80     46632\n",
      "\n",
      "112.39598250389099 seconds it took to train with Bayesian search tuning \n",
      "              precision    recall  f1-score   support\n",
      "\n",
      "           0       0.79      0.98      0.88     35954\n",
      "           1       0.66      0.14      0.23     10678\n",
      "\n",
      "    accuracy                           0.79     46632\n",
      "   macro avg       0.73      0.56      0.55     46632\n",
      "weighted avg       0.76      0.79      0.73     46632\n",
      "\n",
      "4058.018721342087 seconds it took to train genetic algorithim\n",
      "              precision    recall  f1-score   support\n",
      "\n",
      "           0       0.99      0.99      0.99     35954\n",
      "           1       0.97      0.96      0.96     10678\n",
      "\n",
      "    accuracy                           0.98     46632\n",
      "   macro avg       0.98      0.97      0.98     46632\n",
      "weighted avg       0.98      0.98      0.98     46632\n",
      "\n"
     ]
    }
   ],
   "source": [
    "# Results of training (time and classification report)\n",
    "\n",
    "#1 Result of LRC without tuning\n",
    "print(\"%s seconds it took to train without tuning\" % (sv_notune))    \n",
    "print(classification_report(y_test,y_pred))\n",
    "\n",
    "#2 Result of LRC with Random search tuning\n",
    "print(\"%s seconds it took to train with Random search tuning\" % (random_time))\n",
    "print(classification_report(y_test,y_pred1))\n",
    "\n",
    "#3 Result of LRC with Bayesian search tuning \n",
    "print(\"%s seconds it took to train with Bayesian search tuning \" % (bayesian_time))\n",
    "print(classification_report(y_test,y_pred2))\n",
    "\n",
    "#4 Result of Classification with Genetic Algorithim\n",
    "print(\"%s seconds it took to train genetic algorithim\" % (genetic_time))\n",
    "print(classification_report(y_test,predictions3))\n"
   ]
  },
  {
   "cell_type": "code",
   "execution_count": null,
   "metadata": {
    "id": "VmI8X-1LpU-9"
   },
   "outputs": [],
   "source": []
  }
 ],
 "metadata": {
  "colab": {
   "collapsed_sections": [],
   "name": "Classifier-test.ipynb",
   "provenance": []
  },
  "kernelspec": {
   "display_name": "Python 3",
   "language": "python",
   "name": "python3"
  },
  "language_info": {
   "codemirror_mode": {
    "name": "ipython",
    "version": 3
   },
   "file_extension": ".py",
   "mimetype": "text/x-python",
   "name": "python",
   "nbconvert_exporter": "python",
   "pygments_lexer": "ipython3",
   "version": "3.7.4"
  },
  "widgets": {
   "application/vnd.jupyter.widget-state+json": {
    "1d74c59c120242f88ef47e65c586c510": {
     "model_module": "@jupyter-widgets/controls",
     "model_name": "HTMLModel",
     "state": {
      "_dom_classes": [],
      "_model_module": "@jupyter-widgets/controls",
      "_model_module_version": "1.5.0",
      "_model_name": "HTMLModel",
      "_view_count": null,
      "_view_module": "@jupyter-widgets/controls",
      "_view_module_version": "1.5.0",
      "_view_name": "HTMLView",
      "description": "",
      "description_tooltip": null,
      "layout": "IPY_MODEL_4efaef546e78431f8ec9940d6bc26617",
      "placeholder": "​",
      "style": "IPY_MODEL_50839d61de2b4f95bc021f612c48a412",
      "value": " 63/? [57:19&lt;00:00, 71.28s/pipeline]"
     }
    },
    "36f19e5fb76f4f0ebcc0b5be2da53fa1": {
     "model_module": "@jupyter-widgets/controls",
     "model_name": "HBoxModel",
     "state": {
      "_dom_classes": [],
      "_model_module": "@jupyter-widgets/controls",
      "_model_module_version": "1.5.0",
      "_model_name": "HBoxModel",
      "_view_count": null,
      "_view_module": "@jupyter-widgets/controls",
      "_view_module_version": "1.5.0",
      "_view_name": "HBoxView",
      "box_style": "",
      "children": [
       "IPY_MODEL_9377873b536342f6b0de7a0ede6dd3bf",
       "IPY_MODEL_1d74c59c120242f88ef47e65c586c510"
      ],
      "layout": "IPY_MODEL_5cc45a0cbaec43eaaec1a9779ca4b10f"
     }
    },
    "4efaef546e78431f8ec9940d6bc26617": {
     "model_module": "@jupyter-widgets/base",
     "model_name": "LayoutModel",
     "state": {
      "_model_module": "@jupyter-widgets/base",
      "_model_module_version": "1.2.0",
      "_model_name": "LayoutModel",
      "_view_count": null,
      "_view_module": "@jupyter-widgets/base",
      "_view_module_version": "1.2.0",
      "_view_name": "LayoutView",
      "align_content": null,
      "align_items": null,
      "align_self": null,
      "border": null,
      "bottom": null,
      "display": null,
      "flex": null,
      "flex_flow": null,
      "grid_area": null,
      "grid_auto_columns": null,
      "grid_auto_flow": null,
      "grid_auto_rows": null,
      "grid_column": null,
      "grid_gap": null,
      "grid_row": null,
      "grid_template_areas": null,
      "grid_template_columns": null,
      "grid_template_rows": null,
      "height": null,
      "justify_content": null,
      "justify_items": null,
      "left": null,
      "margin": null,
      "max_height": null,
      "max_width": null,
      "min_height": null,
      "min_width": null,
      "object_fit": null,
      "object_position": null,
      "order": null,
      "overflow": null,
      "overflow_x": null,
      "overflow_y": null,
      "padding": null,
      "right": null,
      "top": null,
      "visibility": null,
      "width": null
     }
    },
    "50839d61de2b4f95bc021f612c48a412": {
     "model_module": "@jupyter-widgets/controls",
     "model_name": "DescriptionStyleModel",
     "state": {
      "_model_module": "@jupyter-widgets/controls",
      "_model_module_version": "1.5.0",
      "_model_name": "DescriptionStyleModel",
      "_view_count": null,
      "_view_module": "@jupyter-widgets/base",
      "_view_module_version": "1.2.0",
      "_view_name": "StyleView",
      "description_width": ""
     }
    },
    "5cc45a0cbaec43eaaec1a9779ca4b10f": {
     "model_module": "@jupyter-widgets/base",
     "model_name": "LayoutModel",
     "state": {
      "_model_module": "@jupyter-widgets/base",
      "_model_module_version": "1.2.0",
      "_model_name": "LayoutModel",
      "_view_count": null,
      "_view_module": "@jupyter-widgets/base",
      "_view_module_version": "1.2.0",
      "_view_name": "LayoutView",
      "align_content": null,
      "align_items": null,
      "align_self": null,
      "border": null,
      "bottom": null,
      "display": null,
      "flex": null,
      "flex_flow": null,
      "grid_area": null,
      "grid_auto_columns": null,
      "grid_auto_flow": null,
      "grid_auto_rows": null,
      "grid_column": null,
      "grid_gap": null,
      "grid_row": null,
      "grid_template_areas": null,
      "grid_template_columns": null,
      "grid_template_rows": null,
      "height": null,
      "justify_content": null,
      "justify_items": null,
      "left": null,
      "margin": null,
      "max_height": null,
      "max_width": null,
      "min_height": null,
      "min_width": null,
      "object_fit": null,
      "object_position": null,
      "order": null,
      "overflow": null,
      "overflow_x": null,
      "overflow_y": null,
      "padding": null,
      "right": null,
      "top": null,
      "visibility": null,
      "width": null
     }
    },
    "9377873b536342f6b0de7a0ede6dd3bf": {
     "model_module": "@jupyter-widgets/controls",
     "model_name": "FloatProgressModel",
     "state": {
      "_dom_classes": [],
      "_model_module": "@jupyter-widgets/controls",
      "_model_module_version": "1.5.0",
      "_model_name": "FloatProgressModel",
      "_view_count": null,
      "_view_module": "@jupyter-widgets/controls",
      "_view_module_version": "1.5.0",
      "_view_name": "ProgressView",
      "bar_style": "",
      "description": "Optimization Progress: ",
      "description_tooltip": null,
      "layout": "IPY_MODEL_f82586e062bd4484b0ad9480a7b274c7",
      "max": 60,
      "min": 0,
      "orientation": "horizontal",
      "style": "IPY_MODEL_f571d187ebbe4581b02c09e7b67c415b",
      "value": 60
     }
    },
    "f571d187ebbe4581b02c09e7b67c415b": {
     "model_module": "@jupyter-widgets/controls",
     "model_name": "ProgressStyleModel",
     "state": {
      "_model_module": "@jupyter-widgets/controls",
      "_model_module_version": "1.5.0",
      "_model_name": "ProgressStyleModel",
      "_view_count": null,
      "_view_module": "@jupyter-widgets/base",
      "_view_module_version": "1.2.0",
      "_view_name": "StyleView",
      "bar_color": null,
      "description_width": "initial"
     }
    },
    "f82586e062bd4484b0ad9480a7b274c7": {
     "model_module": "@jupyter-widgets/base",
     "model_name": "LayoutModel",
     "state": {
      "_model_module": "@jupyter-widgets/base",
      "_model_module_version": "1.2.0",
      "_model_name": "LayoutModel",
      "_view_count": null,
      "_view_module": "@jupyter-widgets/base",
      "_view_module_version": "1.2.0",
      "_view_name": "LayoutView",
      "align_content": null,
      "align_items": null,
      "align_self": null,
      "border": null,
      "bottom": null,
      "display": null,
      "flex": null,
      "flex_flow": null,
      "grid_area": null,
      "grid_auto_columns": null,
      "grid_auto_flow": null,
      "grid_auto_rows": null,
      "grid_column": null,
      "grid_gap": null,
      "grid_row": null,
      "grid_template_areas": null,
      "grid_template_columns": null,
      "grid_template_rows": null,
      "height": null,
      "justify_content": null,
      "justify_items": null,
      "left": null,
      "margin": null,
      "max_height": null,
      "max_width": null,
      "min_height": null,
      "min_width": null,
      "object_fit": null,
      "object_position": null,
      "order": null,
      "overflow": null,
      "overflow_x": null,
      "overflow_y": null,
      "padding": null,
      "right": null,
      "top": null,
      "visibility": null,
      "width": null
     }
    }
   }
  }
 },
 "nbformat": 4,
 "nbformat_minor": 4
}
